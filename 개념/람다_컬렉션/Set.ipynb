{
 "cells": [
  {
   "cell_type": "markdown",
   "metadata": {},
   "source": [
    "## 코틀린 Set (Kotlin Set)\n\n`Set`은 리스트와 유사하지만, 두 가지 중요한 특징이 있습니다.\n\n1.  **중복을 허용하지 않습니다.**\n2.  **순서가 보장되지 않습니다.** (단, 코틀린의 기본 `setOf`는 `LinkedHashSet`을 반환하므로 입력 순서가 유지됩니다.)\n\n리스트나 맵과 마찬가지로 `setOf()` 함수를 사용하여 변경 불가능한(immutable) Set을, `mutableSetOf()`를 사용하여 변경 가능한(mutable) Set을 생성할 수 있습니다."
   ]
  },
  {
   "cell_type": "markdown",
   "metadata": {},
   "source": [
    "### 1. 변경 불가능한 Set (Immutable Set)\n",
    "\n",
    "`setOf()`로 생성한 Set은 읽기 전용입니다. 요소의 추가, 삭제와 같은 변경 작업을 수행하는 함수(`plus`, `minus` 등)는 Set을 직접 수정하는 것이 아니라, 변경 사항이 적용된 **새로운** Set을 반환합니다.\n",
    "- plus, minus, average, drop 등등"
   ]
  },
  {
   "cell_type": "code",
   "metadata": {
    "ExecuteTime": {
     "end_time": "2025-09-12T12:23:31.967062Z",
     "start_time": "2025-09-12T12:23:31.697254Z"
    }
   },
   "source": [
    "val setInts = setOf(10, 15, 19, 5, 3, -22)\n",
    "println(\"원본 Set: $setInts\")\n",
    "\n",
    "// 1. 요소 추가 (plus)\n",
    "// plus 함수는 요소가 추가된 새로운 Set을 반환합니다. 원본 Set은 변경되지 않습니다.\n",
    "val newSetAfterPlus = setInts.plus(20)\n",
    "println(\"20 추가 후: $newSetAfterPlus\")\n",
    "println(\"plus 후 원본 Set: $setInts\")\n",
    "\n",
    "// 2. 중복 요소 추가 시도\n",
    "// Set은 중복을 허용하지 않으므로, 기존에 있는 10을 추가해도 아무런 변화가 없습니다.\n",
    "val newSetAfterDuplicate = setInts.plus(10)\n",
    "println(\"중복 요소 10 추가 시도 후: $newSetAfterDuplicate\")\n",
    "\n",
    "// 3. 요소 제거 (minus)\n",
    "// minus 함수 역시 요소가 제거된 새로운 Set을 반환합니다.\n",
    "val newSetAfterMinus = setInts.minus(19)\n",
    "println(\"19 제거 후: $newSetAfterMinus\")\n",
    "\n",
    "// 존재하지 않는 요소 제거 시도\n",
    "// 아무런 변화 없음\n",
    "val newSetAfterMinusNonExistent = setInts.minus(100)\n",
    "println(\"존재하지 않는 100 제거 시도 후: $newSetAfterMinusNonExistent\")\n",
    "\n",
    "// 4. 평균 구하기 (average)\n",
    "// 숫자 타입의 Set에서는 average() 함수로 평균을 구할 수 있습니다. 결과는 Double 타입입니다.\n",
    "println(\"Set 평균: ${setInts.average()}\")\n",
    "\n",
    "// 5. 앞의 요소 일부 버리기 (drop)\n",
    "// drop(n)은 맨 앞의 n개 요소를 제외한 나머지 요소로 구성된 새로운 Set을 반환합니다.\n",
    "val droppedSet = setInts.drop(3)\n",
    "println(\"앞 3개 요소 drop 후: $droppedSet\")"
   ],
   "outputs": [
    {
     "name": "stdout",
     "output_type": "stream",
     "text": [
      "원본 Set: [10, 15, 19, 5, 3, -22]\n",
      "20 추가 후: [10, 15, 19, 5, 3, -22, 20]\n",
      "plus 후 원본 Set: [10, 15, 19, 5, 3, -22]\n",
      "중복 요소 10 추가 시도 후: [10, 15, 19, 5, 3, -22]\n",
      "19 제거 후: [10, 15, 5, 3, -22]\n",
      "존재하지 않는 100 제거 시도 후: [10, 15, 19, 5, 3, -22]\n",
      "Set 평균: 5.0\n",
      "앞 3개 요소 drop 후: [5, 3, -22]\n"
     ]
    }
   ],
   "execution_count": 4
  },
  {
   "cell_type": "markdown",
   "metadata": {},
   "source": [
    "### 2. 변경 가능한 Set (Mutable Set)\n",
    "\n",
    "`mutableSetOf()`로 생성한 Set은 요소를 직접 추가하거나 삭제할 수 있습니다. (`add`, `remove` 등)\n",
    "\n",
    "**주의할 점:**\n",
    "- `MutableSet`이라도 `plus`, `minus`와 같은 함수를 사용하면 기존 Set이 변경되지 않고 **새로운** Set이 반환됩니다.\n",
    "- 이 함수들은 `Immutable` 인터페이스에 정의된 확장 함수이기 때문입니다.\n",
    "- 컬렉션을 직접 변경해야 할 때는 `add`, `remove`와 같은 `Mutable` 인터페이스의 함수를 사용해야 합니다."
   ]
  },
  {
   "cell_type": "code",
   "metadata": {
    "ExecuteTime": {
     "end_time": "2025-09-12T12:23:32.069614Z",
     "start_time": "2025-09-12T12:23:31.973546Z"
    }
   },
   "source": [
    "val mutableInts = mutableSetOf(1, 2, 3, 4, 5)\n",
    "println(\"원본 Mutable Set: $mutableInts\")\n",
    "\n",
    "// plus 함수는 MutableSet을 직접 변경하지 않습니다.\n",
    "mutableInts.plus(10) // 이 라인은 새로운 Set을 반환하지만, 그 결과를 아무데도 할당하지 않았습니다.\n",
    "println(\"plus(10) 호출 후 Mutable Set: $mutableInts\")\n",
    "val newSet = mutableInts.plus(10)\n",
    "println(\"plus 호출 후 할당 Set: $newSet\")\n",
    "// MutableSet을 직접 변경하려면 add 함수를 사용해야 합니다.\n",
    "mutableInts.add(10)\n",
    "println(\"add(10) 호출 후 Mutable Set: $mutableInts\")"
   ],
   "outputs": [
    {
     "name": "stdout",
     "output_type": "stream",
     "text": [
      "원본 Mutable Set: [1, 2, 3, 4, 5]\n",
      "plus(10) 호출 후 Mutable Set: [1, 2, 3, 4, 5]\n",
      "plus 호출 후 할당 Set: [1, 2, 3, 4, 5, 10]\n",
      "add(10) 호출 후 Mutable Set: [1, 2, 3, 4, 5, 10]\n"
     ]
    }
   ],
   "execution_count": 5
  },
  {
   "cell_type": "markdown",
   "metadata": {},
   "source": [
    "### 요약\n\n- `plus`, `minus` 같은 함수가 컬렉션을 변경하는 것처럼 보이지만 실제로는 그렇지 않을 수 있습니다.\n- 함수가 `Immutable` 인터페이스에 속해 있는지, `Mutable` 인터페이스에 속해 있는지 확인하는 것이 중요합니다.\n- 일반적으로 `Mutable` 인터페이스는 `Immutable` 인터페이스를 상속받으므로, `Immutable`의 모든 함수를 포함하면서 추가로 변경 가능한 함수들을 제공합니다."
   ]
  }
 ],
 "metadata": {
  "kernelspec": {
   "display_name": "Kotlin",
   "language": "kotlin",
   "name": "kotlin"
  },
  "language_info": {
   "codemirror_mode": "text/x-kotlin",
   "file_extension": ".kt",
   "mimetype": "text/x-kotlin",
   "name": "kotlin",
   "version": "1.9.23"
  }
 },
 "nbformat": 4,
 "nbformat_minor": 4
}
