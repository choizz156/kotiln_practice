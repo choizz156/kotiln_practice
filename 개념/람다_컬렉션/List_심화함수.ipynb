{
 "cells": [
  {
   "cell_type": "markdown",
   "metadata": {},
   "source": [
    "## 코틀린 리스트 심화 함수 (Advanced List Functions)\n\n코틀린은 자바의 컬렉션 프레임워크를 기반으로 하지만, 개발 편의성을 위해 매우 유용한 확장 함수들을 풍부하게 제공합니다. 여기서는 리스트를 다룰 때 자주 사용되는 여러 함수들을 살펴보겠습니다."
   ]
  },
  {
   "cell_type": "markdown",
   "metadata": {},
   "source": [
    "### 1. 요소 접근 및 순서 변경\n",
    "- first(), last(): 첫 번째와 마지막 요소를 가져옵니다.\n",
    "- asReversed(): 리스트를 뒤집은 순서로 보여주는 새로운 뷰(view)를 반환합니다. (원본 리스트는 변경되지 않음)"
   ]
  },
  {
   "cell_type": "code",
   "metadata": {
    "ExecuteTime": {
     "end_time": "2025-09-12T11:40:18.798696Z",
     "start_time": "2025-09-12T11:40:18.532752Z"
    }
   },
   "source": [
    "val seasons = listOf(\"봄\", \"여름\", \"가을\", \"겨울\")\n",
    "\n",
    "println(\"첫 요소: ${seasons.first()}\") // 봄\n",
    "println(\"마지막 요소: ${seasons.last()}\") // 겨울\n",
    "\n",
    "val reversedSeasons = seasons.asReversed()\n",
    "println(\"뒤집은 리스트: $reversedSeasons\") // [겨울, 가을, 여름, 봄]\n",
    "println(\"원래 리스트 : ${seasons}\")"
   ],
   "outputs": [
    {
     "name": "stdout",
     "output_type": "stream",
     "text": [
      "첫 요소: 봄\n",
      "마지막 요소: 겨울\n",
      "뒤집은 리스트: [겨울, 가을, 여름, 봄]\n",
      "원래 리스트 : [봄, 여름, 가을, 겨울]\n"
     ]
    }
   ],
   "execution_count": 1
  },
  {
   "cell_type": "markdown",
   "metadata": {},
   "source": [
    "#### 안전하게 요소 가져오기: `getOrNull()`\n",
    "\n",
    "- 존재하지 않는 인덱스로 요소에 접근하면 `IndexOutOfBoundsException` 예외가 발생합니다.\n",
    "- `getOrNull()` 함수를 사용하면 예외 대신 `null`을 반환받아 더 안전하게 코드를 작성할 수 있습니다."
   ]
  },
  {
   "cell_type": "code",
   "metadata": {
    "ExecuteTime": {
     "end_time": "2025-09-12T11:42:33.340543Z",
     "start_time": "2025-09-12T11:42:33.266170Z"
    }
   },
   "source": [
    "// seasons 리스트의 크기는 4 (인덱스는 0~3)\n",
    "\n",
    "// 잘못된 접근 (예외 발생)\n",
    "// println(seasons[4])\n",
    "\n",
    "// getOrNull()을 사용한 안전한 접근\n",
    "val elementAt5 = seasons.getOrNull(5)\n",
    "println(\"인덱스 5의 요소: $elementAt5\") // null"
   ],
   "outputs": [
    {
     "name": "stdout",
     "output_type": "stream",
     "text": [
      "인덱스 5의 요소: null\n"
     ]
    }
   ],
   "execution_count": 7
  },
  {
   "cell_type": "markdown",
   "metadata": {},
   "source": [
    "### 2. 컬렉션 조합하기"
   ]
  },
  {
   "cell_type": "markdown",
   "metadata": {},
   "source": [
    "#### `zip`: 두 리스트를 Pair의 리스트로 묶기\n",
    "\n",
    "- `zip` 함수는 두 리스트의 각 인덱스에 해당하는 요소들을 `Pair`로 묶어 새로운 리스트를 생성합니다.\n",
    "- 두 리스트의 길이가 다를 경우, 더 짧은 리스트의 길이에 맞춰집니다."
   ]
  },
  {
   "cell_type": "code",
   "metadata": {
    "ExecuteTime": {
     "end_time": "2025-09-12T11:43:18.167248Z",
     "start_time": "2025-09-12T11:43:18.084659Z"
    }
   },
   "source": [
    "val colors = listOf(\"Red\", \"Green\", \"Blue\")\nval numbers = listOf(1, 2, 3, 4)\n\nval zipped = colors.zip(numbers)\nprintln(\"zip 결과: $zipped\") // [(Red, 1), (Green, 2), (Blue, 3)]\n// 길이가 더 긴 numbers 리스트의 마지막 요소 '4'는 버려집니다."
   ],
   "outputs": [
    {
     "name": "stdout",
     "output_type": "stream",
     "text": [
      "zip 결과: [(Red, 1), (Green, 2), (Blue, 3)]\n"
     ]
    }
   ],
   "execution_count": 9
  },
  {
   "cell_type": "markdown",
   "metadata": {},
   "source": [
    "#### `+` 연산자: 두 리스트 합치기\n\n두 리스트의 모든 요소를 포함하는 새로운 리스트를 만들고 싶을 때는 `+` 연산자를 사용합니다."
   ]
  },
  {
   "cell_type": "code",
   "metadata": {
    "ExecuteTime": {
     "end_time": "2025-09-12T11:43:26.227063Z",
     "start_time": "2025-09-12T11:43:25.992212Z"
    }
   },
   "source": [
    "val colors = listOf(\"Red\", \"Green\")\nval seasons = listOf(\"봄\", \"여름\")\n\n// 잘못된 방법: 리스트 안에 리스트가 들어간 형태가 됨\nval listOfLists = listOf(colors, seasons)\nprintln(\"잘못된 병합: $listOfLists\") // [[Red, Green], [봄, 여름]]\n\n// '+' 연산자를 사용한 올바른 방법\nval combinedList = colors + seasons\nprintln(\"올바른 병합: $combinedList\") // [Red, Green, 봄, 여름]"
   ],
   "outputs": [
    {
     "name": "stdout",
     "output_type": "stream",
     "text": [
      "잘못된 병합: [[Red, Green], [봄, 여름]]\n",
      "올바른 병합: [Red, Green, 봄, 여름]\n"
     ]
    }
   ],
   "execution_count": 10
  },
  {
   "cell_type": "markdown",
   "metadata": {},
   "source": [
    "### 3. 중복 요소 다루기\n",
    "- `union`: 두 리스트를 합치면서 중복을 모두 제거합니다.\n",
    "- `distinct` : 한 리스트 내의 중복 요소를 제거합니다."
   ]
  },
  {
   "cell_type": "code",
   "metadata": {
    "ExecuteTime": {
     "end_time": "2025-09-12T11:48:12.081176Z",
     "start_time": "2025-09-12T11:48:11.963393Z"
    }
   },
   "source": [
    "val colorList = listOf(\"black\", \"white\", \"red\", \"black\", \"red\")\n",
    "val stringList = listOf(\"spring\", \"summer\", \"fall\", \"summer\")\n",
    "\n",
    "val noDupesList = colorList.union(stringList)\n",
    "println(\"union 결과: $noDupesList\") // [black, white, red, spring, summer, fall]\n",
    "println(\"union 결과(변수 할당 x): ${colorList.union(stringList)}\") // [black, white, red, spring, summer, fall]\n",
    "\n",
    "colorList.union(stringList)\n",
    "println(\"이건 union이 안됨: $colorList\") // 이건 안됨\n",
    "\n",
    "val noDupColors = colorList.distinct()\n",
    "println(\"distinct 결과: $noDupColors\") // [black, white, red]\n",
    "println(\"distinct 결과: ${ colorList.distinct()}\") // [black, white, red]\n"
   ],
   "outputs": [
    {
     "name": "stdout",
     "output_type": "stream",
     "text": [
      "union 결과: [black, white, red, spring, summer, fall]\n",
      "union 결과(변수 할당 x): [black, white, red, spring, summer, fall]\n",
      "이건 union이 안됨: [black, white, red, black, red]\n",
      "distinct 결과: [black, white, red]\n",
      "distinct 결과: [black, white, red]\n"
     ]
    }
   ],
   "execution_count": 16
  },
  {
   "cell_type": "markdown",
   "metadata": {},
   "source": [
    "### 4. 변경 가능한 리스트로 변환\n\n`toList()`가 읽기 전용 리스트를 반환하는 반면, `toMutableList()`는 수정이 가능한 리스트의 복사본을 반환합니다."
   ]
  },
  {
   "cell_type": "code",
   "metadata": {
    "ExecuteTime": {
     "end_time": "2025-09-12T11:50:01.776847Z",
     "start_time": "2025-09-12T11:50:01.723424Z"
    }
   },
   "source": [
    "val immutableSeasons = listOf(\"봄\", \"여름\", \"가을\", \"겨울\")\n\n// toMutableList()로 변경 가능한 복사본 생성\nval mutableSeasons = immutableSeasons.toMutableList()\n\n// 이제 요소 추가가 가능\nmutableSeasons.add(\"초여름\")\n\nprintln(\"원본 리스트: $immutableSeasons\")\nprintln(\"수정된 리스트: $mutableSeasons\")"
   ],
   "outputs": [
    {
     "name": "stdout",
     "output_type": "stream",
     "text": [
      "원본 리스트: [봄, 여름, 가을, 겨울]\n",
      "수정된 리스트: [봄, 여름, 가을, 겨울, 초여름]\n"
     ]
    }
   ],
   "execution_count": 19
  }
 ],
 "metadata": {
  "kernelspec": {
   "display_name": "Kotlin",
   "language": "kotlin",
   "name": "kotlin"
  },
  "language_info": {
   "codemirror_mode": "text/x-kotlin",
   "file_extension": ".kt",
   "mimetype": "text/x-kotlin",
   "name": "kotlin",
   "version": "1.9.23"
  }
 },
 "nbformat": 4,
 "nbformat_minor": 4
}
