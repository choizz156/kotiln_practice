{
 "cells": [
  {
   "metadata": {},
   "cell_type": "markdown",
   "source": [
    "# 코틀린 반공변성(Contravariance)\n",
    "- 상위 타입을 하위 타입 자리에 허용하는 것\n",
    "- `Rose <: Flower` 라면, `FlowerCare<Flower>`를 `FlowerCare<Rose>` 자리에 넣을 수 있게 만드는 것.\n"
   ]
  },
  {
   "metadata": {
    "ExecuteTime": {
     "end_time": "2025-09-18T06:27:55.134534Z",
     "start_time": "2025-09-18T06:27:54.982910Z"
    }
   },
   "cell_type": "code",
   "source": [
    "open class Flower(val name: String)\n",
    "class Rose : Flower(\"Rose\")\n",
    "class Daffodil : Flower(\"Daffodil\")\n",
    "\n",
    "interface FlowerCare<T> {\n",
    "    fun prune(flower: T)\n",
    "}\n",
    "\n",
    "class Garden<T : Flower>(\n",
    "    private val flowers: List<T>,\n",
    "    private val flowerCare: FlowerCare<T>\n",
    ") {\n",
    "    fun pickFlower(index: Int): T = flowers[index]\n",
    "    fun tendFlower(index: Int) = flowerCare.prune(flowers[index])\n",
    "}\n",
    "\n",
    "// Rose 전용 관리자\n",
    "val roseTender = object : FlowerCare<Rose> {\n",
    "    override fun prune(flower: Rose) {\n",
    "        println(\"I'm pruning a ${flower.name}\")\n",
    "    }\n",
    "}\n",
    "\n",
    "// Daffodil 전용 관리자 - 거의 동일한 로직!\n",
    "val daffodilTender = object : FlowerCare<Daffodil> {\n",
    "    override fun prune(flower: Daffodil) {\n",
    "        println(\"I'm pruning a ${flower.name}\")\n",
    "    }\n",
    "}\n",
    "\n",
    "val roseGarden = Garden(listOf(Rose(), Rose()), roseTender)\n",
    "val daffodilGarden = Garden(listOf(Daffodil(), Daffodil()), daffodilTender)"
   ],
   "outputs": [],
   "execution_count": 5
  },
  {
   "metadata": {
    "ExecuteTime": {
     "end_time": "2025-09-18T06:29:01.177457Z",
     "start_time": "2025-09-18T06:29:01.115232Z"
    }
   },
   "cell_type": "code",
   "source": [
    "interface FlowerCare<in T> {  // in 키워드 추가\n",
    "    fun prune(flower: T)\n",
    "}\n",
    "\n",
    "// 이제 하나의 구현체로 모든 정원에서 사용 가능!\n",
    "val flowerTender = object : FlowerCare<Flower> {\n",
    "    override fun prune(flower: Flower) {\n",
    "        println(\"I'm tending a ${flower.name}\")\n",
    "    }\n",
    "}\n",
    "\n",
    "val roseGarden1 = Garden(listOf(Rose(), Rose()), flowerTender)     // ✅ 작동!\n",
    "val daffodilGarden1 = Garden(listOf(Daffodil()), flowerTender)    // ✅ 작동!"
   ],
   "outputs": [
    {
     "ename": "org.jetbrains.kotlinx.jupyter.exceptions.ReplCompilerException",
     "evalue": "at Cell In[8], line 12, column 50: Type mismatch: inferred type is Line_11_jupyter.FlowerCare<Line_8_jupyter.Flower> but Line_8_jupyter.FlowerCare<TypeVariable(T)> was expected\nat Cell In[8], line 13, column 50: Type mismatch: inferred type is Line_11_jupyter.FlowerCare<Line_8_jupyter.Flower> but Line_8_jupyter.FlowerCare<TypeVariable(T)> was expected",
     "output_type": "error",
     "traceback": [
      "org.jetbrains.kotlinx.jupyter.exceptions.ReplCompilerException: at Cell In[8], line 12, column 50: Type mismatch: inferred type is Line_11_jupyter.FlowerCare<Line_8_jupyter.Flower> but Line_8_jupyter.FlowerCare<TypeVariable(T)> was expected",
      "at Cell In[8], line 13, column 50: Type mismatch: inferred type is Line_11_jupyter.FlowerCare<Line_8_jupyter.Flower> but Line_8_jupyter.FlowerCare<TypeVariable(T)> was expected",
      "\tat org.jetbrains.kotlinx.jupyter.repl.impl.JupyterCompilerImpl.compileSync(JupyterCompilerImpl.kt:152)",
      "\tat org.jetbrains.kotlinx.jupyter.repl.impl.InternalEvaluatorImpl.eval(InternalEvaluatorImpl.kt:127)",
      "\tat org.jetbrains.kotlinx.jupyter.repl.impl.CellExecutorImpl.execute_L4Nmkdk$lambda$9$lambda$1(CellExecutorImpl.kt:80)",
      "\tat org.jetbrains.kotlinx.jupyter.repl.impl.ReplForJupyterImpl.withHost(ReplForJupyterImpl.kt:794)",
      "\tat org.jetbrains.kotlinx.jupyter.repl.impl.CellExecutorImpl.execute-L4Nmkdk(CellExecutorImpl.kt:78)",
      "\tat org.jetbrains.kotlinx.jupyter.repl.execution.CellExecutor.execute-L4Nmkdk$default(CellExecutor.kt:14)",
      "\tat org.jetbrains.kotlinx.jupyter.repl.impl.ReplForJupyterImpl.evaluateUserCode-wNURfNM(ReplForJupyterImpl.kt:616)",
      "\tat org.jetbrains.kotlinx.jupyter.repl.impl.ReplForJupyterImpl.evalExImpl(ReplForJupyterImpl.kt:474)",
      "\tat org.jetbrains.kotlinx.jupyter.repl.impl.ReplForJupyterImpl.evalEx$lambda$20(ReplForJupyterImpl.kt:467)",
      "\tat org.jetbrains.kotlinx.jupyter.repl.impl.ReplForJupyterImpl.withEvalContext(ReplForJupyterImpl.kt:447)",
      "\tat org.jetbrains.kotlinx.jupyter.repl.impl.ReplForJupyterImpl.evalEx(ReplForJupyterImpl.kt:466)",
      "\tat org.jetbrains.kotlinx.jupyter.messaging.IdeCompatibleMessageRequestProcessor.processExecuteRequest$lambda$7$lambda$6$lambda$5(IdeCompatibleMessageRequestProcessor.kt:160)",
      "\tat org.jetbrains.kotlinx.jupyter.streams.BlockingSubstitutionEngine.withDataSubstitution(SubstitutionEngine.kt:70)",
      "\tat org.jetbrains.kotlinx.jupyter.streams.StreamSubstitutionManager.withSubstitutedStreams(StreamSubstitutionManager.kt:118)",
      "\tat org.jetbrains.kotlinx.jupyter.messaging.IdeCompatibleMessageRequestProcessor.withForkedIn(IdeCompatibleMessageRequestProcessor.kt:354)",
      "\tat org.jetbrains.kotlinx.jupyter.messaging.IdeCompatibleMessageRequestProcessor.evalWithIO$lambda$16$lambda$15(IdeCompatibleMessageRequestProcessor.kt:368)",
      "\tat org.jetbrains.kotlinx.jupyter.streams.BlockingSubstitutionEngine.withDataSubstitution(SubstitutionEngine.kt:70)",
      "\tat org.jetbrains.kotlinx.jupyter.streams.StreamSubstitutionManager.withSubstitutedStreams(StreamSubstitutionManager.kt:118)",
      "\tat org.jetbrains.kotlinx.jupyter.messaging.IdeCompatibleMessageRequestProcessor.withForkedErr(IdeCompatibleMessageRequestProcessor.kt:343)",
      "\tat org.jetbrains.kotlinx.jupyter.messaging.IdeCompatibleMessageRequestProcessor.evalWithIO$lambda$16(IdeCompatibleMessageRequestProcessor.kt:367)",
      "\tat org.jetbrains.kotlinx.jupyter.streams.BlockingSubstitutionEngine.withDataSubstitution(SubstitutionEngine.kt:70)",
      "\tat org.jetbrains.kotlinx.jupyter.streams.StreamSubstitutionManager.withSubstitutedStreams(StreamSubstitutionManager.kt:118)",
      "\tat org.jetbrains.kotlinx.jupyter.messaging.IdeCompatibleMessageRequestProcessor.withForkedOut(IdeCompatibleMessageRequestProcessor.kt:335)",
      "\tat org.jetbrains.kotlinx.jupyter.messaging.IdeCompatibleMessageRequestProcessor.evalWithIO(IdeCompatibleMessageRequestProcessor.kt:366)",
      "\tat org.jetbrains.kotlinx.jupyter.messaging.IdeCompatibleMessageRequestProcessor.processExecuteRequest$lambda$7$lambda$6(IdeCompatibleMessageRequestProcessor.kt:159)",
      "\tat org.jetbrains.kotlinx.jupyter.execution.JupyterExecutorImpl$Task.execute(JupyterExecutorImpl.kt:41)",
      "\tat org.jetbrains.kotlinx.jupyter.execution.JupyterExecutorImpl.executorThread$lambda$0(JupyterExecutorImpl.kt:83)",
      "\tat kotlin.concurrent.ThreadsKt$thread$thread$1.run(Thread.kt:30)",
      ""
     ]
    }
   ],
   "execution_count": 8
  },
  {
   "metadata": {},
   "cell_type": "markdown",
   "source": [
    "## 3. In Position vs Out Position\n",
    "- Out Position: 함수의 반환 타입 - 데이터를 \"내보내는\" 위치 : 위험 ❌\n",
    "- In Position: 함수의 매개변수 타입 - 데이터를 \"받아들이는\" 위치 : 안전 ✅\n",
    "#### 제약 이유\n",
    "- 타입 안정성 보장"
   ]
  },
  {
   "metadata": {
    "ExecuteTime": {
     "end_time": "2025-09-18T06:31:58.131483Z",
     "start_time": "2025-09-18T06:31:58.091701Z"
    }
   },
   "cell_type": "code",
   "source": [
    "class Garden<T : Flower>(\n",
    "    private val flowers: List<T>,\n",
    "    private val flowerCare: FlowerCare<T>\n",
    ") {\n",
    "    fun pickFlower(index: Int): T = flowers[index]\n",
    "    fun tendFlower(index: Int) = flowerCare.prune(flowers[index])\n",
    "}\n",
    "\n",
    "// 만약 반공변 인터페이스에서 반환이 가능하다면...\n",
    "interface FlowerCare<in T> {\n",
    "    fun prune(flower: T)\n",
    "    fun pick(): T  // 가정: 이것이 허용된다면...\n",
    "}\n",
    "\n",
    "val flowerTender = object : FlowerCare<Flower> {\n",
    "    override fun prune(flower: Flower) { /* ... */ }\n",
    "    override fun pick(): Flower = Flower(\"Generic\") // 일반적인 꽃 반환\n",
    "}\n",
    "\n",
    "val roseGarden: Garden<Rose> = Garden(listOf(Rose), flowerTender)\n",
    "val rose: Rose = roseGarden.pickFlower(0) // Rose를 기대하지만 Flower를 받음!"
   ],
   "outputs": [
    {
     "ename": "org.jetbrains.kotlinx.jupyter.exceptions.ReplCompilerException",
     "evalue": "at Cell In[10], line 12, column 17: Type parameter T is declared as 'in' but occurs in 'out' position in type T",
     "output_type": "error",
     "traceback": [
      "org.jetbrains.kotlinx.jupyter.exceptions.ReplCompilerException: at Cell In[10], line 12, column 17: Type parameter T is declared as 'in' but occurs in 'out' position in type T",
      "\tat org.jetbrains.kotlinx.jupyter.repl.impl.JupyterCompilerImpl.compileSync(JupyterCompilerImpl.kt:152)",
      "\tat org.jetbrains.kotlinx.jupyter.repl.impl.InternalEvaluatorImpl.eval(InternalEvaluatorImpl.kt:127)",
      "\tat org.jetbrains.kotlinx.jupyter.repl.impl.CellExecutorImpl.execute_L4Nmkdk$lambda$9$lambda$1(CellExecutorImpl.kt:80)",
      "\tat org.jetbrains.kotlinx.jupyter.repl.impl.ReplForJupyterImpl.withHost(ReplForJupyterImpl.kt:794)",
      "\tat org.jetbrains.kotlinx.jupyter.repl.impl.CellExecutorImpl.execute-L4Nmkdk(CellExecutorImpl.kt:78)",
      "\tat org.jetbrains.kotlinx.jupyter.repl.execution.CellExecutor.execute-L4Nmkdk$default(CellExecutor.kt:14)",
      "\tat org.jetbrains.kotlinx.jupyter.repl.impl.ReplForJupyterImpl.evaluateUserCode-wNURfNM(ReplForJupyterImpl.kt:616)",
      "\tat org.jetbrains.kotlinx.jupyter.repl.impl.ReplForJupyterImpl.evalExImpl(ReplForJupyterImpl.kt:474)",
      "\tat org.jetbrains.kotlinx.jupyter.repl.impl.ReplForJupyterImpl.evalEx$lambda$20(ReplForJupyterImpl.kt:467)",
      "\tat org.jetbrains.kotlinx.jupyter.repl.impl.ReplForJupyterImpl.withEvalContext(ReplForJupyterImpl.kt:447)",
      "\tat org.jetbrains.kotlinx.jupyter.repl.impl.ReplForJupyterImpl.evalEx(ReplForJupyterImpl.kt:466)",
      "\tat org.jetbrains.kotlinx.jupyter.messaging.IdeCompatibleMessageRequestProcessor.processExecuteRequest$lambda$7$lambda$6$lambda$5(IdeCompatibleMessageRequestProcessor.kt:160)",
      "\tat org.jetbrains.kotlinx.jupyter.streams.BlockingSubstitutionEngine.withDataSubstitution(SubstitutionEngine.kt:70)",
      "\tat org.jetbrains.kotlinx.jupyter.streams.StreamSubstitutionManager.withSubstitutedStreams(StreamSubstitutionManager.kt:118)",
      "\tat org.jetbrains.kotlinx.jupyter.messaging.IdeCompatibleMessageRequestProcessor.withForkedIn(IdeCompatibleMessageRequestProcessor.kt:354)",
      "\tat org.jetbrains.kotlinx.jupyter.messaging.IdeCompatibleMessageRequestProcessor.evalWithIO$lambda$16$lambda$15(IdeCompatibleMessageRequestProcessor.kt:368)",
      "\tat org.jetbrains.kotlinx.jupyter.streams.BlockingSubstitutionEngine.withDataSubstitution(SubstitutionEngine.kt:70)",
      "\tat org.jetbrains.kotlinx.jupyter.streams.StreamSubstitutionManager.withSubstitutedStreams(StreamSubstitutionManager.kt:118)",
      "\tat org.jetbrains.kotlinx.jupyter.messaging.IdeCompatibleMessageRequestProcessor.withForkedErr(IdeCompatibleMessageRequestProcessor.kt:343)",
      "\tat org.jetbrains.kotlinx.jupyter.messaging.IdeCompatibleMessageRequestProcessor.evalWithIO$lambda$16(IdeCompatibleMessageRequestProcessor.kt:367)",
      "\tat org.jetbrains.kotlinx.jupyter.streams.BlockingSubstitutionEngine.withDataSubstitution(SubstitutionEngine.kt:70)",
      "\tat org.jetbrains.kotlinx.jupyter.streams.StreamSubstitutionManager.withSubstitutedStreams(StreamSubstitutionManager.kt:118)",
      "\tat org.jetbrains.kotlinx.jupyter.messaging.IdeCompatibleMessageRequestProcessor.withForkedOut(IdeCompatibleMessageRequestProcessor.kt:335)",
      "\tat org.jetbrains.kotlinx.jupyter.messaging.IdeCompatibleMessageRequestProcessor.evalWithIO(IdeCompatibleMessageRequestProcessor.kt:366)",
      "\tat org.jetbrains.kotlinx.jupyter.messaging.IdeCompatibleMessageRequestProcessor.processExecuteRequest$lambda$7$lambda$6(IdeCompatibleMessageRequestProcessor.kt:159)",
      "\tat org.jetbrains.kotlinx.jupyter.execution.JupyterExecutorImpl$Task.execute(JupyterExecutorImpl.kt:41)",
      "\tat org.jetbrains.kotlinx.jupyter.execution.JupyterExecutorImpl.executorThread$lambda$0(JupyterExecutorImpl.kt:83)",
      "\tat kotlin.concurrent.ThreadsKt$thread$thread$1.run(Thread.kt:30)",
      ""
     ]
    }
   ],
   "execution_count": 10
  },
  {
   "metadata": {},
   "cell_type": "markdown",
   "source": [
    "### 실제 예시\n",
    "```kotlin\n",
    "interface EventHandler<in T> {\n",
    "    fun handle(event: T)\n",
    "}\n",
    "\n",
    "class UIEventHandler : EventHandler<UIEvent> {\n",
    "    override fun handle(event: UIEvent) {\n",
    "        println(\"Handling UI event: $event\")\n",
    "    }\n",
    "}\n",
    "\n",
    "// 더 구체적인 이벤트 타입에서도 사용 가능\n",
    "val buttonHandler: EventHandler<ButtonClickEvent> = UIEventHandler() // ✅\n",
    "```\n",
    "\n",
    "### 함수 타입에서 사용\n",
    "```kotiln\n",
    "// 함수 타입은 매개변수에 대해 반공변\n",
    "val flowerProcessor: (Flower) -> Unit = { flower ->\n",
    "    println(\"Processing ${flower.name}\")\n",
    "}\n",
    "\n",
    "val roseProcessor: (Rose) -> Unit = flowerProcessor // ✅ 가능!\n",
    "// Flower를 처리할 수 있으면 Rose도 처리 가능 (Rose는 Flower이므로)\n",
    "```"
   ]
  },
  {
   "metadata": {},
   "cell_type": "markdown",
   "source": [
    "## 공변성 선언 시점\n",
    "#### 선언 시점\n",
    "```kotlin\n",
    "// 인터페이스/클래스 선언할 때 variance 지정\n",
    "interface Producer<out T> { fun produce(): T }\n",
    "interface Consumer<in T> { fun consume(item: T) }\n",
    "```\n",
    "#### 사용 시점\n",
    "```kotlin\n",
    "// 사용할 때 variance 지정 (Java 스타일)\n",
    "fun processFlowers(care: FlowerCare<in Rose>) {\n",
    "    // Rose와 그 상위 타입을 받는 FlowerCare만 허용\n",
    "}\n",
    "```\n",
    "\n",
    "## 언제 사용?\n",
    "- Consumer 역할 (데이터를 받아서 처리)\n",
    "- 함수의 매개변수 타입\n",
    "- 이벤트 핸들러, 콜백 함수\n",
    "- 상위 타입 하나로 여러 하위 타입을 처리하고 싶을 때\n",
    "\n",
    "```kotlin\n",
    "// 정렬 비교자\n",
    "interface Comparator<in T> {\n",
    "    fun compare(a: T, b: T): Int\n",
    "}\n",
    "\n",
    "val flowerComparator: Comparator<Flower> = Comparator { a, b ->\n",
    "    a.name.compareTo(b.name)\n",
    "}\n",
    "\n",
    "// Rose 리스트도 정렬 가능\n",
    "val roses: List<Rose> = listOf(/*...*/)\n",
    "roses.sortedWith(flowerComparator) // ✅ 작동!\n",
    "```\n",
    "## 사용하지 말아야할 경우\n",
    "- Producer 역할 (데이터를 생성/반환)\n",
    "- 반환 타입이 중요한 경우\n",
    "- 타입 안전성을 엄격히 지켜야 하는 경우\n",
    "\n",
    "### 공변, 반 공변 비교\n",
    "| 구분    | 공변성 (Covariance) | 반공변성 (Contravariance) |\n",
    "| ----- | ---------------- | --------------------- |\n",
    "| 키워드   | `out`            | `in`                  |\n",
    "| 역할    | Producer (생산자)   | Consumer (소비자)        |\n",
    "| 허용 위치 | 반환 타입 (Out)      | 매개변수 (In)             |\n",
    "| 예시    | `List<out T>`    | `Comparator<in T>`    |\n"
   ]
  }
 ],
 "metadata": {
  "kernelspec": {
   "display_name": "Kotlin",
   "language": "kotlin",
   "name": "kotlin"
  },
  "language_info": {
   "name": "kotlin",
   "version": "2.2.20-dev-4982",
   "mimetype": "text/x-kotlin",
   "file_extension": ".kt",
   "pygments_lexer": "kotlin",
   "codemirror_mode": "text/x-kotlin",
   "nbconvert_exporter": ""
  }
 },
 "nbformat": 4,
 "nbformat_minor": 0
}
