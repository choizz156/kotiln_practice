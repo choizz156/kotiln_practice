{
 "cells": [
  {
   "metadata": {},
   "cell_type": "markdown",
   "source": [
    "# 코틀린 공변성(Covariance)\n",
    "- 타입 매개변수의 서브타입 관계가 제네릭 타입에도 보존되는 것\n"
   ]
  },
  {
   "metadata": {
    "ExecuteTime": {
     "end_time": "2025-09-18T05:53:11.038009Z",
     "start_time": "2025-09-18T05:53:10.806740Z"
    }
   },
   "cell_type": "code",
   "source": [
    "fun convertToInt(collection: List<Number>) {\n",
    "    for (element in collection) {\n",
    "        println(element.toInt())\n",
    "    }\n",
    "}\n",
    "\n",
    "//List는 공변\n",
    "val shrtList: List<Short> = listOf(1,2,3,4)\n",
    "convertToInt(shrtList)"
   ],
   "outputs": [
    {
     "name": "stdout",
     "output_type": "stream",
     "text": [
      "1\n",
      "2\n",
      "3\n",
      "4\n"
     ]
    }
   ],
   "execution_count": 1
  },
  {
   "metadata": {
    "ExecuteTime": {
     "end_time": "2025-09-18T05:54:54.958851Z",
     "start_time": "2025-09-18T05:54:54.889589Z"
    }
   },
   "cell_type": "code",
   "source": [
    "//문제상황\n",
    "fun converToInt2(collection: MutableList<Number>) {\n",
    "    for (element in collection) {\n",
    "        println(element.toInt())\n",
    "    }\n",
    "}\n",
    "\n",
    "// MutableList는 무공\n",
    "val shortList2: MutableList<Short> = mutableListOf(1, 2, 3, 4)\n",
    "converToInt2(shortList2)"
   ],
   "outputs": [
    {
     "ename": "org.jetbrains.kotlinx.jupyter.exceptions.ReplCompilerException",
     "evalue": "at Cell In[6], line 8, column 14: Type mismatch: inferred type is MutableList<Short> but MutableList<Number> was expected",
     "output_type": "error",
     "traceback": [
      "org.jetbrains.kotlinx.jupyter.exceptions.ReplCompilerException: at Cell In[6], line 8, column 14: Type mismatch: inferred type is MutableList<Short> but MutableList<Number> was expected",
      "\tat org.jetbrains.kotlinx.jupyter.repl.impl.JupyterCompilerImpl.compileSync(JupyterCompilerImpl.kt:152)",
      "\tat org.jetbrains.kotlinx.jupyter.repl.impl.InternalEvaluatorImpl.eval(InternalEvaluatorImpl.kt:127)",
      "\tat org.jetbrains.kotlinx.jupyter.repl.impl.CellExecutorImpl.execute_L4Nmkdk$lambda$9$lambda$1(CellExecutorImpl.kt:80)",
      "\tat org.jetbrains.kotlinx.jupyter.repl.impl.ReplForJupyterImpl.withHost(ReplForJupyterImpl.kt:794)",
      "\tat org.jetbrains.kotlinx.jupyter.repl.impl.CellExecutorImpl.execute-L4Nmkdk(CellExecutorImpl.kt:78)",
      "\tat org.jetbrains.kotlinx.jupyter.repl.execution.CellExecutor.execute-L4Nmkdk$default(CellExecutor.kt:14)",
      "\tat org.jetbrains.kotlinx.jupyter.repl.impl.ReplForJupyterImpl.evaluateUserCode-wNURfNM(ReplForJupyterImpl.kt:616)",
      "\tat org.jetbrains.kotlinx.jupyter.repl.impl.ReplForJupyterImpl.evalExImpl(ReplForJupyterImpl.kt:474)",
      "\tat org.jetbrains.kotlinx.jupyter.repl.impl.ReplForJupyterImpl.evalEx$lambda$20(ReplForJupyterImpl.kt:467)",
      "\tat org.jetbrains.kotlinx.jupyter.repl.impl.ReplForJupyterImpl.withEvalContext(ReplForJupyterImpl.kt:447)",
      "\tat org.jetbrains.kotlinx.jupyter.repl.impl.ReplForJupyterImpl.evalEx(ReplForJupyterImpl.kt:466)",
      "\tat org.jetbrains.kotlinx.jupyter.messaging.IdeCompatibleMessageRequestProcessor.processExecuteRequest$lambda$7$lambda$6$lambda$5(IdeCompatibleMessageRequestProcessor.kt:160)",
      "\tat org.jetbrains.kotlinx.jupyter.streams.BlockingSubstitutionEngine.withDataSubstitution(SubstitutionEngine.kt:70)",
      "\tat org.jetbrains.kotlinx.jupyter.streams.StreamSubstitutionManager.withSubstitutedStreams(StreamSubstitutionManager.kt:118)",
      "\tat org.jetbrains.kotlinx.jupyter.messaging.IdeCompatibleMessageRequestProcessor.withForkedIn(IdeCompatibleMessageRequestProcessor.kt:354)",
      "\tat org.jetbrains.kotlinx.jupyter.messaging.IdeCompatibleMessageRequestProcessor.evalWithIO$lambda$16$lambda$15(IdeCompatibleMessageRequestProcessor.kt:368)",
      "\tat org.jetbrains.kotlinx.jupyter.streams.BlockingSubstitutionEngine.withDataSubstitution(SubstitutionEngine.kt:70)",
      "\tat org.jetbrains.kotlinx.jupyter.streams.StreamSubstitutionManager.withSubstitutedStreams(StreamSubstitutionManager.kt:118)",
      "\tat org.jetbrains.kotlinx.jupyter.messaging.IdeCompatibleMessageRequestProcessor.withForkedErr(IdeCompatibleMessageRequestProcessor.kt:343)",
      "\tat org.jetbrains.kotlinx.jupyter.messaging.IdeCompatibleMessageRequestProcessor.evalWithIO$lambda$16(IdeCompatibleMessageRequestProcessor.kt:367)",
      "\tat org.jetbrains.kotlinx.jupyter.streams.BlockingSubstitutionEngine.withDataSubstitution(SubstitutionEngine.kt:70)",
      "\tat org.jetbrains.kotlinx.jupyter.streams.StreamSubstitutionManager.withSubstitutedStreams(StreamSubstitutionManager.kt:118)",
      "\tat org.jetbrains.kotlinx.jupyter.messaging.IdeCompatibleMessageRequestProcessor.withForkedOut(IdeCompatibleMessageRequestProcessor.kt:335)",
      "\tat org.jetbrains.kotlinx.jupyter.messaging.IdeCompatibleMessageRequestProcessor.evalWithIO(IdeCompatibleMessageRequestProcessor.kt:366)",
      "\tat org.jetbrains.kotlinx.jupyter.messaging.IdeCompatibleMessageRequestProcessor.processExecuteRequest$lambda$7$lambda$6(IdeCompatibleMessageRequestProcessor.kt:159)",
      "\tat org.jetbrains.kotlinx.jupyter.execution.JupyterExecutorImpl$Task.execute(JupyterExecutorImpl.kt:41)",
      "\tat org.jetbrains.kotlinx.jupyter.execution.JupyterExecutorImpl.executorThread$lambda$0(JupyterExecutorImpl.kt:83)",
      "\tat kotlin.concurrent.ThreadsKt$thread$thread$1.run(Thread.kt:30)",
      ""
     ]
    }
   ],
   "execution_count": 6
  },
  {
   "metadata": {},
   "cell_type": "markdown",
   "source": [
    "## 2. Variance(가변성) 핵심 개념\n",
    "\n",
    "- 무공변(invariant): MutableList<Short> ≠ MutableList<Number>\n",
    "- 공변(covariant): List<Short> <: List<Number> (out 키워드)\n",
    "- 반공변(contravariant): Consumer<Number> <: Consumer<Short> (in 키워드)"
   ]
  },
  {
   "metadata": {
    "ExecuteTime": {
     "end_time": "2025-09-18T06:03:39.360805Z",
     "start_time": "2025-09-18T06:03:39.273474Z"
    }
   },
   "cell_type": "code",
   "source": [
    "open class Flower\n",
    "class Rose : Flower()\n",
    "class Daisy : Flower()\n",
    "\n",
    "// 무공변성\n",
    "class Garden<T : Flower>{\n",
    "    private val flowers = mutableListOf<T>()\n",
    "\n",
    "    fun pickFlower(index: Int): T = flowers[index]\n",
    "//    fun plantFlwer(flower: T): T = flowers.add(flower) 오류\n",
    "}\n",
    "\n",
    "fun waterGarden(garden: Garden<Flower>) {\n",
    "    // 물주기 로직\n",
    "}\n",
    "\n",
    "fun tendGarden() {\n",
    "    val roseGarden = Garden<Rose>()\n",
    "   // waterGarden(roseGarden) // ❌ 오류: Garden<Rose>를 Garden<Flower>에 전달할 수 없음\n",
    "}\n",
    "\n",
    "\n"
   ],
   "outputs": [],
   "execution_count": 8
  },
  {
   "metadata": {
    "ExecuteTime": {
     "end_time": "2025-09-18T06:05:25.545800Z",
     "start_time": "2025-09-18T06:05:25.465809Z"
    }
   },
   "cell_type": "code",
   "source": [
    "//공변성\n",
    "class Garden<out T : Flower>{\n",
    "    private val flowers = mutableListOf<T>()\n",
    "    fun pickFlower(index: Int): T = flowers[index] // ✅ 가능 (out position)\n",
    "    // fun plantFlower(flower: T) // ❌ 불가능 (in position)\n",
    "}\n",
    "\n",
    "fun waterGarden(garden: Garden<Flower>) {\n",
    "    // 물주기 로직\n",
    "}\n",
    "\n",
    "fun tendGarden() {\n",
    "    val roseGarden = Garden<Rose>()\n",
    "    waterGarden(roseGarden) // ✅ 작동! 서브타입 관계 보존됨\n",
    "}"
   ],
   "outputs": [],
   "execution_count": 9
  },
  {
   "metadata": {},
   "cell_type": "markdown",
   "source": [
    "## 3. In Position vs Out Position\n",
    "- Out Position: 함수의 반환 타입 - 데이터를 \"내보내는\" 위치 : 안전 ✅\n",
    "- In Position: 함수의 매개변수 타입 - 데이터를 \"받아들이는\" 위치 : 위험 ❌\n",
    "#### 제약 이유\n",
    "- 타입 안정성 보장"
   ]
  },
  {
   "metadata": {},
   "cell_type": "code",
   "outputs": [],
   "execution_count": null,
   "source": [
    "class Container<out T> {\n",
    "    fun get(): T        // ✅ Out position - 허용\n",
    "    //fun set(value: T)   // ❌ In position - 금지\n",
    "}"
   ]
  },
  {
   "metadata": {},
   "cell_type": "code",
   "outputs": [],
   "execution_count": null,
   "source": [
    "// MutableList가 공변이 아닌 이유\n",
    "fun addNumber(list: MutableList<Number>) {\n",
    "    list.add(25.5) // Double을 추가\n",
    "}\n",
    "\n",
    "val shortList: MutableList<Short> = mutableListOf(1, 2, 3)\n",
    "addNumber(shortList) // Short 리스트에 Double이 들어감 - 타입 안전성 위반!"
   ]
  },
  {
   "metadata": {},
   "cell_type": "markdown",
   "source": [
    "#### @UnsafeVariance 주석\n",
    "읽기 전용 작업에서 안전하다고 확신할 때 컴파일러 경고를 억제"
   ]
  },
  {
   "metadata": {},
   "cell_type": "code",
   "outputs": [],
   "execution_count": null,
   "source": [
    "public interface List<out E> : Collection<E> {\n",
    "    // contains는 리스트를 변경하지 않으므로 안전\n",
    "    public operator fun contains(element: @UnsafeVariance E): Boolean\n",
    "}"
   ]
  },
  {
   "metadata": {},
   "cell_type": "markdown",
   "source": [
    "| 상황            | 선택         | 이유            |\n",
    "| ------------- | ---------- | ------------- |\n",
    "| 읽기 전용 컬렉션     | 공변 (`out`) | 타입 유연성 + 안전   |\n",
    "| 수정 가능한 컬렉션    | 무공변        | 타입 안전성 보장     |\n",
    "| 제네릭이 Producer | `out`      | 데이터를 생산(내보냄)  |\n",
    "| 제네릭이 Consumer | `in`       | 데이터를 소비(받아들임) |\n",
    "\n",
    "\n",
    "- 공변성(covariance)은 “읽기 전용 Producer”일 때만 적용한다.\n",
    "- 수정이 들어가면 안전하지 않으니 무공변으로 남겨둬야 한다."
   ]
  }
 ],
 "metadata": {
  "kernelspec": {
   "display_name": "Kotlin",
   "language": "kotlin",
   "name": "kotlin"
  },
  "language_info": {
   "name": "kotlin",
   "version": "2.2.20-dev-4982",
   "mimetype": "text/x-kotlin",
   "file_extension": ".kt",
   "pygments_lexer": "kotlin",
   "codemirror_mode": "text/x-kotlin",
   "nbconvert_exporter": ""
  }
 },
 "nbformat": 4,
 "nbformat_minor": 0
}
