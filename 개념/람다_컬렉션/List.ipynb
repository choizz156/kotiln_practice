{
 "cells": [
  {
   "cell_type": "markdown",
   "metadata": {},
   "source": [
    "## 코틀린 컬렉션 (Kotlin Collections)\n\n코틀린은 대부분 자바의 컬렉션 클래스를 내부적으로 사용하지만, 코틀린만의 강력한 기능들을 추가하여 활용도를 높였습니다. 모든 코틀린 컬렉션은 `kotlin.collections` 패키지에 정의되어 있으며, 자바와의 상호운용성이 매우 뛰어납니다."
   ]
  },
  {
   "cell_type": "markdown",
   "metadata": {},
   "source": [
    "### 변경 가능(Mutable) vs 변경 불가능(Immutable) 컬렉션\n\n코틀린의 컬렉션은 크게 두 가지로 나뉩니다.\n\n*   **Immutable Collections**: 한 번 생성되면 요소의 추가, 삭제, 변경이 불가능한 읽기 전용 컬렉션입니다. `listOf`, `setOf`, `mapOf` 등을 통해 생성합니다. 요소를 변경하는 함수를 호출하면, 새로운 인스턴스가 반환됩니다.\n*   **Mutable Collections**: 생성 후에도 요소의 추가, 삭제, 변경이 가능한 컬렉션입니다. `mutableListOf`, `mutableSetOf`, `mutableMapOf` 등을 통해 생성합니다."
   ]
  },
  {
   "cell_type": "markdown",
   "metadata": {},
   "source": [
    "### 1. 리스트 생성 (Creating Lists)"
   ]
  },
  {
   "cell_type": "markdown",
   "metadata": {},
   "source": [
    "#### 1.1. 변경 불가능한 리스트 (Immutable List)\n",
    "주의:\n",
    "- 이 클래스는 자바에서는 set() 메소드로 요소를 변경할 수 있지만,\n",
    "- 코틀린의 읽기 전용 List 인터페이스가 변경 관련 함수를 막아 불변성을 보장합니다.\n",
    "- 따라서 코틀린 코드에서는 안전하지만, 이 리스트를 자바 코드로 넘기면 변경될 수 있음을 인지해야 합니다."
   ]
  },
  {
   "cell_type": "code",
   "metadata": {
    "ExecuteTime": {
     "end_time": "2025-09-12T11:20:48.279028Z",
     "start_time": "2025-09-12T11:20:48.055673Z"
    }
   },
   "source": [
    "// listOf() 함수로 간단하게 생성할 수 있습니다.\n",
    "val seasons = listOf(\"봄\", \"여름\", \"가을\", \"겨울\")\n",
    "println(seasons)\n",
    "\n",
    "// listOf()가 반환하는 구체적인 클래스는 무엇일까요?\n",
    "// 코틀린의 List는 인터페이스이며, 실제로는 자바의 클래스를 사용합니다.\n",
    "println(seasons.javaClass) // class java.util.Arrays$ArrayList"
   ],
   "outputs": [
    {
     "name": "stdout",
     "output_type": "stream",
     "text": [
      "[봄, 여름, 가을, 겨울]\n",
      "class java.util.Arrays$ArrayList\n"
     ]
    }
   ],
   "execution_count": 1
  },
  {
   "cell_type": "markdown",
   "metadata": {},
   "source": [
    "#### 1.2. 빈 리스트 생성"
   ]
  },
  {
   "cell_type": "code",
   "metadata": {
    "ExecuteTime": {
     "end_time": "2025-09-12T11:23:39.165748Z",
     "start_time": "2025-09-12T11:23:39.028929Z"
    }
   },
   "source": [
    "// 타입을 명시하여 빈 리스트를 생성할 수 있습니다.\n",
    "val emptyList = emptyList<String>()\n",
    "println(emptyList)\n",
    "println(emptyList.javaClass) // class kotlin.collections.EmptyList\n",
    "\n",
    "// 빈 리스트의 요소를 조회하려고 하면 예외가 발생합니다.\n",
    "println(emptyList[0])\n",
    "if (emptyList.isNotEmpty()) {\n",
    "    println(emptyList[0])\n",
    "} else {\n",
    "    println(\"리스트가 비어있습니다.\")\n",
    "}"
   ],
   "outputs": [
    {
     "name": "stdout",
     "output_type": "stream",
     "text": [
      "[]\n",
      "class kotlin.collections.EmptyList\n"
     ]
    },
    {
     "ename": "java.lang.IndexOutOfBoundsException",
     "evalue": "Empty list doesn't contain element at index 0.",
     "output_type": "error",
     "traceback": [
      "java.lang.IndexOutOfBoundsException: Empty list doesn't contain element at index 0.",
      "\tat kotlin.collections.EmptyList.get(Collections.kt:37)",
      "\tat kotlin.collections.EmptyList.get(Collections.kt:25)",
      "\tat Line_4_jupyter.<init>(Line_4.jupyter.kts:7) at Cell In[3], line 7",
      "\tat java.base/jdk.internal.reflect.NativeConstructorAccessorImpl.newInstance0(Native Method)",
      "\tat java.base/jdk.internal.reflect.NativeConstructorAccessorImpl.newInstance(NativeConstructorAccessorImpl.java:77)",
      "\tat java.base/jdk.internal.reflect.DelegatingConstructorAccessorImpl.newInstance(DelegatingConstructorAccessorImpl.java:45)",
      "\tat java.base/java.lang.reflect.Constructor.newInstanceWithCaller(Constructor.java:499)",
      "\tat java.base/java.lang.reflect.Constructor.newInstance(Constructor.java:480)",
      "\tat kotlin.script.experimental.jvm.BasicJvmScriptEvaluator.evalWithConfigAndOtherScriptsResults(BasicJvmScriptEvaluator.kt:122)",
      "\tat kotlin.script.experimental.jvm.BasicJvmScriptEvaluator.invoke$suspendImpl(BasicJvmScriptEvaluator.kt:48)",
      "\tat kotlin.script.experimental.jvm.BasicJvmScriptEvaluator.invoke(BasicJvmScriptEvaluator.kt)",
      "\tat kotlin.script.experimental.jvm.BasicJvmReplEvaluator.eval(BasicJvmReplEvaluator.kt:49)",
      "\tat org.jetbrains.kotlinx.jupyter.repl.impl.InternalEvaluatorImpl$eval$resultWithDiagnostics$1.invokeSuspend(InternalEvaluatorImpl.kt:138)",
      "\tat kotlin.coroutines.jvm.internal.BaseContinuationImpl.resumeWith(ContinuationImpl.kt:34)",
      "\tat kotlinx.coroutines.DispatchedTask.run(DispatchedTask.kt:100)",
      "\tat kotlinx.coroutines.EventLoopImplBase.processNextEvent(EventLoop.common.kt:263)",
      "\tat kotlinx.coroutines.BlockingCoroutine.joinBlocking(Builders.kt:95)",
      "\tat kotlinx.coroutines.BuildersKt__BuildersKt.runBlocking(Builders.kt:69)",
      "\tat kotlinx.coroutines.BuildersKt.runBlocking(Unknown Source)",
      "\tat kotlinx.coroutines.BuildersKt__BuildersKt.runBlocking$default(Builders.kt:47)",
      "\tat kotlinx.coroutines.BuildersKt.runBlocking$default(Unknown Source)",
      "\tat org.jetbrains.kotlinx.jupyter.repl.impl.InternalEvaluatorImpl.eval(InternalEvaluatorImpl.kt:138)",
      "\tat org.jetbrains.kotlinx.jupyter.repl.impl.CellExecutorImpl.execute_L4Nmkdk$lambda$9$lambda$1(CellExecutorImpl.kt:80)",
      "\tat org.jetbrains.kotlinx.jupyter.repl.impl.ReplForJupyterImpl.withHost(ReplForJupyterImpl.kt:794)",
      "\tat org.jetbrains.kotlinx.jupyter.repl.impl.CellExecutorImpl.execute-L4Nmkdk(CellExecutorImpl.kt:78)",
      "\tat org.jetbrains.kotlinx.jupyter.repl.execution.CellExecutor.execute-L4Nmkdk$default(CellExecutor.kt:14)",
      "\tat org.jetbrains.kotlinx.jupyter.repl.impl.ReplForJupyterImpl.evaluateUserCode-wNURfNM(ReplForJupyterImpl.kt:616)",
      "\tat org.jetbrains.kotlinx.jupyter.repl.impl.ReplForJupyterImpl.evalExImpl(ReplForJupyterImpl.kt:474)",
      "\tat org.jetbrains.kotlinx.jupyter.repl.impl.ReplForJupyterImpl.evalEx$lambda$20(ReplForJupyterImpl.kt:467)",
      "\tat org.jetbrains.kotlinx.jupyter.repl.impl.ReplForJupyterImpl.withEvalContext(ReplForJupyterImpl.kt:447)",
      "\tat org.jetbrains.kotlinx.jupyter.repl.impl.ReplForJupyterImpl.evalEx(ReplForJupyterImpl.kt:466)",
      "\tat org.jetbrains.kotlinx.jupyter.messaging.IdeCompatibleMessageRequestProcessor.processExecuteRequest$lambda$7$lambda$6$lambda$5(IdeCompatibleMessageRequestProcessor.kt:160)",
      "\tat org.jetbrains.kotlinx.jupyter.streams.BlockingSubstitutionEngine.withDataSubstitution(SubstitutionEngine.kt:70)",
      "\tat org.jetbrains.kotlinx.jupyter.streams.StreamSubstitutionManager.withSubstitutedStreams(StreamSubstitutionManager.kt:118)",
      "\tat org.jetbrains.kotlinx.jupyter.messaging.IdeCompatibleMessageRequestProcessor.withForkedIn(IdeCompatibleMessageRequestProcessor.kt:354)",
      "\tat org.jetbrains.kotlinx.jupyter.messaging.IdeCompatibleMessageRequestProcessor.evalWithIO$lambda$16$lambda$15(IdeCompatibleMessageRequestProcessor.kt:368)",
      "\tat org.jetbrains.kotlinx.jupyter.streams.BlockingSubstitutionEngine.withDataSubstitution(SubstitutionEngine.kt:70)",
      "\tat org.jetbrains.kotlinx.jupyter.streams.StreamSubstitutionManager.withSubstitutedStreams(StreamSubstitutionManager.kt:118)",
      "\tat org.jetbrains.kotlinx.jupyter.messaging.IdeCompatibleMessageRequestProcessor.withForkedErr(IdeCompatibleMessageRequestProcessor.kt:343)",
      "\tat org.jetbrains.kotlinx.jupyter.messaging.IdeCompatibleMessageRequestProcessor.evalWithIO$lambda$16(IdeCompatibleMessageRequestProcessor.kt:367)",
      "\tat org.jetbrains.kotlinx.jupyter.streams.BlockingSubstitutionEngine.withDataSubstitution(SubstitutionEngine.kt:70)",
      "\tat org.jetbrains.kotlinx.jupyter.streams.StreamSubstitutionManager.withSubstitutedStreams(StreamSubstitutionManager.kt:118)",
      "\tat org.jetbrains.kotlinx.jupyter.messaging.IdeCompatibleMessageRequestProcessor.withForkedOut(IdeCompatibleMessageRequestProcessor.kt:335)",
      "\tat org.jetbrains.kotlinx.jupyter.messaging.IdeCompatibleMessageRequestProcessor.evalWithIO(IdeCompatibleMessageRequestProcessor.kt:366)",
      "\tat org.jetbrains.kotlinx.jupyter.messaging.IdeCompatibleMessageRequestProcessor.processExecuteRequest$lambda$7$lambda$6(IdeCompatibleMessageRequestProcessor.kt:159)",
      "\tat org.jetbrains.kotlinx.jupyter.execution.JupyterExecutorImpl$Task.execute(JupyterExecutorImpl.kt:41)",
      "\tat org.jetbrains.kotlinx.jupyter.execution.JupyterExecutorImpl.executorThread$lambda$0(JupyterExecutorImpl.kt:83)",
      "\tat kotlin.concurrent.ThreadsKt$thread$thread$1.run(Thread.kt:30)",
      "",
      "java.lang.IndexOutOfBoundsException: Empty list doesn't contain element at index 0.",
      "at Cell In[3], line 7"
     ]
    }
   ],
   "execution_count": 3
  },
  {
   "cell_type": "markdown",
   "metadata": {},
   "source": [
    "#### 1.3. Null을 제외한 리스트 생성\n",
    "- listOfNotNull() 함수는 인자로 전달된 값 중 null을 제외하고 리스트를 생성합니다."
   ]
  },
  {
   "cell_type": "code",
   "metadata": {
    "ExecuteTime": {
     "end_time": "2025-09-12T11:24:32.683279Z",
     "start_time": "2025-09-12T11:24:32.620009Z"
    }
   },
   "source": [
    "val notNullList = listOfNotNull(\"Hello\", null, \"World\", null)\n",
    "println(notNullList) // [Hello, World]"
   ],
   "outputs": [
    {
     "name": "stdout",
     "output_type": "stream",
     "text": [
      "[Hello, World]\n"
     ]
    }
   ],
   "execution_count": 4
  },
  {
   "cell_type": "markdown",
   "metadata": {},
   "source": [
    "#### 1.4. 변경 가능한 리스트 (Mutable List)\n",
    "- mutableListOf() 또는 arrayListOf()로 생성할 수 있습니다.\n",
    "- 두 함수 모두 내부적으로 java.util.ArrayList를 반환합니다."
   ]
  },
  {
   "cell_type": "code",
   "metadata": {
    "ExecuteTime": {
     "end_time": "2025-09-12T11:32:57.923315Z",
     "start_time": "2025-09-12T11:32:57.783193Z"
    }
   },
   "source": [
    "val mutableList = mutableListOf(1, 2, 3)\n",
    "println(mutableList.javaClass) // class java.util.ArrayList\n",
    "\n",
    "// 요소 추가, 삭제, 변경이 가능합니다.\n",
    "mutableList.add(4) //뒤부터 들어감\n",
    "println(mutableList)\n",
    "mutableList.add(0, -2)//인덱스 지정 가능\n",
    "println(mutableList)\n",
    "mutableList.removeAt(0)\n",
    "println(mutableList)\n",
    "mutableList[1] = 20\n",
    "println(mutableList)"
   ],
   "outputs": [
    {
     "name": "stdout",
     "output_type": "stream",
     "text": [
      "class java.util.ArrayList\n",
      "[1, 2, 3, 4]\n",
      "[-2, 1, 2, 3, 4]\n",
      "[1, 2, 3, 4]\n",
      "[1, 20, 3, 4]\n"
     ]
    }
   ],
   "execution_count": 9
  },
  {
   "cell_type": "markdown",
   "metadata": {},
   "source": "### 2. 배열을 리스트로 변환하기"
  },
  {
   "cell_type": "code",
   "metadata": {
    "ExecuteTime": {
     "end_time": "2025-09-12T11:30:45.834502Z",
     "start_time": "2025-09-12T11:30:45.628353Z"
    }
   },
   "source": [
    "val colors = arrayOf(\"Red\", \"Green\", \"Blue\")\n",
    "\n",
    "// 잘못된 방법: 배열 자체가 하나의 요소인 리스트가 생성됩니다.\n",
    "val wrongList = listOf(colors)\n",
    "println(wrongList) // [[Ljava.lang.String;@... ]\n",
    "\n",
    "// 방법 1: 스프레드 연산자(*)를 사용하여 배열의 요소를 펼쳐서 전달합니다.\n",
    "val spreadList = listOf(*colors)\n",
    "println(spreadList) // [Red, Green, Blue]\n",
    "\n",
    "// 방법 2: toList() 확장 함수를 사용하는 것이 가장 간단하고 권장되는 방법입니다.\n",
    "val correctList = colors.toList()\n",
    "println(correctList) // [Red, Green, Blue]"
   ],
   "outputs": [
    {
     "name": "stdout",
     "output_type": "stream",
     "text": [
      "[[Ljava.lang.String;@1033ca8e]\n",
      "[Red, Green, Blue]\n",
      "[Red, Green, Blue]\n"
     ]
    }
   ],
   "execution_count": 8
  },
  {
   "cell_type": "markdown",
   "metadata": {},
   "source": [
    "### 3. 리스트 요소 사용하기\n\n코틀린에서는 `get()` 메소드 대신 배열처럼 대괄호(`[]`)를 사용하여 리스트의 요소에 접근하는 것을 권장합니다."
   ]
  },
  {
   "cell_type": "code",
   "execution_count": null,
   "metadata": {},
   "outputs": [],
   "source": [
    "val numbers = mutableListOf(10, 20, 30)\n\n// 요소 읽기\nval secondNumber = numbers[1] // numbers.get(1)과 동일\nprintln(secondNumber) // 20\n\n// 요소 변경 (MutableList에서만 가능)\nnumbers[0] = 5 // numbers.set(0, 5)와 동일\nprintln(numbers) // [5, 20, 30]"
   ]
  }
 ],
 "metadata": {
  "kernelspec": {
   "display_name": "Kotlin",
   "language": "kotlin",
   "name": "kotlin"
  },
  "language_info": {
   "codemirror_mode": "text/x-kotlin",
   "file_extension": ".kt",
   "mimetype": "text/x-kotlin",
   "name": "kotlin",
   "version": "1.9.23"
  }
 },
 "nbformat": 4,
 "nbformat_minor": 4
}
