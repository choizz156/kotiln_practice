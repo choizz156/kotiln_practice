{
 "cells": [
  {
   "cell_type": "markdown",
   "metadata": {},
   "source": [
    "## Kotlin의 Map과 구조 분해 선언",
    "\n",
    "List와 마찬가지로 Kotlin의 Map도 변경 불가능(immutable)한 Map과 변경 가능(mutable)한 Map이 있습니다.",
    "\n",
    "### 1. Map 기본 및 클래스 생성"
   ]
  },
  {
   "metadata": {
    "ExecuteTime": {
     "end_time": "2025-09-12T12:01:05.382896Z",
     "start_time": "2025-09-12T12:01:05.195254Z"
    }
   },
   "cell_type": "code",
   "source": [
    "// Map과 함께 사용할 Car 클래스를 정의합니다.\n",
    "data class Car(val color: String, val model: String, val year: Int) {\n",
    "}"
   ],
   "outputs": [],
   "execution_count": 3
  },
  {
   "cell_type": "markdown",
   "metadata": {},
   "source": [
    "### 2. 변경 불가능한 Map (Immutable Map)",
    "\n",
    "`mapOf` 함수를 사용하여 생성합니다. `key to value` 문법을 사용하여 키와 값을 연결합니다."
   ]
  },
  {
   "metadata": {
    "ExecuteTime": {
     "end_time": "2025-09-12T12:01:06.543150Z",
     "start_time": "2025-09-12T12:01:06.461377Z"
    }
   },
   "cell_type": "code",
   "source": [
    "// Int를 키로, Car 객체를 값으로 갖는 변경 불가능한 Map을 생성합니다.\n",
    "// 컴파일러가 타입을 추론할 수 있지만, 명확성을 위해 타입을 명시할 수 있습니다.\n",
    "val immutableMap = mapOf<Int, Car>(\n",
    "    1 to Car(\"green\", \"Toyota\", 2015),\n",
    "    2 to Car(\"red\", \"Ford\", 2016),\n",
    "    3 to Car(\"silver\", \"Honda\", 2013)\n",
    ") // mapOf 함수는 기본적으로 LinkedHashMap을 반환합니다.\n",
    "// LinkedHashMap은 예측 가능한 순회 순서를 보장하기 때문에 Kotlin에서 선호됩니다.\n",
    "println(immutableMap.javaClass)\n",
    "println(immutableMap)"
   ],
   "outputs": [
    {
     "name": "stdout",
     "output_type": "stream",
     "text": [
      "class java.util.LinkedHashMap\n",
      "{1=Car(color=green, model=Toyota, year=2015), 2=Car(color=red, model=Ford, year=2016), 3=Car(color=silver, model=Honda, year=2013)}\n"
     ]
    }
   ],
   "execution_count": 4
  },
  {
   "cell_type": "markdown",
   "metadata": {},
   "source": [
    "### 3. 변경 가능한 Map (Mutable Map)",
    "\n",
    "`mutableMapOf` 또는 `hashMapOf` 함수를 사용하여 생성할 수 있습니다."
   ]
  },
  {
   "metadata": {
    "ExecuteTime": {
     "end_time": "2025-09-12T12:01:48.525616Z",
     "start_time": "2025-09-12T12:01:48.429823Z"
    }
   },
   "cell_type": "code",
   "source": [
    "// String을 키로, Car 객체를 값으로 갖는 변경 가능한 Map을 생성합니다.\n",
    "val mutableMap = mutableMapOf<String, Car>(\n",
    "    \"John's car\" to Car(\"red\", \"Range Rover\", 2010),\n",
    "    \"Jane's car\" to Car(\"blue\", \"Hyundai\", 2012)\n",
    ")\n",
    "println(mutableMap.javaClass)\n",
    "println(mutableMap)"
   ],
   "outputs": [
    {
     "name": "stdout",
     "output_type": "stream",
     "text": [
      "class java.util.LinkedHashMap\n",
      "{John's car=Car(color=red, model=Range Rover, year=2010), Jane's car=Car(color=blue, model=Hyundai, year=2012)}\n"
     ]
    }
   ],
   "execution_count": 5
  },
  {
   "metadata": {
    "ExecuteTime": {
     "end_time": "2025-09-12T12:02:33.650844Z",
     "start_time": "2025-09-12T12:02:33.444892Z"
    }
   },
   "cell_type": "code",
   "source": [
    "// 만약 일반적인 HashMap을 원한다면 hashMapOf()를 사용합니다.\n",
    "val hashMap = hashMapOf<String, Car>(\n",
    "    \"John's car\" to Car(\"red\", \"Range Rover\", 2010),\n",
    "    \"Jane's car\" to Car(\"blue\", \"Hyundai\", 2012)\n",
    ")\n",
    "println (hashMap.javaClass)// 변경 가능한 Map에는 put 함수를 사용하여 요소를 추가할 수 있습니다.\n",
    "hashMap.put(\"Mary's car\", Car(\"red\", \"Corvette\", 1965))\n",
    "// 또는 배열 인덱스처럼 추가할 수도 있습니다.\n",
    "hashMap[\"Peter's car\"] = Car(\"black\", \"Porsche\", 2020)\n",
    "println(hashMap)"
   ],
   "outputs": [
    {
     "name": "stdout",
     "output_type": "stream",
     "text": [
      "class java.util.HashMap\n",
      "{John's car=Car(color=red, model=Range Rover, year=2010), Mary's car=Car(color=red, model=Corvette, year=1965), Peter's car=Car(color=black, model=Porsche, year=2020), Jane's car=Car(color=blue, model=Hyundai, year=2012)}\n"
     ]
    }
   ],
   "execution_count": 6
  },
  {
   "cell_type": "markdown",
   "metadata": {},
   "source": [
    "### 4. 구조 분해 선언 (Destructuring Declarations)",
    "\n",
    "객체의 멤버 값을 여러 변수에 한 번에 할당하는 기능입니다. `Pair` 클래스를 예로 들어보겠습니다."
   ]
  },
  {
   "metadata": {
    "ExecuteTime": {
     "end_time": "2025-09-12T12:05:05.442145Z",
     "start_time": "2025-09-12T12:05:05.366237Z"
    }
   },
   "cell_type": "code",
   "source": [
    "val pair = Pair(10, \"Ten\")\n",
    "// 일반적인 방식\n",
    "// val firstValue = pair.first\n",
    "// val secondValue = pair.second\n",
    "\n",
    "// 구조 분해 선언을 사용한 방식\n",
    "val (firstValue, secondValue) = pair\n",
    "println(firstValue)\n",
    "println(secondValue)"
   ],
   "outputs": [
    {
     "name": "stdout",
     "output_type": "stream",
     "text": [
      "10\n",
      "Ten\n"
     ]
    }
   ],
   "execution_count": 8
  },
  {
   "cell_type": "markdown",
   "metadata": {},
   "source": [
    "#### Map 순회 시 구조 분해 활용",
    "Map을 순회할 때 `entry` 대신 구조 분해를 사용하면 코드가 더 간결해집니다."
   ]
  },
  {
   "metadata": {
    "ExecuteTime": {
     "end_time": "2025-09-12T12:07:22.594800Z",
     "start_time": "2025-09-12T12:07:22.363017Z"
    }
   },
   "cell_type": "code",
   "source": [
    "// 일반적인 순회\n",
    "for (entry in mutableMap) {\n",
    "    println(\"Key: ${entry.key}, Value: ${entry.value}\")\n",
    "}\n",
    "println(\"-----------\")// 구조 분해를 사용한 순회\n",
    "for ((key, value) in mutableMap) {\n",
    "    println(\"Key: $key, Value: $value\")\n",
    "}"
   ],
   "outputs": [
    {
     "name": "stdout",
     "output_type": "stream",
     "text": [
      "Key: John's car, Value: Car(color=red, model=Range Rover, year=2010)\n",
      "Key: Jane's car, Value: Car(color=blue, model=Hyundai, year=2012)\n",
      "-----------\n",
      "Key: John's car, Value: Car(color=red, model=Range Rover, year=2010)\n",
      "Key: Jane's car, Value: Car(color=blue, model=Hyundai, year=2012)\n"
     ]
    }
   ],
   "execution_count": 9
  },
  {
   "cell_type": "markdown",
   "metadata": {},
   "source": [
    "### 5. 사용자 정의 클래스에서 구조 분해 구현하기",
    "\n",
    "구조 분해를 사용하려면 클래스에 `componentN` 함수를 구현해야 합니다. 이 함수들은 `operator` 키워드와 함께 선언되어야 합니다."
   ]
  },
  {
   "metadata": {
    "ExecuteTime": {
     "end_time": "2025-09-12T12:09:23.882075Z",
     "start_time": "2025-09-12T12:09:23.718019Z"
    }
   },
   "cell_type": "code",
   "source": [
    "class CarWithComponents(\n",
    "    val color: String,\n",
    "    val model: String,\n",
    "    val year: Int\n",
    ") {\n",
    "    // componentN 함수 구현\n",
    "    operator fun component1() = color\n",
    "    operator fun component2() = model\n",
    "    operator fun component3() = year\n",
    "}\n",
    "\n",
    "val myCar = CarWithComponents(\n",
    "    \"blue\",\n",
    "    \"Corvette\",\n",
    "    1959\n",
    ")\n",
    "// 이제 CarWithComponents 객체를 구조 분해할 수 있습니다.\n",
    "val (color, model, year) = myCar\n",
    "println(\"Color: $color, Model: $model, Year: $year\")"
   ],
   "outputs": [
    {
     "name": "stdout",
     "output_type": "stream",
     "text": [
      "Color: blue, Model: Corvette, Year: 1959\n"
     ]
    }
   ],
   "execution_count": 10
  },
  {
   "metadata": {},
   "cell_type": "markdown",
   "source": [
    "### 6. 데이터 클래스(Data Class)와 구조 분해\n",
    "데이터 클래스는 주 생성자에 선언된 프로퍼티에 대해 `componentN` 함수를 자동으로 생성해줍니다. 따라서 별도의 구현 없이 바로 구조 분해를 사용할 수 있습니다."
   ]
  },
  {
   "metadata": {
    "ExecuteTime": {
     "end_time": "2025-09-12T12:11:29.889971Z",
     "start_time": "2025-09-12T12:11:29.765720Z"
    }
   },
   "cell_type": "code",
   "source": [
    "// data class로 변경하면 componentN 함수를 직접 구현할 필요가 없습니다.\n",
    "data class DataCar(val color: String, val model: String, val year: Int)\n",
    "val myDataCar = DataCar(\"red\", \"Ferrari\", 2022)\n",
    "\n",
    "// 데이터 클래스 객체 구조 분해\n",
    "val (carColor, carModel, carYear) = myDataCar\n",
    "println(\"Color: $carColor, Model: $carModel, Year: $carYear\")"
   ],
   "outputs": [
    {
     "name": "stdout",
     "output_type": "stream",
     "text": [
      "Color: red, Model: Ferrari, Year: 2022\n"
     ]
    }
   ],
   "execution_count": 13
  }
 ],
 "metadata": {
  "kernelspec": {
   "display_name": "Kotlin",
   "language": "kotlin",
   "name": "kotlin"
  },
  "language_info": {
   "codemirror_mode": "text/x-kotlin",
   "file_extension": ".kt",
   "mimetype": "text/x-kotlin",
   "name": "kotlin",
   "pygments_lexer": "kotlin",
   "version": "1.9.23"
  }
 },
 "nbformat": 4,
 "nbformat_minor": 2
}
