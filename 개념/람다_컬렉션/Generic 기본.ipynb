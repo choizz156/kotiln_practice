{
 "cells": [
  {
   "metadata": {},
   "cell_type": "markdown",
   "source": [
    "# 제네릭\n",
    "- Kotlin은 컬렉션 사용 시 제네릭 타입 지정을 강제함 (Java는 선택사항)\n",
    "-  Kotlin의 컴파일러는 컨텍스트를 통해 제네릭 타입을 추론할 수 있어, 명시적 타입 선언을 줄일 수 있습니다.\n",
    "\n",
    "### 제네릭의 장점\n",
    "\n",
    "- 컴파일 타임에 타입 검사 가능\n",
    "- 코드가 더 명확해짐\n",
    "- 캐스팅 횟수 감소\n",
    "\n"
   ]
  },
  {
   "metadata": {
    "ExecuteTime": {
     "end_time": "2025-09-17T14:13:21.571417Z",
     "start_time": "2025-09-17T14:13:21.510078Z"
    }
   },
   "cell_type": "code",
   "source": [
    "val list: MutableList<String> = mutableListOf(\"hello\")\n",
    "val liet = mutableListOf<String>()\n",
    "// val list = mutableListOf() // 오류 발생!\n",
    "\n",
    "// 타입 추론 활용\n",
    "val list2 = mutableListOf(\"hello\") // 타입이 자동으로 MutableList<String>로 추론됨"
   ],
   "outputs": [],
   "execution_count": 3
  },
  {
   "metadata": {
    "ExecuteTime": {
     "end_time": "2025-09-17T14:15:15.068769Z",
     "start_time": "2025-09-17T14:15:14.855621Z"
    }
   },
   "cell_type": "code",
   "source": [
    "import java.math.BigDecimal\n",
    "\n",
    "fun <T> printCollection(collection: Collection<T>) {\n",
    "    for (item in collection) {\n",
    "        println(item)\n",
    "    }\n",
    "}\n",
    "\n",
    "val stringList = mutableListOf(\"hello\", \"world\")\n",
    "val numberList = mutableListOf(BigDecimal(\"33.45\"), BigDecimal(\"350.99\"))\n",
    "\n",
    "printCollection(stringList)\n",
    "printCollection(numberList)\n"
   ],
   "outputs": [
    {
     "name": "stdout",
     "output_type": "stream",
     "text": [
      "hello\n",
      "world\n",
      "33.45\n",
      "350.99\n"
     ]
    }
   ],
   "execution_count": 4
  },
  {
   "metadata": {},
   "cell_type": "markdown",
   "source": "### 확장 함수"
  },
  {
   "metadata": {
    "ExecuteTime": {
     "end_time": "2025-09-17T14:17:03.368158Z",
     "start_time": "2025-09-17T14:17:03.257405Z"
    }
   },
   "cell_type": "code",
   "source": [
    "fun <T> List<T>.printCollection() {\n",
    "    for (item in this) {\n",
    "        println(item)\n",
    "    }\n",
    "}\n",
    "\n",
    "stringList.printCollection()\n",
    "numberList.printCollection()"
   ],
   "outputs": [
    {
     "name": "stdout",
     "output_type": "stream",
     "text": [
      "hello\n",
      "world\n",
      "33.45\n",
      "350.99\n"
     ]
    }
   ],
   "execution_count": 5
  },
  {
   "metadata": {},
   "cell_type": "markdown",
   "source": [
    "### 타입 매개변수 선언\n",
    "- <T>: 함수명 앞에 위치하는 타입 매개변수 선언\n",
    "- T는 관례적으로 사용되는 이름으로 \"any Type\"을 의미\n",
    "- 여러 타입 매개변수 사용 가능: <T, U, V>"
   ]
  }
 ],
 "metadata": {
  "kernelspec": {
   "display_name": "Kotlin",
   "language": "kotlin",
   "name": "kotlin"
  },
  "language_info": {
   "name": "kotlin",
   "version": "2.2.20-dev-4982",
   "mimetype": "text/x-kotlin",
   "file_extension": ".kt",
   "pygments_lexer": "kotlin",
   "codemirror_mode": "text/x-kotlin",
   "nbconvert_exporter": ""
  }
 },
 "nbformat": 4,
 "nbformat_minor": 0
}
