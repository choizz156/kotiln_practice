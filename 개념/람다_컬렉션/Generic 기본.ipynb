{
 "cells": [
  {
   "metadata": {},
   "cell_type": "markdown",
   "source": [
    "# 제네릭\n",
    "- Kotlin은 컬렉션 사용 시 제네릭 타입 지정을 강제함 (Java는 선택사항)\n",
    "-  Kotlin의 컴파일러는 컨텍스트를 통해 제네릭 타입을 추론할 수 있어, 명시적 타입 선언을 줄일 수 있습니다.\n",
    "\n",
    "### 제네릭의 장점\n",
    "\n",
    "- 컴파일 타임에 타입 검사 가능\n",
    "- 코드가 더 명확해짐\n",
    "- 캐스팅 횟수 감소\n",
    "\n"
   ]
  },
  {
   "metadata": {
    "ExecuteTime": {
     "end_time": "2025-09-17T14:13:21.571417Z",
     "start_time": "2025-09-17T14:13:21.510078Z"
    }
   },
   "cell_type": "code",
   "source": [
    "val list: MutableList<String> = mutableListOf(\"hello\")\n",
    "val liet = mutableListOf<String>()\n",
    "// val list = mutableListOf() // 오류 발생!\n",
    "\n",
    "// 타입 추론 활용\n",
    "val list2 = mutableListOf(\"hello\") // 타입이 자동으로 MutableList<String>로 추론됨"
   ],
   "outputs": [],
   "execution_count": 3
  },
  {
   "metadata": {
    "ExecuteTime": {
     "end_time": "2025-09-17T14:15:15.068769Z",
     "start_time": "2025-09-17T14:15:14.855621Z"
    }
   },
   "cell_type": "code",
   "source": [
    "import java.math.BigDecimal\n",
    "\n",
    "fun <T> printCollection(collection: Collection<T>) {\n",
    "    for (item in collection) {\n",
    "        println(item)\n",
    "    }\n",
    "}\n",
    "\n",
    "val stringList = mutableListOf(\"hello\", \"world\")\n",
    "val numberList = mutableListOf(BigDecimal(\"33.45\"), BigDecimal(\"350.99\"))\n",
    "\n",
    "printCollection(stringList)\n",
    "printCollection(numberList)\n"
   ],
   "outputs": [
    {
     "name": "stdout",
     "output_type": "stream",
     "text": [
      "hello\n",
      "world\n",
      "33.45\n",
      "350.99\n"
     ]
    }
   ],
   "execution_count": 4
  },
  {
   "metadata": {},
   "cell_type": "markdown",
   "source": "### 확장 함수"
  },
  {
   "metadata": {
    "ExecuteTime": {
     "end_time": "2025-09-17T14:17:03.368158Z",
     "start_time": "2025-09-17T14:17:03.257405Z"
    }
   },
   "cell_type": "code",
   "source": [
    "fun <T> List<T>.printCollection() {\n",
    "    for (item in this) {\n",
    "        println(item)\n",
    "    }\n",
    "}\n",
    "\n",
    "stringList.printCollection()\n",
    "numberList.printCollection()"
   ],
   "outputs": [
    {
     "name": "stdout",
     "output_type": "stream",
     "text": [
      "hello\n",
      "world\n",
      "33.45\n",
      "350.99\n"
     ]
    }
   ],
   "execution_count": 5
  },
  {
   "metadata": {},
   "cell_type": "markdown",
   "source": [
    "### 타입 매개변수 선언\n",
    "- <T>: 함수명 앞에 위치하는 타입 매개변수 선언\n",
    "- T는 관례적으로 사용되는 이름으로 \"any Type\"을 의미\n",
    "- 여러 타입 매개변수 사용 가능: <T, U, V>"
   ]
  },
  {
   "metadata": {},
   "cell_type": "markdown",
   "source": [
    "## 2. 타입 매개변수 제약(Type Parameter Constraints)\n",
    "### 상한 제약(Upper Bound)\n",
    "제네릭 타입으로 사용할 수 있는 타입을 제한할 수 있습니다."
   ]
  },
  {
   "metadata": {
    "ExecuteTime": {
     "end_time": "2025-09-17T14:24:13.601958Z",
     "start_time": "2025-09-17T14:24:13.422877Z"
    }
   },
   "cell_type": "code",
   "source": [
    "// T 타입이 뭔지 알 수 없어 오류 발생\n",
    "fun <T> convertToIntX(collection: Collection<T>) {\n",
    "    for (item in collection) {\n",
    "        //println(item) 오류!\n",
    "    }\n",
    "}\n",
    "\n",
    "fun <T : Number> convertToInt(collection: Collection<T>) {\n",
    "    for (item in collection) {\n",
    "        println(item.toInt())\n",
    "    }\n",
    "}\n",
    "\n",
    "val ints = listOf(1, 2, 3)\n",
    "val shorts = listOf(1,3,4)\n",
    "val floats = listOf(1234.3f, -3432.43f)\n",
    "\n",
    "convertToInt(ints)\n",
    "convertToInt(shorts)\n",
    "convertToInt(floats)\n",
    "\n",
    "val strings = listOf(\"1\",\"2\")\n",
    "// convertToInt(strings) 오류남"
   ],
   "outputs": [
    {
     "name": "stdout",
     "output_type": "stream",
     "text": [
      "1\n",
      "2\n",
      "3\n",
      "1\n",
      "3\n",
      "4\n",
      "1234\n",
      "-3432\n"
     ]
    }
   ],
   "execution_count": 6
  },
  {
   "metadata": {},
   "cell_type": "markdown",
   "source": [
    "### 다중 상한 제약(where)\n",
    "하나 이상의 상한을 지정할 때 where 절을 사용합니다.\n",
    "- 여러 인터페이스는 가능하지만, 클래스는 하나만 지정 가능\n",
    "  - `where T : Short, T : Int`는 불가능"
   ]
  },
  {
   "metadata": {
    "ExecuteTime": {
     "end_time": "2025-09-17T14:40:10.935227Z",
     "start_time": "2025-09-17T14:40:10.747891Z"
    }
   },
   "cell_type": "code",
   "source": [
    "fun <T> append(item1: T, item2: T)\n",
    "        where T : CharSequence, T : Appendable {\n",
    "    println(\"Result is: ${item1.append(item2)}\")\n",
    "}\n",
    "\n",
    "// StringBuilder는 CharSequence와 Appendable 모두 구현\n",
    "val sb1 = StringBuilder(\"Hello \")\n",
    "val sb2 = StringBuilder(\"World\")\n",
    "append(sb1, sb2)"
   ],
   "outputs": [
    {
     "name": "stdout",
     "output_type": "stream",
     "text": [
      "Result is: Hello World\n"
     ]
    }
   ],
   "execution_count": 16
  },
  {
   "metadata": {},
   "cell_type": "markdown",
   "source": [
    "## 3. null 가능성과 제네릭\n",
    "제네릭은 기본적으로 null 가능성을 포함합니다."
   ]
  },
  {
   "metadata": {
    "ExecuteTime": {
     "end_time": "2025-09-17T14:28:17.760891Z",
     "start_time": "2025-09-17T14:28:17.677360Z"
    }
   },
   "cell_type": "code",
   "source": [
    "// T의 상한은 암묵적으로 Any?입니다\n",
    "fun <T> printCollection(collection: Collection<T>) {\n",
    "    for (item in collection) {\n",
    "        println(item) // T는 널 가능 타입도 허용\n",
    "    }\n",
    "}\n",
    "\n",
    "val nullableShorts = listOf<Short?>(1, null, 3)\n",
    "val nonNullStrings = listOf(\"a\", \"b\", \"c\")\n",
    "\n",
    "printCollection(nullableShorts) // 정상 작동\n",
    "printCollection(nonNullStrings) // 정상 작동"
   ],
   "outputs": [
    {
     "name": "stdout",
     "output_type": "stream",
     "text": [
      "1\n",
      "null\n",
      "3\n",
      "a\n",
      "b\n",
      "c\n"
     ]
    }
   ],
   "execution_count": 8
  },
  {
   "metadata": {},
   "cell_type": "markdown",
   "source": [
    "### null 불가능 타입으로 제한\n",
    "- 널 불가능 타입만 허용하려면 Any로 상한을 제한"
   ]
  },
  {
   "metadata": {
    "ExecuteTime": {
     "end_time": "2025-09-17T14:29:08.077019Z",
     "start_time": "2025-09-17T14:29:08.014730Z"
    }
   },
   "cell_type": "code",
   "source": [
    "fun <T : Any> printCollection(collection: Collection<T>) {\n",
    "    for (item in collection) {\n",
    "        println(item) // T는 널 불가능 타입만 허용\n",
    "    }\n",
    "}\n",
    "\n",
    "val nullableShorts = listOf<Short?>(1, null, 3)\n",
    "val nonNullStrings = listOf(\"a\", \"b\", \"c\")\n",
    "\n",
    "// printCollection(nullableShorts) // 컴파일 오류!\n",
    "printCollection(nonNullStrings)    // 정상 작동"
   ],
   "outputs": [
    {
     "name": "stdout",
     "output_type": "stream",
     "text": [
      "a\n",
      "b\n",
      "c\n"
     ]
    }
   ],
   "execution_count": 9
  },
  {
   "metadata": {},
   "cell_type": "markdown",
   "source": "## 3. 타입 소거(Type Erasure)"
  },
  {
   "metadata": {
    "ExecuteTime": {
     "end_time": "2025-09-17T14:32:28.205653Z",
     "start_time": "2025-09-17T14:32:28.062900Z"
    }
   },
   "cell_type": "code",
   "source": [
    "val strings = listOf(\"str1\", \"str2\")\n",
    "\n",
    "// 컴파일 타임에 타입이 확실한 경우 - 가능\n",
    "if (strings is List<String>) {\n",
    "    println(\"This list contains strings\")\n",
    "}\n",
    "\n",
    "// 런타임에 타입이 불확실한 경우 - 불가능\n",
    "val listAny: Any = listOf(\"str1\", \"str2\")\n",
    "// if (listAny is List<String>) {} // 오류!"
   ],
   "outputs": [
    {
     "name": "stdout",
     "output_type": "stream",
     "text": [
      "This list contains strings\n"
     ]
    }
   ],
   "execution_count": 10
  },
  {
   "metadata": {},
   "cell_type": "markdown",
   "source": [
    "### star projection\n",
    "- 타입 인자를 확인할 수 없을때 `*`를 사용"
   ]
  },
  {
   "metadata": {
    "ExecuteTime": {
     "end_time": "2025-09-17T14:34:19.515290Z",
     "start_time": "2025-09-17T14:34:19.450756Z"
    }
   },
   "cell_type": "code",
   "source": [
    "val listAny: Any = listOf(\"str1\", \"str2\")\n",
    "\n",
    "// Star projection 사용으로 해결\n",
    "if (listAny is List<*>) {\n",
    "    println(\"Yes, this is a list\")\n",
    "}"
   ],
   "outputs": [
    {
     "name": "stdout",
     "output_type": "stream",
     "text": [
      "Yes, this is a list\n"
     ]
    }
   ],
   "execution_count": 11
  },
  {
   "metadata": {},
   "cell_type": "markdown",
   "source": "### 캐스팅과 위험성"
  },
  {
   "metadata": {
    "ExecuteTime": {
     "end_time": "2025-09-17T14:36:46.101462Z",
     "start_time": "2025-09-17T14:36:46.008949Z"
    }
   },
   "cell_type": "code",
   "source": [
    "// 안전하지 않은 캐스팅\n",
    "val listAny1: Any = listOf(\"str1\", \"str2\")\n",
    "\n",
    "if (listAny1 is List<*>) {\n",
    "    // Unchecked cast 경고 발생\n",
    "    val strList = listAny1 as List<String>\n",
    "    println(strList[1].replace(\"str\", \"string\"))\n",
    "}\n",
    "\n",
    "//런타임 오류 위험\n",
    "var listAny2: Any = listOf(\"str1\", \"str2\")\n",
    "\n",
    "// 나중에 다른 타입으로 변경\n",
    "listAny2 = listOf(1, 2, 3) // 정수 리스트\n",
    "\n",
    "if (listAny2 is List<*>) {\n",
    "    val strList = listAny2 as List<String> // 컴파일은 됨\n",
    "    println(strList[0].length) // 런타임 ClassCastException!\n",
    "}"
   ],
   "outputs": [
    {
     "name": "stdout",
     "output_type": "stream",
     "text": [
      "string2\n"
     ]
    },
    {
     "ename": "java.lang.ClassCastException",
     "evalue": "class java.lang.Integer cannot be cast to class java.lang.String (java.lang.Integer and java.lang.String are in module java.base of loader 'bootstrap')",
     "output_type": "error",
     "traceback": [
      "java.lang.ClassCastException: class java.lang.Integer cannot be cast to class java.lang.String (java.lang.Integer and java.lang.String are in module java.base of loader 'bootstrap')",
      "\tat Line_16_jupyter.<init>(Line_16.jupyter.kts:17) at Cell In[15], line 17",
      "\tat java.base/jdk.internal.reflect.NativeConstructorAccessorImpl.newInstance0(Native Method)",
      "\tat java.base/jdk.internal.reflect.NativeConstructorAccessorImpl.newInstance(NativeConstructorAccessorImpl.java:77)",
      "\tat java.base/jdk.internal.reflect.DelegatingConstructorAccessorImpl.newInstance(DelegatingConstructorAccessorImpl.java:45)",
      "\tat java.base/java.lang.reflect.Constructor.newInstanceWithCaller(Constructor.java:499)",
      "\tat java.base/java.lang.reflect.Constructor.newInstance(Constructor.java:480)",
      "\tat kotlin.script.experimental.jvm.BasicJvmScriptEvaluator.evalWithConfigAndOtherScriptsResults(BasicJvmScriptEvaluator.kt:122)",
      "\tat kotlin.script.experimental.jvm.BasicJvmScriptEvaluator.invoke$suspendImpl(BasicJvmScriptEvaluator.kt:48)",
      "\tat kotlin.script.experimental.jvm.BasicJvmScriptEvaluator.invoke(BasicJvmScriptEvaluator.kt)",
      "\tat kotlin.script.experimental.jvm.BasicJvmReplEvaluator.eval(BasicJvmReplEvaluator.kt:49)",
      "\tat org.jetbrains.kotlinx.jupyter.repl.impl.InternalEvaluatorImpl$eval$resultWithDiagnostics$1.invokeSuspend(InternalEvaluatorImpl.kt:138)",
      "\tat kotlin.coroutines.jvm.internal.BaseContinuationImpl.resumeWith(ContinuationImpl.kt:34)",
      "\tat kotlinx.coroutines.DispatchedTask.run(DispatchedTask.kt:100)",
      "\tat kotlinx.coroutines.EventLoopImplBase.processNextEvent(EventLoop.common.kt:263)",
      "\tat kotlinx.coroutines.BlockingCoroutine.joinBlocking(Builders.kt:95)",
      "\tat kotlinx.coroutines.BuildersKt__BuildersKt.runBlocking(Builders.kt:69)",
      "\tat kotlinx.coroutines.BuildersKt.runBlocking(Unknown Source)",
      "\tat kotlinx.coroutines.BuildersKt__BuildersKt.runBlocking$default(Builders.kt:47)",
      "\tat kotlinx.coroutines.BuildersKt.runBlocking$default(Unknown Source)",
      "\tat org.jetbrains.kotlinx.jupyter.repl.impl.InternalEvaluatorImpl.eval(InternalEvaluatorImpl.kt:138)",
      "\tat org.jetbrains.kotlinx.jupyter.repl.impl.CellExecutorImpl.execute_L4Nmkdk$lambda$9$lambda$1(CellExecutorImpl.kt:80)",
      "\tat org.jetbrains.kotlinx.jupyter.repl.impl.ReplForJupyterImpl.withHost(ReplForJupyterImpl.kt:794)",
      "\tat org.jetbrains.kotlinx.jupyter.repl.impl.CellExecutorImpl.execute-L4Nmkdk(CellExecutorImpl.kt:78)",
      "\tat org.jetbrains.kotlinx.jupyter.repl.execution.CellExecutor.execute-L4Nmkdk$default(CellExecutor.kt:14)",
      "\tat org.jetbrains.kotlinx.jupyter.repl.impl.ReplForJupyterImpl.evaluateUserCode-wNURfNM(ReplForJupyterImpl.kt:616)",
      "\tat org.jetbrains.kotlinx.jupyter.repl.impl.ReplForJupyterImpl.evalExImpl(ReplForJupyterImpl.kt:474)",
      "\tat org.jetbrains.kotlinx.jupyter.repl.impl.ReplForJupyterImpl.evalEx$lambda$20(ReplForJupyterImpl.kt:467)",
      "\tat org.jetbrains.kotlinx.jupyter.repl.impl.ReplForJupyterImpl.withEvalContext(ReplForJupyterImpl.kt:447)",
      "\tat org.jetbrains.kotlinx.jupyter.repl.impl.ReplForJupyterImpl.evalEx(ReplForJupyterImpl.kt:466)",
      "\tat org.jetbrains.kotlinx.jupyter.messaging.IdeCompatibleMessageRequestProcessor.processExecuteRequest$lambda$7$lambda$6$lambda$5(IdeCompatibleMessageRequestProcessor.kt:160)",
      "\tat org.jetbrains.kotlinx.jupyter.streams.BlockingSubstitutionEngine.withDataSubstitution(SubstitutionEngine.kt:70)",
      "\tat org.jetbrains.kotlinx.jupyter.streams.StreamSubstitutionManager.withSubstitutedStreams(StreamSubstitutionManager.kt:118)",
      "\tat org.jetbrains.kotlinx.jupyter.messaging.IdeCompatibleMessageRequestProcessor.withForkedIn(IdeCompatibleMessageRequestProcessor.kt:354)",
      "\tat org.jetbrains.kotlinx.jupyter.messaging.IdeCompatibleMessageRequestProcessor.evalWithIO$lambda$16$lambda$15(IdeCompatibleMessageRequestProcessor.kt:368)",
      "\tat org.jetbrains.kotlinx.jupyter.streams.BlockingSubstitutionEngine.withDataSubstitution(SubstitutionEngine.kt:70)",
      "\tat org.jetbrains.kotlinx.jupyter.streams.StreamSubstitutionManager.withSubstitutedStreams(StreamSubstitutionManager.kt:118)",
      "\tat org.jetbrains.kotlinx.jupyter.messaging.IdeCompatibleMessageRequestProcessor.withForkedErr(IdeCompatibleMessageRequestProcessor.kt:343)",
      "\tat org.jetbrains.kotlinx.jupyter.messaging.IdeCompatibleMessageRequestProcessor.evalWithIO$lambda$16(IdeCompatibleMessageRequestProcessor.kt:367)",
      "\tat org.jetbrains.kotlinx.jupyter.streams.BlockingSubstitutionEngine.withDataSubstitution(SubstitutionEngine.kt:70)",
      "\tat org.jetbrains.kotlinx.jupyter.streams.StreamSubstitutionManager.withSubstitutedStreams(StreamSubstitutionManager.kt:118)",
      "\tat org.jetbrains.kotlinx.jupyter.messaging.IdeCompatibleMessageRequestProcessor.withForkedOut(IdeCompatibleMessageRequestProcessor.kt:335)",
      "\tat org.jetbrains.kotlinx.jupyter.messaging.IdeCompatibleMessageRequestProcessor.evalWithIO(IdeCompatibleMessageRequestProcessor.kt:366)",
      "\tat org.jetbrains.kotlinx.jupyter.messaging.IdeCompatibleMessageRequestProcessor.processExecuteRequest$lambda$7$lambda$6(IdeCompatibleMessageRequestProcessor.kt:159)",
      "\tat org.jetbrains.kotlinx.jupyter.execution.JupyterExecutorImpl$Task.execute(JupyterExecutorImpl.kt:41)",
      "\tat org.jetbrains.kotlinx.jupyter.execution.JupyterExecutorImpl.executorThread$lambda$0(JupyterExecutorImpl.kt:83)",
      "\tat kotlin.concurrent.ThreadsKt$thread$thread$1.run(Thread.kt:30)",
      "",
      "java.lang.ClassCastException: class java.lang.Integer cannot be cast to class java.lang.String (java.lang.Integer and java.lang.String are in module java.base of loader 'bootstrap')",
      "at Cell In[15], line 17"
     ]
    }
   ],
   "execution_count": 15
  }
 ],
 "metadata": {
  "kernelspec": {
   "display_name": "Kotlin",
   "language": "kotlin",
   "name": "kotlin"
  },
  "language_info": {
   "name": "kotlin",
   "version": "2.2.20-dev-4982",
   "mimetype": "text/x-kotlin",
   "file_extension": ".kt",
   "pygments_lexer": "kotlin",
   "codemirror_mode": "text/x-kotlin",
   "nbconvert_exporter": ""
  }
 },
 "nbformat": 4,
 "nbformat_minor": 0
}
