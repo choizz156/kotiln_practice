{
 "cells": [
  {
   "cell_type": "markdown",
   "metadata": {},
   "source": [
    "# 코틀린 컬렉션 함수 연습\n",
    "이 노트북은 코틀린이 제공하는 유용한 컬렉션 함수들(`filter`, `map`, `all`, `any`, `find` 등)을 연습합니다."
   ]
  },
  {
   "cell_type": "markdown",
   "metadata": {},
   "source": [
    "## 1. 초기 설정\n",
    "예제에 사용할 데이터 클래스와 초기 컬렉션을 설정합니다."
   ]
  },
  {
   "cell_type": "code",
   "metadata": {
    "ExecuteTime": {
     "end_time": "2025-09-12T12:52:29.887062Z",
     "start_time": "2025-09-12T12:52:29.760334Z"
    }
   },
   "source": [
    "data class Car(val color: String, val model: String, val year: Int)\n",
    "\n",
    "val events = setOf(1, 2, 3, 4, 5, 6, 7, 8, 9)\n",
    "\n",
    "var immutableMap = mapOf<Int, Car>(\n",
    "    1 to Car(\"green\", \"Toyota\", 2015),\n",
    "    2 to Car(\"red\", \"Ford\", 2016),\n",
    "    3 to Car(\"silver\", \"Honda\", 2013)\n",
    ")\n",
    "\n",
    "println(\"Initial events set: $events\")\n",
    "println(\"Initial immutable map: $immutableMap\")"
   ],
   "outputs": [
    {
     "name": "stdout",
     "output_type": "stream",
     "text": [
      "Initial events set: [1, 2, 3, 4, 5, 6, 7, 8, 9]\n",
      "Initial immutable map: {1=Car(color=green, model=Toyota, year=2015), 2=Car(color=red, model=Ford, year=2016), 3=Car(color=silver, model=Honda, year=2013)}\n"
     ]
    }
   ],
   "execution_count": 13
  },
  {
   "cell_type": "markdown",
   "metadata": {},
   "source": [
    "## 2. `filter` 함수\n",
    "`filter` 함수는 주어진 조건(predicate)을 만족하는 요소만 포함하는 새로운 컬렉션을 반환합니다."
   ]
  },
  {
   "cell_type": "code",
   "metadata": {
    "ExecuteTime": {
     "end_time": "2025-09-12T12:42:53.446273Z",
     "start_time": "2025-09-12T12:42:53.249852Z"
    }
   },
   "source": [
    "// Set에서 홀수만 필터링하기\n",
    "val oddNumbers = events.filter { it % 2 != 0 }\n",
    "println(\"Odd numbers: $oddNumbers\")\n",
    "\n",
    "// Map에서 2016년식 자동차만 필터링하기\n",
    "val cars2016 = immutableMap.filter { it.value.year == 2016 }\n",
    "println(\"Cars from 2016: $cars2016\")"
   ],
   "outputs": [
    {
     "name": "stdout",
     "output_type": "stream",
     "text": [
      "Odd numbers: [1, 3, 5, 7, 9]\n",
      "Cars from 2016: {2=Car(color=red, model=Ford, year=2016)}\n"
     ]
    }
   ],
   "execution_count": 2
  },
  {
   "cell_type": "markdown",
   "metadata": {},
   "source": [
    "### `filter`와 불변성\n",
    "`filter`는 원본 컬렉션을 수정하지 않고 항상 새로운 컬렉션을 반환합니다. 원본이 `mutable`이라도 마찬가지입니다."
   ]
  },
  {
   "cell_type": "code",
   "metadata": {
    "ExecuteTime": {
     "end_time": "2025-09-12T12:43:13.696314Z",
     "start_time": "2025-09-12T12:43:13.587194Z"
    }
   },
   "source": [
    "val mutableMap = mutableMapOf<Int, Car>(\n",
    "    1 to Car(\"green\", \"Toyota\", 2015),\n",
    "    2 to Car(\"red\", \"Ford\", 2016),\n",
    "    3 to Car(\"silver\", \"Honda\", 2013)\n",
    ")\n",
    "\n",
    "// mutableMap을 필터링해도 새로운 맵이 반환될 뿐, 원본은 바뀌지 않습니다.\n",
    "val silverCars = mutableMap.filter { it.value.color == \"silver\" }\n",
    "println(\"Filtered (silver cars): $silverCars\")\n",
    "println(\"Original mutable map after filter: $mutableMap\")"
   ],
   "outputs": [
    {
     "name": "stdout",
     "output_type": "stream",
     "text": [
      "Filtered (silver cars): {3=Car(color=silver, model=Honda, year=2013)}\n",
      "Original mutable map after filter: {1=Car(color=green, model=Toyota, year=2015), 2=Car(color=red, model=Ford, year=2016), 3=Car(color=silver, model=Honda, year=2013)}\n"
     ]
    }
   ],
   "execution_count": 3
  },
  {
   "cell_type": "markdown",
   "metadata": {},
   "source": [
    "## 3. `map` 함수\n",
    "`map` 함수는 컬렉션의 각 요소를 주어진 람다에 따라 변환(transform)하여 새로운 리스트를 반환합니다."
   ]
  },
  {
   "cell_type": "code",
   "metadata": {
    "ExecuteTime": {
     "end_time": "2025-09-12T12:45:54.672872Z",
     "start_time": "2025-09-12T12:45:54.555094Z"
    }
   },
   "source": [
    "val ints = arrayOf(1, 2, 3, 4, 5)\n",
    "\n",
    "// 각 요소에 10을 더한 새로운 리스트 생성\n",
    "val add10List = ints.map { it + 10 }\n",
    "println(\"Original ints: ${ints.joinToString()}\")\n",
    "println(\"Mapped (add 10): $add10List\")\n",
    "println(add10List.javaClass)\n",
    "\n",
    "// 자동차 맵에서 연도(year) 정보만 추출하여 새로운 리스트 생성\n",
    "val carYears = immutableMap.map { it.value.year }\n",
    "println(\"Car years: $carYears\")"
   ],
   "outputs": [
    {
     "name": "stdout",
     "output_type": "stream",
     "text": [
      "Original ints: 1, 2, 3, 4, 5\n",
      "Mapped (add 10): [11, 12, 13, 14, 15]\n",
      "class java.util.ArrayList\n",
      "Car years: [2015, 2016, 2013]\n"
     ]
    }
   ],
   "execution_count": 6
  },
  {
   "cell_type": "markdown",
   "metadata": {},
   "source": [
    "## 4. 함수 체이닝 (`filter` + `map`)\n",
    "컬렉션 함수들은 체인처럼 연결하여 복잡한 연산을 간결하게 처리할 수 있습니다."
   ]
  },
  {
   "cell_type": "code",
   "metadata": {
    "ExecuteTime": {
     "end_time": "2025-09-12T12:47:00.602672Z",
     "start_time": "2025-09-12T12:47:00.474921Z"
    }
   },
   "source": [
    "// 예제를 위해 자동차 몇 대 추가\n",
    "immutableMap = immutableMap + mapOf(\n",
    "    17 to Car(\"red\", \"BMW\", 2015),\n",
    "    8 to Car(\"green\", \"Ford\", 2010)\n",
    ")\n",
    "println(\"Expanded map: $immutableMap\")\n",
    "\n",
    "// 'Ford' 모델인 자동차를 필터링한 후, 그 차들의 색상만 추출하기\n",
    "val fordColors = immutableMap\n",
    "    .filter { it.value.model == \"Ford\" } // Ford 모델 필터링\n",
    "    .map { it.value.color }           // 색상 정보만 추출\n",
    "\n",
    "println(\"Colors of Ford cars: $fordColors\")"
   ],
   "outputs": [
    {
     "name": "stdout",
     "output_type": "stream",
     "text": [
      "Expanded map: {1=Car(color=green, model=Toyota, year=2015), 2=Car(color=red, model=Ford, year=2016), 3=Car(color=silver, model=Honda, year=2013), 17=Car(color=red, model=BMW, year=2015), 8=Car(color=green, model=Ford, year=2010)}\n",
      "Colors of Ford cars: [red, green]\n"
     ]
    }
   ],
   "execution_count": 8
  },
  {
   "cell_type": "markdown",
   "metadata": {},
   "source": [
    "## 5. 조건 확인 함수 (`all`, `any`, `count`)"
   ]
  },
  {
   "cell_type": "code",
   "metadata": {
    "ExecuteTime": {
     "end_time": "2025-09-12T12:47:12.808223Z",
     "start_time": "2025-09-12T12:47:12.684785Z"
    }
   },
   "source": [
    "// all: 모든 자동차의 연식이 2014년 이후인지 확인\n",
    "val allCarsNewer = immutableMap.all { it.value.year > 2014 }\n",
    "println(\"Are all cars newer than 2014? $allCarsNewer\")\n",
    "\n",
    "// any: 2014년 이후의 차가 하나라도 있는지 확인\n",
    "val anyCarNewer = immutableMap.any { it.value.year > 2014 }\n",
    "println(\"Is there any car newer than 2014? $anyCarNewer\")\n",
    "\n",
    "// count: 2014년 이후의 차는 몇 대인지 확인\n",
    "val countNewerCars = immutableMap.count { it.value.year > 2014 }\n",
    "println(\"Number of cars newer than 2014: $countNewerCars\")"
   ],
   "outputs": [
    {
     "name": "stdout",
     "output_type": "stream",
     "text": [
      "Are all cars newer than 2014? false\n",
      "Is there any car newer than 2014? true\n",
      "Number of cars newer than 2014: 3\n"
     ]
    }
   ],
   "execution_count": 9
  },
  {
   "cell_type": "markdown",
   "metadata": {},
   "source": [
    "## 6. `find` 함수\n",
    "`find` 함수는 조건을 만족하는 첫 번째 요소를 찾아 반환합니다. (없으면 null)"
   ]
  },
  {
   "cell_type": "code",
   "metadata": {
    "ExecuteTime": {
     "end_time": "2025-09-12T12:47:47.016234Z",
     "start_time": "2025-09-12T12:47:46.889993Z"
    }
   },
   "source": [
    "val cars = immutableMap.values // Map의 값(Car 객체)들만 리스트로 가져옴\n",
    "\n",
    "// 2014년 이후의 첫 번째 차를 찾기\n",
    "val firstNewerCar = cars.find { it.year > 2014 }\n",
    "println(\"First car newer than 2014: $firstNewerCar\")"
   ],
   "outputs": [
    {
     "name": "stdout",
     "output_type": "stream",
     "text": [
      "First car newer than 2014: Car(color=green, model=Toyota, year=2015)\n"
     ]
    }
   ],
   "execution_count": 10
  },
  {
   "cell_type": "markdown",
   "metadata": {},
   "source": [
    "## 7. `groupBy` 함수\n",
    "`groupBy` 함수는 특정 기준에 따라 컬렉션의 요소들을 그룹화하여 맵으로 반환합니다."
   ]
  },
  {
   "cell_type": "code",
   "metadata": {
    "ExecuteTime": {
     "end_time": "2025-09-12T12:47:54.470053Z",
     "start_time": "2025-09-12T12:47:54.404407Z"
    }
   },
   "source": [
    "// 자동차들을 색상(color)별로 그룹화하기\n",
    "val carsByColor = cars.groupBy { it.color }\n",
    "println(\"Cars grouped by color: $carsByColor\")"
   ],
   "outputs": [
    {
     "name": "stdout",
     "output_type": "stream",
     "text": [
      "Cars grouped by color: {green=[Car(color=green, model=Toyota, year=2015), Car(color=green, model=Ford, year=2010)], red=[Car(color=red, model=Ford, year=2016), Car(color=red, model=BMW, year=2015)], silver=[Car(color=silver, model=Honda, year=2013)]}\n"
     ]
    }
   ],
   "execution_count": 11
  },
  {
   "cell_type": "markdown",
   "metadata": {},
   "source": [
    "## 8. 정렬 함수 (`toSortedMap`, `sortedBy`)"
   ]
  },
  {
   "cell_type": "code",
   "metadata": {
    "ExecuteTime": {
     "end_time": "2025-09-12T12:48:07.126524Z",
     "start_time": "2025-09-12T12:48:07.012364Z"
    }
   },
   "source": [
    "// Map을 key 기준으로 정렬하기\n",
    "val sortedMap = immutableMap.toSortedMap()\n",
    "println(\"Map sorted by key: $sortedMap\")\n",
    "\n",
    "// Car 리스트를 연식(year) 기준으로 정렬하기\n",
    "val sortedCars = cars.sortedBy { it.year }\n",
    "println(\"Cars sorted by year: $sortedCars\")"
   ],
   "outputs": [
    {
     "name": "stdout",
     "output_type": "stream",
     "text": [
      "Map sorted by key: {1=Car(color=green, model=Toyota, year=2015), 2=Car(color=red, model=Ford, year=2016), 3=Car(color=silver, model=Honda, year=2013), 8=Car(color=green, model=Ford, year=2010), 17=Car(color=red, model=BMW, year=2015)}\n",
      "Cars sorted by year: [Car(color=green, model=Ford, year=2010), Car(color=silver, model=Honda, year=2013), Car(color=green, model=Toyota, year=2015), Car(color=red, model=BMW, year=2015), Car(color=red, model=Ford, year=2016)]\n"
     ]
    }
   ],
   "execution_count": 12
  }
 ],
 "metadata": {
  "kernelspec": {
   "display_name": "Kotlin",
   "language": "kotlin",
   "name": "kotlin"
  },
  "language_info": {
   "codemirror_mode": "text/x-kotlin",
   "file_extension": ".kt",
   "mimetype": "text/x-kotlin",
   "name": "kotlin",
   "pygments_lexer": "kotlin",
   "version": "1.9.23"
  }
 },
 "nbformat": 4,
 "nbformat_minor": 4
}
