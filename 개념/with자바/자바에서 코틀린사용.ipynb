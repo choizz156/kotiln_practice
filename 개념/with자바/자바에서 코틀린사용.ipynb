{
 "cells": [
  {
   "metadata": {},
   "cell_type": "code",
   "outputs": [],
   "execution_count": null,
   "source": ""
  },
  {
   "metadata": {},
   "cell_type": "markdown",
   "source": [
    "좋아요! 그러면 제가 지금까지 정리한 **Java에서 Kotlin 호출 방식**을 한눈에 볼 수 있는 시각화 표와 흐름도를 만들어드릴게요.\n",
    "\n",
    "---\n",
    "\n",
    "## 📝 Java → Kotlin 호출 정리표\n",
    "\n",
    "| Kotlin 요소            | Java에서 접근                   | 필요 어노테이션                          | 비고                                 |\n",
    "| -------------------- | --------------------------- | --------------------------------- | ---------------------------------- |\n",
    "| Top-level 함수         | `ClassNameKt.function()`    | `@file:JvmName(\"ClassName\")` 선택   | Kotlin 파일명 + `Kt`가 기본 이름           |\n",
    "| Companion object 함수  | `ClassName.Companion.fun()` | `@JvmStatic` → `ClassName.fun()`  | static처럼 호출 가능                     |\n",
    "| Object(singleton) 함수 | `ObjectName.INSTANCE.fun()` | `@JvmStatic` → `ObjectName.fun()` | static처럼 호출 가능                     |\n",
    "| Companion/Object 속성  | getter/setter 사용            | `@JvmField` → `ObjectName.prop`   | `const val`은 자동 static             |\n",
    "| Non-null 파라미터        | 그냥 호출                       | 없음                                | null 전달 시 IllegalArgumentException |\n",
    "| Checked 예외           | Java에서 try-catch 필요         | `@Throws(Exception::class)`       | Java에서 checked exception 처리 가능     |\n",
    "| Default parameter    | 모든 파라미터 필요                  | `@JvmOverloads`                   | Java에서 기본값 지원 가능                   |\n",
    "\n",
    "---\n",
    "\n",
    "## 🔄 흐름도: Kotlin → Java 호출\n",
    "\n",
    "```mermaid\n",
    "flowchart TD\n",
    "    A[Kotlin File / Class] -->|Top-level function| B[Java calls ClassNameKt.func()]\n",
    "    A -->|Companion object function| C[Java calls ClassName.Companion.func()]\n",
    "    C -->|@JvmStatic| D[Java calls ClassName.func()]\n",
    "    A -->|Object(singleton) function| E[Java calls ObjectName.INSTANCE.func()]\n",
    "    E -->|@JvmStatic| F[Java calls ObjectName.func()]\n",
    "    A -->|Property| G[Java uses getter/setter]\n",
    "    G -->|@JvmField / const| H[Java uses ObjectName.prop directly]\n",
    "    A -->|Non-null param| I[Java can pass null → Exception]\n",
    "    A -->|Throws exception| J[Java needs try-catch]\n",
    "    A -->|Default parameter| K[Java uses @JvmOverloads → optional params]\n",
    "```\n",
    "\n",
    "---\n",
    "\n",
    "💡 **요약 느낌**\n",
    "\n",
    "* Kotlin에서 `companion`, `object`, `top-level`는 **Java에서 기본적으로 instance 접근**\n",
    "* **Static처럼 사용하고 싶으면 @JvmStatic**, **필드 직접 접근은 @JvmField**\n",
    "* Default parameter, null safety, 예외 처리 등은 **Java 호환용 어노테이션 사용 필요**\n",
    "\n",
    "---\n",
    "\n",
    "원하면 제가 이 흐름도를 **한 장짜리 시각화 그림**으로 만들어서\n",
    "Java → Kotlin 호출 시 **어떤 어노테이션이 필요한지, 어디서 static처럼 접근 가능한지** 직관적으로 볼 수 있게 해드릴 수도 있어요.\n",
    "\n",
    "그림으로 만들어 드릴까요?\n"
   ]
  }
 ],
 "metadata": {
  "kernelspec": {
   "display_name": "Kotlin",
   "language": "kotlin",
   "name": "kotlin"
  },
  "language_info": {
   "name": "kotlin",
   "version": "2.2.20-dev-4982",
   "mimetype": "text/x-kotlin",
   "file_extension": ".kt",
   "pygments_lexer": "kotlin",
   "codemirror_mode": "text/x-kotlin",
   "nbconvert_exporter": ""
  }
 },
 "nbformat": 4,
 "nbformat_minor": 0
}
