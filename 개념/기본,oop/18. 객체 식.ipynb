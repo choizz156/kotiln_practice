{
 "cells": [
  {
   "metadata": {},
   "cell_type": "markdown",
   "source": [
    "# 객체 식(익명 클래스)\n",
    "이름 없는 클래스의 인스턴스를 생성하는 방식\n",
    "- 일회성 객체를 만들어야 할 때 사용\n",
    "  - 인터페이스 임시 구현\n",
    "  - 리스터, 콜백 등의 전달\n",
    "  - 일회성 동작 정의"
   ]
  },
  {
   "metadata": {
    "ExecuteTime": {
     "end_time": "2025-09-05T15:17:19.965982Z",
     "start_time": "2025-09-05T15:17:19.899417Z"
    }
   },
   "cell_type": "code",
   "source": [
    "interface SomeInterface {\n",
    "    fun mustImplement(x: Int): String\n",
    "}\n",
    "\n",
    "fun wantSomeInterface(si: SomeInterface) {\n",
    "    println(\"Calling mustImplement: ${si.mustImplement(22)}\")\n",
    "}\n",
    "\n",
    "wantSomeInterface(object : SomeInterface { //객체식으로 전달\n",
    "    override fun mustImplement(x: Int): String = \"Result: ${x * 100}\"\n",
    "})\n"
   ],
   "outputs": [
    {
     "name": "stdout",
     "output_type": "stream",
     "text": [
      "Calling mustImplement: Result: 2200\n"
     ]
    }
   ],
   "execution_count": 13
  },
  {
   "metadata": {},
   "cell_type": "markdown",
   "source": [
    "- `object : 인터페이스 { ... }` 구문을 사용\n",
    "- override 키워드로 인터페이스의 함수를 구현\n",
    "- 인스턴스를 직접 만들지 않고 함수 인자로 바로 전달 가능"
   ]
  },
  {
   "metadata": {},
   "cell_type": "markdown",
   "source": [
    "## 특징\n",
    "| 특징                 | 설명                                     |\n",
    "| ------------------ | -------------------------------------- |\n",
    "| **싱글톤 아님**         | 객체 식은 호출될 때마다 새로운 인스턴스를 생성함            |\n",
    "| **익명 클래스**         | 이름 없는 클래스를 생성하며 일회용으로 사용               |\n",
    "| **지역 변수 접근 가능**    | 외부의 `val`뿐만 아니라 `var`도 접근 및 수정 가능      |\n",
    "| **여러 인터페이스 구현 가능** | Java와 달리 객체 식으로 여러 인터페이스를 동시에 구현할 수 있음 |\n"
   ]
  },
  {
   "metadata": {},
   "cell_type": "markdown",
   "source": "### 외부 변수 접근"
  },
  {
   "metadata": {
    "ExecuteTime": {
     "end_time": "2025-09-05T15:17:21.903643Z",
     "start_time": "2025-09-05T15:17:21.834588Z"
    }
   },
   "cell_type": "code",
   "source": [
    "    var mutableVar = 45\n",
    "\n",
    "    wantSomeInterface(object : SomeInterface {\n",
    "        override fun mustImplement(x: Int): String {\n",
    "            mutableVar++  // var 변수 접근 및 수정 가능\n",
    "            return \"Modified: $mutableVar\"\n",
    "        }\n",
    "    })"
   ],
   "outputs": [
    {
     "name": "stdout",
     "output_type": "stream",
     "text": [
      "Calling mustImplement: Modified: 46\n"
     ]
    }
   ],
   "execution_count": 14
  },
  {
   "metadata": {},
   "cell_type": "markdown",
   "source": [
    "### 다중 인터페이스\n",
    "- Kotlin의 object 표현은 익명 클래스의 인스턴스를 만들지만, 해당 인스턴스를 다른 코드에서 사용하려면 명확한 타입이 있어야 함.\n",
    "- 익명 타입은 외부에 노출할 수 없기 때문에, Kotlin은 컴파일러 수준에서 타입 명시를 요구합니다."
   ]
  },
  {
   "metadata": {
    "ExecuteTime": {
     "end_time": "2025-09-05T15:20:36.032490Z",
     "start_time": "2025-09-05T15:20:35.964712Z"
    }
   },
   "cell_type": "code",
   "source": [
    "interface AnotherInterface {\n",
    "    fun doSomething()\n",
    "}\n",
    "\n",
    "interface Combined : SomeInterface, AnotherInterface\n",
    "\n",
    "\n",
    "val obj: Combined = object : Combined {\n",
    "    override fun mustImplement(x: Int) = \"From SomeInterface\"\n",
    "    override fun doSomething() = println(\"From AnotherInterface\")\n",
    "}\n",
    "\n",
    "println(obj.mustImplement(5))\n",
    "println(obj.doSomething())\n"
   ],
   "outputs": [
    {
     "name": "stdout",
     "output_type": "stream",
     "text": [
      "From SomeInterface\n",
      "From AnotherInterface\n",
      "kotlin.Unit\n"
     ]
    }
   ],
   "execution_count": 21
  }
 ],
 "metadata": {
  "kernelspec": {
   "display_name": "Kotlin",
   "language": "kotlin",
   "name": "kotlin"
  },
  "language_info": {
   "name": "kotlin",
   "version": "2.2.20-dev-4982",
   "mimetype": "text/x-kotlin",
   "file_extension": ".kt",
   "pygments_lexer": "kotlin",
   "codemirror_mode": "text/x-kotlin",
   "nbconvert_exporter": ""
  }
 },
 "nbformat": 4,
 "nbformat_minor": 0
}
