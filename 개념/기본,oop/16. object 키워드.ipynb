{
 "cells": [
  {
   "metadata": {},
   "cell_type": "markdown",
   "source": [
    "# 코틀린 Object 키워드(싱글턴)\n",
    "- 싱글턴\n",
    "- 컴패니언 객체\n",
    "- 객체 식(expression)\n",
    "에 사용됨.\n",
    "\n",
    "## 1. 싱글턴\n",
    "- objcet 키워드를 사용하면 자동으로 싱글톤이 됨\n",
    "- 클래스 선언과 동시에 인스턴스가 생성\n",
    "- 별도의 생성자 선언은 불가능"
   ]
  },
  {
   "metadata": {
    "ExecuteTime": {
     "end_time": "2025-09-05T14:38:08.579178Z",
     "start_time": "2025-09-05T14:38:08.465451Z"
    }
   },
   "cell_type": "code",
   "source": [
    "import java.time.Year\n",
    "\n",
    "object CompanyCommunications {\n",
    "    val currentYear = Year.now().value\n",
    "\n",
    "    fun getTagLine(): String {\n",
    "        return \"Our company rocks\"\n",
    "    }\n",
    "\n",
    "    fun getCopyrightLine(): String {\n",
    "        return \"$currentYear Our Company. All rights reserved.\"\n",
    "    }\n",
    "}"
   ],
   "outputs": [],
   "execution_count": 1
  },
  {
   "metadata": {},
   "cell_type": "markdown",
   "source": [
    "- object 키워드로 선언하면 클래스 키워드는 사용하지 않음.\n",
    "- 생성자를 만들 수 없으며, 외부에서는 인스턴스를 생성할 수 없음.\n",
    "- 클래스명으로 직접 접근\n",
    "- object 선언은 처음 사용될 때 인스턴스가 생성"
   ]
  },
  {
   "metadata": {},
   "cell_type": "code",
   "outputs": [],
   "execution_count": null,
   "source": [
    "println(CompanyCommunications.currentYear)\n",
    "println(CompanyCommunications.getTagLine())\n",
    "println(CompanyCommunications.getCopyrightLine())"
   ]
  },
  {
   "metadata": {},
   "cell_type": "markdown",
   "source": "- 일반 클래스처럼 상속이나 인터페이스도 구현 가능"
  },
  {
   "metadata": {
    "ExecuteTime": {
     "end_time": "2025-09-05T14:41:52.878755Z",
     "start_time": "2025-09-05T14:41:52.804789Z"
    }
   },
   "cell_type": "code",
   "source": [
    "interface MyInterFace {\n",
    "    val data: Int\n",
    "        get()  = 1\n",
    "}\n",
    "\n",
    "object DataClass: MyInterFace {\n",
    "}\n",
    "\n",
    "println(DataClass.data)"
   ],
   "outputs": [
    {
     "name": "stdout",
     "output_type": "stream",
     "text": [
      "1\n"
     ]
    }
   ],
   "execution_count": 3
  },
  {
   "metadata": {},
   "cell_type": "markdown",
   "source": "- 애플리케이션 전반에서 공통 설정, 메시지, 유틸 함수 등을 관리할 때 좋음."
  }
 ],
 "metadata": {
  "kernelspec": {
   "display_name": "Kotlin",
   "language": "kotlin",
   "name": "kotlin"
  },
  "language_info": {
   "name": "kotlin",
   "version": "2.2.20-dev-4982",
   "mimetype": "text/x-kotlin",
   "file_extension": ".kt",
   "pygments_lexer": "kotlin",
   "codemirror_mode": "text/x-kotlin",
   "nbconvert_exporter": ""
  }
 },
 "nbformat": 4,
 "nbformat_minor": 0
}
