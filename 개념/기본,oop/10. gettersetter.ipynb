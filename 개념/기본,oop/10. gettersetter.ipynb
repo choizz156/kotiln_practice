{
 "cells": [
  {
   "metadata": {},
   "cell_type": "markdown",
   "source": [
    "## 코틀린 클래스 구성요소\n",
    "\n",
    "| 용어                        | 의미                                           |\n",
    "| ------------------------- | -------------------------------------------- |\n",
    "| **Property (프로퍼티)**       | 클래스에 선언된 변수 (`val` 또는 `var`)                 |\n",
    "| **Backing Field (백킹 필드)** | 프로퍼티 값을 저장하는 실제 저장소 (getter/setter 내부에서만 사용) |\n",
    "| **Getter/Setter (접근자)**   | 프로퍼티 값을 읽거나 쓸 수 있게 해주는 메서드 (자동 생성 또는 커스텀 가능) |\n",
    "| **Field (필드)**            | Kotlin에는 **없음**. Java에서는 멤버 변수 자체를 의미함.      |\n"
   ]
  },
  {
   "metadata": {
    "ExecuteTime": {
     "end_time": "2025-09-02T18:52:39.442145Z",
     "start_time": "2025-09-02T18:52:39.352739Z"
    }
   },
   "cell_type": "code",
   "source": "class Employee(val firstName: String, var fullTime: Boolean)",
   "outputs": [],
   "execution_count": 1
  },
  {
   "metadata": {},
   "cell_type": "markdown",
   "source": [
    "- `val`: 읽기 전용 -> getter만 자동생성\n",
    "- `var`: 읽기/쓰기 가능 -> getter/setter 자동 생성\n",
    "- 기본 접근 제어자: public"
   ]
  },
  {
   "metadata": {
    "ExecuteTime": {
     "end_time": "2025-09-02T18:52:39.570475Z",
     "start_time": "2025-09-02T18:52:39.453491Z"
    }
   },
   "cell_type": "code",
   "source": [
    "val e = Employee(\"John\", true)\n",
    "println(e.firstName)       // getter 호출\n",
    "e.fullTime = false         // setter 호출\n",
    "println(e.fullTime)        // getter 호출"
   ],
   "outputs": [
    {
     "name": "stdout",
     "output_type": "stream",
     "text": [
      "John\n",
      "false\n"
     ]
    }
   ],
   "execution_count": 2
  },
  {
   "metadata": {},
   "cell_type": "markdown",
   "source": [
    "### private\n",
    "- 외부에서 getter/setter 모두 접근 불가\n",
    "- java와 다르게 getter/setter만 따로 public으로 둘 수 없음."
   ]
  },
  {
   "metadata": {},
   "cell_type": "code",
   "outputs": [],
   "execution_count": null,
   "source": "class Employee(val firstName: String, private var fullTime: Boolean)"
  },
  {
   "metadata": {},
   "cell_type": "markdown",
   "source": [
    "### getter/setter 커스텀\n",
    "- 생성자에서 val, var 제거 -> 생성자 매개변수로만 사용(프로퍼티가 아님)\n",
    "- 백킹 필드 사용 -> `field` 키워드 사용\n",
    "  - `field`는 커스텀 accessor 내부에서만 사용 가능\n",
    "  - 백킹 필드는 커스텀 accessor 있으면 생성됨"
   ]
  },
  {
   "metadata": {
    "ExecuteTime": {
     "end_time": "2025-09-05T17:10:33.307014Z",
     "start_time": "2025-09-05T17:10:33.129105Z"
    }
   },
   "cell_type": "code",
   "source": [
    "class Employee(firstName: String, fullTimeParam: Boolean){\n",
    "    var fullTimeParam = fullTimeParam\n",
    "        get(){\n",
    "            return field //백킹 필드\n",
    "        }\n",
    "\n",
    "        set(value){\n",
    "            field = value\n",
    "        }\n",
    "\n",
    "    val firstName = firstName\n",
    "        get(){\n",
    "            return field\n",
    "        }\n",
    "}\n",
    "\n",
    "val em = Employee(\"test\", true)\n",
    "println(em.firstName)\n",
    "println(em.fullTimeParam)\n",
    "em.fullTimeParam = false; //setter\n",
    "println(em.fullTimeParam) //getter"
   ],
   "outputs": [
    {
     "name": "stdout",
     "output_type": "stream",
     "text": [
      "test\n",
      "true\n",
      "false\n"
     ]
    }
   ],
   "execution_count": 1
  },
  {
   "metadata": {},
   "cell_type": "markdown",
   "source": [
    "## setter 대체\n",
    "- 생성자에 val, var 안쓰고 클래스 안에서 선언하면됨."
   ]
  },
  {
   "metadata": {
    "ExecuteTime": {
     "end_time": "2025-09-18T14:05:59.391548Z",
     "start_time": "2025-09-18T14:05:59.287208Z"
    }
   },
   "cell_type": "code",
   "source": [
    "class Employee(\n",
    "    firstName: String,\n",
    "    fullTimeParam: Boolean\n",
    ") {\n",
    "    // 읽기 전용 (getter만, 외부에서는 수정 불가)\n",
    "    val firstName = firstName\n",
    "\n",
    "    // 읽기 전용처럼 보이지만, 메서드로 값을 바꿀 수 있음\n",
    "    private var _fullTimeParam = fullTimeParam\n",
    "    val fullTimeParam: Boolean\n",
    "        get() = _fullTimeParam   // getter만 노출\n",
    "\n",
    "    // setter 기능을 메서드로 제공\n",
    "    fun changeFullTimeStatus(value: Boolean) {\n",
    "        println(\"Setter 대체 메서드 호출: $value\")\n",
    "        _fullTimeParam = value\n",
    "    }\n",
    "}\n",
    "\n",
    "\n",
    "val emp = Employee(\"Minseok\", true)\n",
    "\n",
    "println(emp.firstName)       // Minseok\n",
    "println(emp.fullTimeParam)   // true\n",
    "\n",
    "// emp.fullTimeParam = false  // ❌ 컴파일 에러 (setter 없음)\n",
    "\n",
    "emp.changeFullTimeStatus(false)  // setter 대체 메서드 사용\n",
    "println(emp.fullTimeParam)       // false"
   ],
   "outputs": [
    {
     "name": "stdout",
     "output_type": "stream",
     "text": [
      "Minseok\n",
      "true\n",
      "Setter 대체 메서드 호출: false\n",
      "false\n"
     ]
    }
   ],
   "execution_count": 3
  }
 ],
 "metadata": {
  "kernelspec": {
   "display_name": "Kotlin",
   "language": "kotlin",
   "name": "kotlin"
  },
  "language_info": {
   "name": "kotlin",
   "version": "2.2.20-dev-4982",
   "mimetype": "text/x-kotlin",
   "file_extension": ".kt",
   "pygments_lexer": "kotlin",
   "codemirror_mode": "text/x-kotlin",
   "nbconvert_exporter": ""
  }
 },
 "nbformat": 4,
 "nbformat_minor": 0
}
