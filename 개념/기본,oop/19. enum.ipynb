{
 "cells": [
  {
   "metadata": {},
   "cell_type": "markdown",
   "source": [
    "# enum\n",
    "- 열거형 상수 집합\n",
    "- 코틀린에서 `enum class`라는 키워드를 사용해야함"
   ]
  },
  {
   "metadata": {
    "ExecuteTime": {
     "end_time": "2025-09-05T15:25:51.140403Z",
     "start_time": "2025-09-05T15:25:51.012458Z"
    }
   },
   "cell_type": "code",
   "source": [
    "enum class Department {\n",
    "    HR,\n",
    "    IT,\n",
    "    ACCOUNTING,\n",
    "    SALES\n",
    "}\n"
   ],
   "outputs": [],
   "execution_count": 1
  },
  {
   "metadata": {},
   "cell_type": "markdown",
   "source": [
    "### 프로퍼티 함수 추가 가능\n",
    "- enum에도 생성자, 프로퍼티, 함수를 추가할 수 있음."
   ]
  },
  {
   "metadata": {
    "ExecuteTime": {
     "end_time": "2025-09-05T15:27:07.870828Z",
     "start_time": "2025-09-05T15:27:07.751238Z"
    }
   },
   "cell_type": "code",
   "source": [
    "enum class Department(val fullName: String, val numEmployees: Int) {\n",
    "    HR(\"Human Resources\", 5),\n",
    "    IT(\"Information Technology\", 10),\n",
    "    ACCOUNTING(\"Accounting\", 3),\n",
    "    SALES(\"Sales\", 20);  // ⚠️ 함수가 있을 경우 마지막 항목 뒤에 세미콜론(;) 필요\n",
    "\n",
    "    fun getDepartmentInfo(lastName: String): String {\n",
    "        return \"$fullName department has $numEmployees employees. $lastName\"\n",
    "    }\n",
    "}\n",
    "\n",
    "Department.HR.getDepartmentInfo(\"choi\")"
   ],
   "outputs": [
    {
     "data": {
      "text/plain": [
       "Human Resources department has 5 employees. choi"
      ]
     },
     "execution_count": 3,
     "metadata": {},
     "output_type": "execute_result"
    }
   ],
   "execution_count": 3
  },
  {
   "metadata": {},
   "cell_type": "markdown",
   "source": [
    "\n",
    "### `;` 필요\n",
    "- enum 함수가 정의될 경우, 마지막 열거 상수 뒤에 세미콜론을 붙여야함.\n",
    "\n",
    "### when문과 통함할 수 있음."
   ]
  },
  {
   "metadata": {
    "ExecuteTime": {
     "end_time": "2025-09-05T15:31:32.705407Z",
     "start_time": "2025-09-05T15:31:32.573299Z"
    }
   },
   "cell_type": "code",
   "source": [
    "enum class Department {\n",
    "    HR,\n",
    "    IT,\n",
    "    ACCOUNTING,\n",
    "    SALES\n",
    "}\n",
    "\n",
    "fun handleDepartment(dept: Department) {\n",
    "    when (dept) {\n",
    "        Department.HR -> println(\"Handle HR tasks\")\n",
    "        Department.IT -> println(\"Setup computers and networks\")\n",
    "        Department.ACCOUNTING -> println(\"Prepare financial reports\")\n",
    "        Department.SALES -> println(\"Meet with clients and close deals\")\n",
    "    }\n",
    "}\n",
    "\n",
    "handleDepartment(Department.HR)\n",
    "handleDepartment(Department.IT)\n",
    "handleDepartment(Department.ACCOUNTING)\n",
    "handleDepartment(Department.SALES)\n"
   ],
   "outputs": [
    {
     "name": "stdout",
     "output_type": "stream",
     "text": [
      "Handle HR tasks\n",
      "Setup computers and networks\n",
      "Prepare financial reports\n",
      "Meet with clients and close deals\n"
     ]
    }
   ],
   "execution_count": 6
  }
 ],
 "metadata": {
  "kernelspec": {
   "display_name": "Kotlin",
   "language": "kotlin",
   "name": "kotlin"
  },
  "language_info": {
   "name": "kotlin",
   "version": "2.2.20-dev-4982",
   "mimetype": "text/x-kotlin",
   "file_extension": ".kt",
   "pygments_lexer": "kotlin",
   "codemirror_mode": "text/x-kotlin",
   "nbconvert_exporter": ""
  }
 },
 "nbformat": 4,
 "nbformat_minor": 0
}
