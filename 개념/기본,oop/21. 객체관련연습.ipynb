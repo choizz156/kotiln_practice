{
 "cells": [
  {
   "metadata": {
    "ExecuteTime": {
     "end_time": "2025-09-05T16:57:28.829156Z",
     "start_time": "2025-09-05T16:57:28.677978Z"
    }
   },
   "cell_type": "code",
   "source": [
    "open class Bicycle(var cadence: Int, var speed: Int, var gear: Int) {\n",
    "\n",
    "    open fun applyBrake(decrement: Int) {\n",
    "        speed -= decrement\n",
    "    }\n",
    "\n",
    "    open fun speedUp(increment: Int) {\n",
    "        speed += increment\n",
    "    }\n",
    "\n",
    "    open fun printDescription() {\n",
    "        println(\"Bike is in gear $gear with a cadence of $cadence \" +\n",
    "                \"traveling at a speed of $speed.\")\n",
    "    }\n",
    "}\n",
    "\n",
    "\n",
    "open class Mountain(var seatHeight: Int, cadence: Int, speed: Int, gear: Int) :\n",
    "    Bicycle(cadence, speed, gear) {\n",
    "\n",
    "    override fun printDescription() {\n",
    "        super.printDescription()\n",
    "        println(\"Mountain is seat height: $seatHeight\")\n",
    "    }\n",
    "}\n",
    "\n",
    "open class RoadBike(val tireWidth: Int, cadence: Int, speed: Int, gear: Int) :\n",
    "    Bicycle(cadence, speed, gear) {\n",
    "\n",
    "    override fun printDescription() {\n",
    "        super.printDescription()\n",
    "        println(\"Road is tire width: $tireWidth\")\n",
    "    }\n",
    "}\n",
    "\n",
    "val b = Bicycle(1, 2, 3)\n",
    "b.printDescription()\n",
    "\n",
    "val m = Mountain(4, 5, 6,11)\n",
    "m.printDescription()\n",
    "\n",
    "val r = RoadBike(7,8,9,10)\n",
    "r.printDescription()\n"
   ],
   "outputs": [
    {
     "name": "stdout",
     "output_type": "stream",
     "text": [
      "Bike is in gear 3 with a cadence of 1 traveling at a speed of 2.\n",
      "Bike is in gear 11 with a cadence of 5 traveling at a speed of 6.\n",
      "Mountain is seat height: 4\n",
      "Bike is in gear 10 with a cadence of 8 traveling at a speed of 9.\n",
      "Road is tire width: 7\n"
     ]
    }
   ],
   "execution_count": 5
  },
  {
   "metadata": {},
   "cell_type": "markdown",
   "source": [
    "## 1. gear 파라미터 선택적으로 만들기\n",
    "- 상위 클래스의 기본값이 하위 클래스에 자동으로 적용되지 않아서, 각 서브 클래스도 기본값을 명시적으로 정의해야 함\n",
    "  - 인스턴스 생성 시 파라미터 생략해도 기본값 적용 됨."
   ]
  },
  {
   "metadata": {
    "ExecuteTime": {
     "end_time": "2025-09-05T17:00:15.362373Z",
     "start_time": "2025-09-05T17:00:15.134924Z"
    }
   },
   "cell_type": "code",
   "source": [
    "open class Bicycle(var cadence: Int, var speed: Int, var gear: Int = 10) {\n",
    "\n",
    "    open fun applyBrake(decrement: Int) {\n",
    "        speed -= decrement\n",
    "    }\n",
    "\n",
    "    open fun speedUp(increment: Int) {\n",
    "        speed += increment\n",
    "    }\n",
    "\n",
    "    open fun printDescription() {\n",
    "        println(\"Bike is in gear $gear with a cadence of $cadence \" +\n",
    "                \"traveling at a speed of $speed.\")\n",
    "    }\n",
    "}\n",
    "\n",
    "\n",
    "open class Mountain(var seatHeight: Int, cadence: Int, speed: Int, gear: Int = 10) :\n",
    "    Bicycle(cadence, speed, gear) {\n",
    "\n",
    "    override fun printDescription() {\n",
    "        super.printDescription()\n",
    "        println(\"Mountain is seat height: $seatHeight\")\n",
    "    }\n",
    "}\n",
    "\n",
    "open class RoadBike(val tireWidth: Int, cadence: Int, speed: Int, gear: Int = 10) :\n",
    "    Bicycle(cadence, speed, gear) {\n",
    "\n",
    "    override fun printDescription() {\n",
    "        super.printDescription()\n",
    "        println(\"Road is tire width: $tireWidth\")\n",
    "    }\n",
    "}\n",
    "\n",
    "val b = Bicycle(1, 2)\n",
    "b.printDescription()\n",
    "\n",
    "val m = Mountain(4, 5, 6)\n",
    "m.printDescription()\n",
    "\n",
    "val r = RoadBike(7,8,9)\n",
    "r.printDescription()"
   ],
   "outputs": [
    {
     "name": "stdout",
     "output_type": "stream",
     "text": [
      "Bike is in gear 10 with a cadence of 1 traveling at a speed of 2.\n",
      "Bike is in gear 10 with a cadence of 5 traveling at a speed of 6.\n",
      "Mountain is seat height: 4\n",
      "Bike is in gear 10 with a cadence of 8 traveling at a speed of 9.\n",
      "Road is tire width: 7\n"
     ]
    }
   ],
   "execution_count": 6
  },
  {
   "metadata": {},
   "cell_type": "markdown",
   "source": "## 2. 보조 생성자 추가\n"
  },
  {
   "metadata": {
    "ExecuteTime": {
     "end_time": "2025-09-05T17:05:23.712495Z",
     "start_time": "2025-09-05T17:05:23.610964Z"
    }
   },
   "cell_type": "code",
   "source": [
    "open class Bicycle(var cadence: Int, var speed: Int, var gear: Int = 10) {\n",
    "\n",
    "    open fun applyBrake(decrement: Int) {\n",
    "        speed -= decrement\n",
    "    }\n",
    "\n",
    "    open fun speedUp(increment: Int) {\n",
    "        speed += increment\n",
    "    }\n",
    "\n",
    "    open fun printDescription() {\n",
    "        println(\"Bike is in gear $gear with a cadence of $cadence \" +\n",
    "                \"traveling at a speed of $speed.\")\n",
    "    }\n",
    "}\n",
    "\n",
    "\n",
    "open class Mountain(var seatHeight: Int, cadence: Int, speed: Int, gear: Int = 10) :\n",
    "    Bicycle(cadence, speed, gear) {\n",
    "\n",
    "    constructor(color: String, seatHeight: Int, cadence: Int, speed: Int, gear: Int = 10)\n",
    "            : this(seatHeight, cadence, speed, gear) {\n",
    "        println(\"This is the color: $color\")\n",
    "    }\n",
    "\n",
    "    override fun printDescription() {\n",
    "        super.printDescription()\n",
    "        println(\"Mountain is seat height: $seatHeight\")\n",
    "    }\n",
    "}\n",
    "\n",
    "val m = Mountain(\"Blue\", 20, 10, 10)\n",
    "m.printDescription()"
   ],
   "outputs": [
    {
     "name": "stdout",
     "output_type": "stream",
     "text": [
      "This is the color: Blue\n",
      "Bike is in gear 10 with a cadence of 10 traveling at a speed of 10.\n",
      "Mountain is seat height: 20\n"
     ]
    }
   ],
   "execution_count": 10
  },
  {
   "metadata": {},
   "cell_type": "markdown",
   "source": "- 기본값이 마지막에 있지 않은 경우 이름을 각각 명시해야 하므로 color는 맨 앞에 있는 것이 좋음."
  },
  {
   "metadata": {},
   "cell_type": "markdown",
   "source": "## 3. companion object 사용하기"
  },
  {
   "metadata": {
    "ExecuteTime": {
     "end_time": "2025-09-05T17:06:57.282290Z",
     "start_time": "2025-09-05T17:06:57.148608Z"
    }
   },
   "cell_type": "code",
   "source": [
    "open class Bicycle(var cadence: Int, var speed: Int, var gear: Int = 10) {\n",
    "\n",
    "    open fun applyBrake(decrement: Int) {\n",
    "        speed -= decrement\n",
    "    }\n",
    "\n",
    "    open fun speedUp(increment: Int) {\n",
    "        speed += increment\n",
    "    }\n",
    "\n",
    "    open fun printDescription() {\n",
    "        println(\"Bike is in gear $gear with a cadence of $cadence \" +\n",
    "                \"traveling at a speed of $speed.\")\n",
    "    }\n",
    "}\n",
    "\n",
    "\n",
    "open class Mountain(var seatHeight: Int, cadence: Int, speed: Int, gear: Int = 10) :\n",
    "    Bicycle(cadence, speed, gear) {\n",
    "\n",
    "    companion object {\n",
    "        val availableColors = listOf(\"blue\", \"red\", \"white\", \"black\", \"green\", \"brown\")\n",
    "    }\n",
    "\n",
    "    constructor(color: String, seatHeight: Int, cadence: Int, speed: Int, gear: Int = 10)\n",
    "            : this(seatHeight, cadence, speed, gear) {\n",
    "        println(\"This is the color: $color\")\n",
    "    }\n",
    "\n",
    "    override fun printDescription() {\n",
    "        super.printDescription()\n",
    "        println(\"Mountain is seat height: $seatHeight\")\n",
    "    }\n",
    "}\n",
    "\n",
    "\n",
    "Mountain.availableColors.forEach { println(it) }"
   ],
   "outputs": [
    {
     "name": "stdout",
     "output_type": "stream",
     "text": [
      "blue\n",
      "red\n",
      "white\n",
      "black\n",
      "green\n",
      "brown\n"
     ]
    }
   ],
   "execution_count": 12
  },
  {
   "metadata": {
    "ExecuteTime": {
     "end_time": "2025-09-05T17:14:19.697546Z",
     "start_time": "2025-09-05T17:14:19.576159Z"
    }
   },
   "cell_type": "code",
   "source": [
    "abstract class Bicycle(var cadence: Int, var speed: Int) {\n",
    "    var gear: Int = 10\n",
    "    open fun applyBrake(decrement: Int) {\n",
    "        speed -= decrement\n",
    "    }\n",
    "\n",
    "    open fun speedUp(increment: Int) {\n",
    "        speed += increment\n",
    "    }\n",
    "\n",
    "    open fun printDescription() {\n",
    "        println(\"Bike is in gear $gear with a cadence of $cadence \" +\n",
    "                \"traveling at a speed of $speed.\")\n",
    "    }\n",
    "}\n",
    "\n",
    "open class Mountain(var seatHeight: Int, cadence: Int, speed: Int) :\n",
    "    Bicycle(cadence, speed) {\n",
    "\n",
    "    companion object {\n",
    "        val availableColors = listOf(\"blue\", \"red\", \"white\", \"black\", \"green\", \"brown\")\n",
    "    }\n",
    "\n",
    "    constructor(color: String, seatHeight: Int, cadence: Int, speed: Int)\n",
    "            : this(seatHeight, cadence, speed) {\n",
    "        println(\"This is the color: $color\")\n",
    "    }\n",
    "\n",
    "    override fun printDescription() {\n",
    "        super.printDescription()\n",
    "        println(\"Mountain is seat height: $seatHeight\")\n",
    "    }\n",
    "}\n",
    "\n",
    "val m = Mountain(20, 10, 16)\n",
    "m.printDescription()\n",
    "m.gear\n"
   ],
   "outputs": [
    {
     "name": "stdout",
     "output_type": "stream",
     "text": [
      "Bike is in gear 10 with a cadence of 10 traveling at a speed of 16.\n",
      "Mountain is seat height: 20\n"
     ]
    },
    {
     "data": {
      "text/plain": [
       "10"
      ]
     },
     "execution_count": 17,
     "metadata": {},
     "output_type": "execute_result"
    }
   ],
   "execution_count": 17
  }
 ],
 "metadata": {
  "kernelspec": {
   "display_name": "Kotlin",
   "language": "kotlin",
   "name": "kotlin"
  },
  "language_info": {
   "name": "kotlin",
   "version": "2.2.20-dev-4982",
   "mimetype": "text/x-kotlin",
   "file_extension": ".kt",
   "pygments_lexer": "kotlin",
   "codemirror_mode": "text/x-kotlin",
   "nbconvert_exporter": ""
  }
 },
 "nbformat": 4,
 "nbformat_minor": 0
}
