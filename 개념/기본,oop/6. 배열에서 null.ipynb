{
 "cells": [
  {
   "metadata": {},
   "cell_type": "markdown",
   "source": [
    "### 배열을 생성할 때, null이 들어갈 수 있다면 명시적으로 표현해야 한다\n",
    "- arrayOfNulls<T>(size: Int)를 사용하면 null 배열 생성 가능"
   ]
  },
  {
   "metadata": {
    "ExecuteTime": {
     "end_time": "2025-08-29T16:46:28.437189Z",
     "start_time": "2025-08-29T16:46:28.238629Z"
    }
   },
   "cell_type": "code",
   "source": [
    "val nullalbeInts: Array<Int?> = arrayOfNulls(5)\n",
    "\n",
    "for(elm in nullalbeInts) println(elm)"
   ],
   "outputs": [
    {
     "name": "stdout",
     "output_type": "stream",
     "text": [
      "null\n",
      "null\n",
      "null\n",
      "null\n",
      "null\n"
     ]
    }
   ],
   "execution_count": 1
  },
  {
   "metadata": {},
   "cell_type": "markdown",
   "source": [
    "### 기본 타입 배열(IntArray, DoubleArray 등)은 null을 포함하지 않는다\n",
    "- val intArr = IntArray(5) → [0, 0, 0, 0, 0]\n",
    "- 초기화가 null이 아닌 기본값(0, 0.0, false 등) 으로 이루어짐 → NullPointerException 발생 가능성 없음"
   ]
  },
  {
   "metadata": {},
   "cell_type": "markdown",
   "source": [
    "### arrayOfNulls로 생성한 배열의 요소들은 null이기 때문에 사용이 제한됨\n",
    "- Kotlin은 타입이 nullable일 경우 모든 멤버 접근을 제한함."
   ]
  }
 ],
 "metadata": {
  "kernelspec": {
   "display_name": "Kotlin",
   "language": "kotlin",
   "name": "kotlin"
  },
  "language_info": {
   "name": "kotlin",
   "version": "2.2.20-dev-4982",
   "mimetype": "text/x-kotlin",
   "file_extension": ".kt",
   "pygments_lexer": "kotlin",
   "codemirror_mode": "text/x-kotlin",
   "nbconvert_exporter": ""
  }
 },
 "nbformat": 4,
 "nbformat_minor": 0
}
