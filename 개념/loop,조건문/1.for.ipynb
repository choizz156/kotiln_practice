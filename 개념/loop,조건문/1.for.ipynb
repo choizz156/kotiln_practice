{
 "cells": [
  {
   "metadata": {},
   "cell_type": "markdown",
   "source": [
    "# for 루프\n",
    "## 1. Range\n",
    "- 시작부터 끝값가지 포함하는 구간\n",
    "- `..` 연산자는 범위 연산자, 시작과 끝 모두 포함\n",
    "- `in` 특정 값이 범위에 포함되는지 확인할 수 있음"
   ]
  },
  {
   "metadata": {},
   "cell_type": "code",
   "outputs": [],
   "execution_count": null,
   "source": [
    "val range = 0..5\n",
    "println(3 in range)"
   ]
  },
  {
   "metadata": {},
   "cell_type": "markdown",
   "source": "#### char 범위도 가능"
  },
  {
   "metadata": {
    "ExecuteTime": {
     "end_time": "2025-09-08T13:31:30.503041Z",
     "start_time": "2025-09-08T13:31:30.400014Z"
    }
   },
   "cell_type": "code",
   "source": [
    "val charRange = 'a'..'z'\n",
    "println('q' in charRange)"
   ],
   "outputs": [
    {
     "name": "stdout",
     "output_type": "stream",
     "text": [
      "true\n"
     ]
    }
   ],
   "execution_count": 2
  },
  {
   "metadata": {},
   "cell_type": "markdown",
   "source": "### String도 범위 정의는 가능하지만, 실제 루프는 사용 불갚"
  },
  {
   "metadata": {},
   "cell_type": "code",
   "outputs": [],
   "execution_count": null,
   "source": [
    "val stringRange = \"abc\"..\"xyz\"\n",
    "println(\"ccc\" in stringRange)"
   ]
  },
  {
   "metadata": {},
   "cell_type": "markdown",
   "source": [
    "### 역방향 Range\n",
    "- `downTo` 키워드를 사용해야 역순이 제대로 만들어짐"
   ]
  },
  {
   "metadata": {},
   "cell_type": "code",
   "outputs": [],
   "execution_count": null,
   "source": [
    "val backwardRange = 5 downTo 1\n",
    "for(index in backwardRange) {\n",
    "    println(index)\n",
    "}"
   ]
  },
  {
   "metadata": {},
   "cell_type": "markdown",
   "source": [
    "### step(간격지정)\n",
    "- `.step`: 범위 내 값을 일정 간격으로 증가시킴"
   ]
  },
  {
   "metadata": {
    "ExecuteTime": {
     "end_time": "2025-09-08T13:39:01.526429Z",
     "start_time": "2025-09-08T13:39:01.409619Z"
    }
   },
   "cell_type": "code",
   "source": [
    "val stepRange = 3..15\n",
    "val step3 = stepRange.step(3)\n",
    "for (index in step3) {\n",
    "    println(index)\n",
    "}\n",
    "println(\"====\")\n",
    "for (i in 1..20 step 4) {\n",
    "    println(i)\n",
    "}\n",
    "println(\"====\")\n",
    "for (i in 20 downTo 10 step 5) {\n",
    "    println(i)\n",
    "}"
   ],
   "outputs": [
    {
     "name": "stdout",
     "output_type": "stream",
     "text": [
      "3\n",
      "6\n",
      "9\n",
      "12\n",
      "15\n",
      "====\n",
      "1\n",
      "5\n",
      "9\n",
      "13\n",
      "17\n",
      "====\n",
      "20\n",
      "15\n",
      "10\n"
     ]
    }
   ],
   "execution_count": 11
  },
  {
   "metadata": {},
   "cell_type": "markdown",
   "source": [
    "### until\n",
    "- 끝값을 포함하지 않는 범위를 만들고 싶을 때 사용"
   ]
  },
  {
   "metadata": {},
   "cell_type": "code",
   "outputs": [],
   "execution_count": null,
   "source": [
    "for (i in 1 until 10) {\n",
    "    print(i)\n",
    "}"
   ]
  },
  {
   "metadata": {},
   "cell_type": "markdown",
   "source": [
    "### 문자열 순회\n",
    "- iterator가 있기 때문에 순회 가능\n"
   ]
  },
  {
   "metadata": {
    "ExecuteTime": {
     "end_time": "2025-09-08T13:41:29.184108Z",
     "start_time": "2025-09-08T13:41:29.109472Z"
    }
   },
   "cell_type": "code",
   "source": [
    "import javax.xml.transform.TransformerFactory\n",
    "\n",
    "val str = \"hello\"\n",
    "for(c in str) {\n",
    "  print(c + \",\")\n",
    "}"
   ],
   "outputs": [
    {
     "name": "stdout",
     "output_type": "stream",
     "text": [
      "h,e,l,l,o,"
     ]
    }
   ],
   "execution_count": 14
  },
  {
   "metadata": {},
   "cell_type": "markdown",
   "source": "### 배열 반복"
  },
  {
   "metadata": {
    "ExecuteTime": {
     "end_time": "2025-09-08T13:44:24.593358Z",
     "start_time": "2025-09-08T13:44:24.443300Z"
    }
   },
   "cell_type": "code",
   "source": [
    "val seasons = arrayOf(\"spring\", \"summer\", \"fall\", \"winter\")\n",
    "\n",
    "for (s in seasons) {\n",
    "    print(s)\n",
    "}\n",
    "println()\n",
    "\n",
    "//인덱스 사용\n",
    "for (index in seasons.indices) {\n",
    "    println(\"${seasons[index]} is season number $index\")\n",
    "}\n",
    "\n",
    "seasons.forEach {\n",
    "    print(it + \" \")\n",
    "}\n",
    "println()\n",
    "seasons.forEachIndexed { index, s ->\n",
    "    println(\"$index is $s\")\n",
    "}\n",
    "\n"
   ],
   "outputs": [
    {
     "name": "stdout",
     "output_type": "stream",
     "text": [
      "springsummerfallwinter\n",
      "spring is season number 0\n",
      "summer is season number 1\n",
      "fall is season number 2\n",
      "winter is season number 3\n",
      "spring summer fall winter \n",
      "0 is spring\n",
      "1 is summer\n",
      "2 is fall\n",
      "3 is winter\n"
     ]
    }
   ],
   "execution_count": 18
  },
  {
   "metadata": {},
   "cell_type": "markdown",
   "source": "### in / !in 연산자"
  },
  {
   "metadata": {
    "ExecuteTime": {
     "end_time": "2025-09-08T13:54:54.962120Z",
     "start_time": "2025-09-08T13:54:54.822962Z"
    }
   },
   "cell_type": "code",
   "source": [
    "println(\"spring\" in seasons)\n",
    "println(32 !in 1..10)\n",
    "\n",
    "val str = \"kotlin\"\n",
    "if ('z' !in str) {\n",
    "    println(\"'z' is not in \\\"$str\\\"\") // 출력됨\n",
    "}"
   ],
   "outputs": [
    {
     "name": "stdout",
     "output_type": "stream",
     "text": [
      "true\n",
      "true\n",
      "'z' is not in \"kotlin\"\n"
     ]
    }
   ],
   "execution_count": 27
  },
  {
   "metadata": {},
   "cell_type": "markdown",
   "source": [
    "### 네이밍 루프, break/continue\n",
    "- 중첩 루프에서 특정 루프를 break 또는 continue하려면 루프에 이름 부여 가능"
   ]
  },
  {
   "metadata": {
    "ExecuteTime": {
     "end_time": "2025-09-08T13:51:46.486026Z",
     "start_time": "2025-09-08T13:51:46.436134Z"
    }
   },
   "cell_type": "code",
   "source": [
    "for (i in 1..3) {\n",
    "    outer@ for (j in 1..4) {\n",
    "        for (k in 5..10) {\n",
    "            if (k == 7) break@outer\n",
    "            println(k)\n",
    "        }\n",
    "    }\n",
    "    println(\"i = $i\")\n",
    "}"
   ],
   "outputs": [
    {
     "name": "stdout",
     "output_type": "stream",
     "text": [
      "5\n",
      "6\n",
      "i = 1\n",
      "5\n",
      "6\n",
      "i = 2\n",
      "5\n",
      "6\n",
      "i = 3\n"
     ]
    }
   ],
   "execution_count": 25
  },
  {
   "metadata": {},
   "cell_type": "markdown",
   "source": [
    "- `break@outer`: @outer가 붙은 루프를 빠져나감.\n",
    "- continue@outer: 현재 루프를 건너뛰고 i 루프의 다음 반복으로 이동\n"
   ]
  }
 ],
 "metadata": {
  "kernelspec": {
   "display_name": "Kotlin",
   "language": "kotlin",
   "name": "kotlin"
  },
  "language_info": {
   "name": "kotlin",
   "version": "2.2.20-dev-4982",
   "mimetype": "text/x-kotlin",
   "file_extension": ".kt",
   "pygments_lexer": "kotlin",
   "codemirror_mode": "text/x-kotlin",
   "nbconvert_exporter": ""
  }
 },
 "nbformat": 4,
 "nbformat_minor": 0
}
