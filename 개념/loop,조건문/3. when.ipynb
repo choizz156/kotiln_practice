{
 "cells": [
  {
   "metadata": {},
   "cell_type": "markdown",
   "source": [
    "## when\n",
    "\n",
    "## 1. 기본 구문과 자동 break\n",
    "- 값과 실행될 코드 사이를 화살표(->)로 구분\n",
    "- when이 명시적인 break 문을 요구하지 않음."
   ]
  },
  {
   "metadata": {
    "ExecuteTime": {
     "end_time": "2025-09-09T08:01:57.716452Z",
     "start_time": "2025-09-09T08:01:57.649088Z"
    }
   },
   "cell_type": "code",
   "source": [
    "val num = 300\n",
    "\n",
    "when(num){\n",
    "    100 -> println(num)\n",
    "    200 -> println(num*2)\n",
    "    else -> println(num/2)\n",
    "}"
   ],
   "outputs": [
    {
     "name": "stdout",
     "output_type": "stream",
     "text": [
      "150\n"
     ]
    }
   ],
   "execution_count": 8
  },
  {
   "metadata": {},
   "cell_type": "markdown",
   "source": [
    "## 2. 고급 분기 로직\n",
    "- **여러개의 값**: 쉼표로 구분하여 여러 값을 하나의 분기에 결합 가능\n",
    "  - 동일한 코드를 필요로 하는 경우들을 그룹화 할때 용이\n",
    "- **범위**: `in` 키워드를 사용하면 for 루프에서 범위를 사용하는 것과 유사하게, 값이 특정범위에 속하는지 확인할 수 있음\n",
    "- **표현식**: 분기는 값으로 평가되는 표현식이 될 수도 있어, 뛰어난 유연성제공"
   ]
  },
  {
   "metadata": {
    "ExecuteTime": {
     "end_time": "2025-09-09T08:09:54.578294Z",
     "start_time": "2025-09-09T08:09:54.500378Z"
    }
   },
   "cell_type": "code",
   "source": [
    "val num = 200\n",
    "when (num) {\n",
    "    100, 200 -> println(num * 2)\n",
    "    else -> println(num / 2)\n",
    "}\n",
    "\n",
    "when (num) {\n",
    "    in 100..300 -> println(num / 2)\n",
    "}\n",
    "\n",
    "val y = 10\n",
    "when (num) {\n",
    "    // y + 80 == num 이면 수행\n",
    "    y + 80 -> println(\"90\")\n",
    "    // y * 20 == num이면 수행\n",
    "    y * 20 -> println(\"200\")\n",
    "    else -> println(\"No match\")\n",
    "}\n"
   ],
   "outputs": [
    {
     "name": "stdout",
     "output_type": "stream",
     "text": [
      "400\n",
      "100\n",
      "200\n"
     ]
    }
   ],
   "execution_count": 19
  },
  {
   "metadata": {},
   "cell_type": "markdown",
   "source": [
    "## 3. 타입 확인과 스마트 캐스팅\n",
    "- 변수의 타입을 확인하는데 사용될 수 있음\n",
    "- `is` 키워드가 사용되며 스마트 캐스팅이됨"
   ]
  },
  {
   "metadata": {
    "ExecuteTime": {
     "end_time": "2025-09-09T08:04:36.269688Z",
     "start_time": "2025-09-09T08:04:36.209561Z"
    }
   },
   "cell_type": "code",
   "source": [
    "val something: Any = \"I'm a string\"\n",
    "\n",
    "when (something) {\n",
    "    is String -> println(something.uppercase())\n",
    "    is Int -> println(something)\n",
    "}"
   ],
   "outputs": [
    {
     "name": "stdout",
     "output_type": "stream",
     "text": [
      "I'M A STRING\n"
     ]
    }
   ],
   "execution_count": 15
  },
  {
   "metadata": {},
   "cell_type": "markdown",
   "source": [
    "## 4. when을 표현식으로 사용하기\n",
    "- when은 값을 반환할 수 있는 표현식\n",
    "- 분기 내 마지막 문의 값이 해당 분기의 반환 값이 됨\n",
    "- when 블록은 모든 경우를 포괄해야 함\n",
    "  - 항상 값이 반환되도록 모든 가능한 시나리오를 고려해야 함\n",
    "- 모든 경우를 포괄하지 않는 검사에선 else를 붙여야함\n",
    "- enum 클래스와 함께 when 표현식이 사용될 때는 모든 가능한 열거형 값이 분기로 나열되어 있다면 else 분기는 선택사항"
   ]
  },
  {
   "metadata": {},
   "cell_type": "code",
   "outputs": [],
   "execution_count": null,
   "source": ""
  },
  {
   "metadata": {
    "ExecuteTime": {
     "end_time": "2025-09-09T08:25:29.122642Z",
     "start_time": "2025-09-09T08:25:29.048072Z"
    }
   },
   "cell_type": "code",
   "source": [
    "import kotlin.random.Random\n",
    "\n",
    "val num = 100\n",
    "val ret = when (num) {\n",
    "    100 -> \"Red\"\n",
    "    200 -> \"Green\"\n",
    "    300 -> \"Blue\"\n",
    "    else -> \"Unknown\"\n",
    "}\n",
    "println(ret)\n",
    "\n",
    "enum class Direction {\n",
    "    NORTH, SOUTH, EAST, WEST;\n",
    "}\n",
    "\n",
    "val d = when (Direction.NORTH) {\n",
    "    Direction.NORTH -> \"↑\"\n",
    "    Direction.SOUTH -> \"↓\"\n",
    "    Direction.EAST -> \"→\"\n",
    "    Direction.WEST -> \"←\"\n",
    "}\n",
    "\n",
    "println(d == \"↑\")\n",
    "\n"
   ],
   "outputs": [
    {
     "name": "stdout",
     "output_type": "stream",
     "text": [
      "Red\n",
      "true\n"
     ]
    }
   ],
   "execution_count": 33
  },
  {
   "metadata": {
    "ExecuteTime": {
     "end_time": "2025-09-09T08:27:02.669098Z",
     "start_time": "2025-09-09T08:27:02.600100Z"
    }
   },
   "cell_type": "code",
   "source": [
    "sealed class Result\n",
    "\n",
    "data class Success(val data: String) : Result()\n",
    "data class Error(val code: Int) : Result()\n",
    "object Loading : Result()\n",
    "\n",
    "val result = Success(\"good\")\n",
    "\n",
    "fun handleResult(result: Result): String {\n",
    "    val msg = when (result) {\n",
    "        is Success -> \"Success: ${result.data}\"\n",
    "        is Error -> \"Error Code: ${result.code}\"\n",
    "        is Loading -> \"Loading...\"\n",
    "    }\n",
    "\n",
    "    return msg\n",
    "}\n",
    "\n",
    "println(handleResult(result))\n",
    "\n"
   ],
   "outputs": [
    {
     "name": "stdout",
     "output_type": "stream",
     "text": [
      "Success: good\n"
     ]
    }
   ],
   "execution_count": 48
  },
  {
   "metadata": {},
   "cell_type": "markdown",
   "source": [
    "## 5. 인자 없이 when 사용하기\n",
    "- if, if-else를 대체 가능함\n",
    "- 각 분기 조건은 boolean 표현 식"
   ]
  },
  {
   "metadata": {
    "ExecuteTime": {
     "end_time": "2025-09-09T08:08:13.281453Z",
     "start_time": "2025-09-09T08:08:13.215036Z"
    }
   },
   "cell_type": "code",
   "source": [
    "val num = 105\n",
    "val num2 = -50\n",
    "when {\n",
    "    num < num2 -> println(\"num is less than num2\")\n",
    "    num > num2 -> println(\"num is greater than num2\")\n",
    "    else -> println(\"num equals num2\")\n",
    "}\n"
   ],
   "outputs": [
    {
     "name": "stdout",
     "output_type": "stream",
     "text": [
      "num is greater than num2\n"
     ]
    }
   ],
   "execution_count": 16
  }
 ],
 "metadata": {
  "kernelspec": {
   "display_name": "Kotlin",
   "language": "kotlin",
   "name": "kotlin"
  },
  "language_info": {
   "name": "kotlin",
   "version": "2.2.20-dev-4982",
   "mimetype": "text/x-kotlin",
   "file_extension": ".kt",
   "pygments_lexer": "kotlin",
   "codemirror_mode": "text/x-kotlin",
   "nbconvert_exporter": ""
  }
 },
 "nbformat": 4,
 "nbformat_minor": 0
}
