{
 "cells": [
  {
   "metadata": {},
   "cell_type": "markdown",
   "source": [
    "# if\n",
    "- if가 단순히 조건문 역할을 넘어, 값을 반환하는 표현식(Expression)으로 사용될 수 있음\n",
    "\n",
    "## 1. if 문, if 표현식"
   ]
  },
  {
   "metadata": {
    "ExecuteTime": {
     "end_time": "2025-09-08T14:04:05.617907Z",
     "start_time": "2025-09-08T14:04:05.437769Z"
    }
   },
   "cell_type": "code",
   "source": [
    "val num = 10\n",
    "if (num > 0) {\n",
    "    println(\"positive\")\n",
    "}\n",
    "\n",
    "val result = if(num > 0) \"positive\" else \"0 or negative\"\n",
    "println(\"result: $result\")"
   ],
   "outputs": [
    {
     "name": "stdout",
     "output_type": "stream",
     "text": [
      "positive\n",
      "result: positive\n"
     ]
    }
   ],
   "execution_count": 1
  },
  {
   "metadata": {},
   "cell_type": "markdown",
   "source": "## 2. 3항 연산자 if"
  },
  {
   "metadata": {
    "ExecuteTime": {
     "end_time": "2025-09-08T14:04:53.984141Z",
     "start_time": "2025-09-08T14:04:53.924057Z"
    }
   },
   "cell_type": "code",
   "source": [
    "val result = if(num > 0)\"Positive\" else \"Negative\"\n",
    "println(\"result: $result\")"
   ],
   "outputs": [
    {
     "name": "stdout",
     "output_type": "stream",
     "text": [
      "result: Positive\n"
     ]
    }
   ],
   "execution_count": 3
  },
  {
   "metadata": {},
   "cell_type": "markdown",
   "source": [
    "## 3. if 문 규칙\n",
    "- 반드시 if와 else가 있어야 함.\n",
    "- 마지막 구문이 반환값"
   ]
  },
  {
   "metadata": {},
   "cell_type": "code",
   "outputs": [],
   "execution_count": null,
   "source": [
    "val finalValue = if (69 < 22) {\n",
    "    println(\"조건이 참입니다.\")\n",
    "    50\n",
    "} else {\n",
    "    println(\"조건이 거짓입니다.\")\n",
    "    592 // 이 값이 반환됩니다.\n",
    "}\n",
    "println(finalValue) // \"조건이 거짓입니다.\"와 함께 592 출력"
   ]
  },
  {
   "metadata": {},
   "cell_type": "markdown",
   "source": "### 다양한 활용"
  },
  {
   "metadata": {
    "ExecuteTime": {
     "end_time": "2025-09-08T14:08:48.644591Z",
     "start_time": "2025-09-08T14:08:48.476840Z"
    }
   },
   "cell_type": "code",
   "source": [
    "// 변수에 할당 가능\n",
    "val num = if(1 > 0) 50 else 1\n",
    "println(\"num: $num\")\n",
    "// 함수 인자로 전달 가능\n",
    "println(if(1 > -1) 52 else -1)\n",
    "// 문자열 템플릿에 포함\n",
    "println(\"The result is ${if (1 > -1) 50 else 592}\")"
   ],
   "outputs": [
    {
     "name": "stdout",
     "output_type": "stream",
     "text": [
      "num: 50\n",
      "52\n",
      "The result is 50\n"
     ]
    }
   ],
   "execution_count": 5
  },
  {
   "metadata": {},
   "cell_type": "markdown",
   "source": [
    "### Unit 타입\n",
    "- 명시적인 값을 반환하지 않으면 반환 값은 Unit 타입"
   ]
  },
  {
   "metadata": {
    "ExecuteTime": {
     "end_time": "2025-09-08T14:09:54.908071Z",
     "start_time": "2025-09-08T14:09:54.849247Z"
    }
   },
   "cell_type": "code",
   "source": [
    "val x = if (true) {\n",
    "    println(\"조건이 참입니다.\")\n",
    "} else {\n",
    "    println(\"조건이 거짓입니다.\")\n",
    "}\n",
    "println(x)"
   ],
   "outputs": [
    {
     "name": "stdout",
     "output_type": "stream",
     "text": [
      "조건이 참입니다.\n",
      "kotlin.Unit\n"
     ]
    }
   ],
   "execution_count": 7
  }
 ],
 "metadata": {
  "kernelspec": {
   "display_name": "Kotlin",
   "language": "kotlin",
   "name": "kotlin"
  },
  "language_info": {
   "name": "kotlin",
   "version": "2.2.20-dev-4982",
   "mimetype": "text/x-kotlin",
   "file_extension": ".kt",
   "pygments_lexer": "kotlin",
   "codemirror_mode": "text/x-kotlin",
   "nbconvert_exporter": ""
  }
 },
 "nbformat": 4,
 "nbformat_minor": 0
}
