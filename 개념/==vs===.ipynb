{
 "cells": [
  {
   "metadata": {},
   "cell_type": "markdown",
   "source": [
    "### '=='은 구조 동등성\n",
    "- java에서 equals()랑 같음\n",
    "- 내용으로 true, false\n",
    "\n",
    "### '===' 참조 동등성\n",
    "- java에서 '=='과 같음\n",
    "- 메모리 주소 비교\n",
    "\n",
    "\n",
    "### 부정 연산자\n",
    "- `!=` : 내용이 다를 경우 true\n",
    "- `!==` : 참조가 다르면 true"
   ]
  },
  {
   "metadata": {
    "ExecuteTime": {
     "end_time": "2025-08-29T08:48:47.186966Z",
     "start_time": "2025-08-29T08:48:47.075213Z"
    }
   },
   "cell_type": "code",
   "source": [
    "\n",
    "\n",
    "\n",
    "class Employee(val name: String, val age: Int) {\n",
    "    override fun equals(other: Any?): Boolean {\n",
    "        if (other is Employee) {\n",
    "            return name == other.name && age == other.age\n",
    "        }\n",
    "        return false\n",
    "    }\n",
    "}\n",
    "\n",
    "val emp1 = Employee(\"a\", 1)\n",
    "val emp2 = Employee(\"b\", 2)\n",
    "val emp3 = Employee(\"b\", 2)\n",
    "val emp4 = emp1\n",
    "\n",
    "println(emp1 == emp2) //false\n",
    "\n",
    "println(emp2 == emp3) //true\n",
    "\n",
    "println(emp1 === emp2) //false\n",
    "println(emp2 === emp3) //false\n",
    "\n",
    "println(emp1 === emp4) //true(같은 인스턴스)\n",
    "\n",
    "println(emp3 != emp2) //false(내용같음)\n",
    "println(emp2 !== emp3) //true(다른 인스턴스)\n",
    "println(emp4 !== emp1) //false(같은 인스턴스)"
   ],
   "outputs": [
    {
     "name": "stdout",
     "output_type": "stream",
     "text": [
      "false\n",
      "true\n",
      "false\n",
      "false\n",
      "true\n",
      "false\n",
      "true\n",
      "false\n"
     ]
    }
   ],
   "execution_count": 13
  }
 ],
 "metadata": {
  "kernelspec": {
   "display_name": "Kotlin",
   "language": "kotlin",
   "name": "kotlin"
  },
  "language_info": {
   "name": "kotlin",
   "version": "2.2.20-dev-4982",
   "mimetype": "text/x-kotlin",
   "file_extension": ".kt",
   "pygments_lexer": "kotlin",
   "codemirror_mode": "text/x-kotlin",
   "nbconvert_exporter": ""
  }
 },
 "nbformat": 4,
 "nbformat_minor": 0
}
