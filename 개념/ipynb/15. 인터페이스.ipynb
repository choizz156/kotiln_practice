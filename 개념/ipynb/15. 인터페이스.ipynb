{
 "cells": [
  {
   "metadata": {},
   "cell_type": "markdown",
   "source": [
    "# 인터페이스\n",
    "## 1. 선언과 확장\n",
    "- `interface` 키워드 사용\n",
    "- 생성자(괄호)는 올 수 없음.\n",
    "- 다른 인터페이스를 상속할 때는 클래스와 동일한 방식으로 `:` 사용\n",
    "- 자동으로 open"
   ]
  },
  {
   "metadata": {},
   "cell_type": "code",
   "outputs": [],
   "execution_count": null,
   "source": "interface MySubInterface : MyInterface"
  },
  {
   "metadata": {},
   "cell_type": "markdown",
   "source": [
    "## 2. 함수 정의\n",
    "- 인터페이스 내부에 추상 함수 정의 가능\n",
    "- 하위 인터페이스나 구현 클래스에서 `override`로 구현\n",
    "- 인터페이스# 다중 상속도 허용"
   ]
  },
  {
   "metadata": {},
   "cell_type": "code",
   "outputs": [],
   "execution_count": null,
   "source": [
    "interface MyInterface{\n",
    "    fun test(input: String): String\n",
    "}\n",
    "\n",
    "interface MySubInterface : MyInterface {\n",
    "    fun mySubFunction(num: Int): String\n",
    "}\n",
    "\n",
    "class Something : MySubInterface {\n",
    "    override fun test(input: String): String {\n",
    "        // 구현부\n",
    "    }\n",
    "    override fun mySubFunction(num: Int): String {\n",
    "        // 구현부\n",
    "    }\n",
    "}"
   ]
  },
  {
   "metadata": {},
   "cell_type": "markdown",
   "source": [
    "## 3. 인터페이스 내 프로퍼티\n",
    "- 인터페이스 내에 프로퍼티 선언 가능, 기본적으로 추상 상태"
   ]
  },
  {
   "metadata": {
    "ExecuteTime": {
     "end_time": "2025-09-05T13:46:35.162420Z",
     "start_time": "2025-09-05T13:46:35.132706Z"
    }
   },
   "cell_type": "code",
   "source": [
    "interface MyInterface {\n",
    "    val number: Int\n",
    "}"
   ],
   "outputs": [],
   "execution_count": 12
  },
  {
   "metadata": {},
   "cell_type": "markdown",
   "source": "- 구현 클래스에서 해당 프러퍼티를 override 하여 구체적인 값으로 초기화 해야함"
  },
  {
   "metadata": {
    "ExecuteTime": {
     "end_time": "2025-09-05T13:36:52.870722Z",
     "start_time": "2025-09-05T13:36:52.814267Z"
    }
   },
   "cell_type": "code",
   "source": [
    "class Something : MyInterface {\n",
    "    override val number: Int = 25\n",
    "}\n"
   ],
   "outputs": [],
   "execution_count": 5
  },
  {
   "metadata": {},
   "cell_type": "markdown",
   "source": [
    "- getter 함수를 사용해서 인터페이스에서 프로퍼티를 사용할 수 있음\n",
    " - 인터페이스 내에서 초기화하는 것은 불가능\n",
    "- 구현 클래스에서 오버라이드 하지 않아도 인터페이스 자체가 구체적인 구현을 제공"
   ]
  },
  {
   "metadata": {
    "ExecuteTime": {
     "end_time": "2025-09-05T13:39:18.403697Z",
     "start_time": "2025-09-05T13:39:18.321011Z"
    }
   },
   "cell_type": "code",
   "source": [
    "interface MyInterface {\n",
    "    val number2: Int\n",
    "        get() = 45  // 이렇게 구현된 getter는 인터페이스 단에서 제공됨\n",
    "    val str2: String\n",
    "        get() = \"defualt\"\n",
    "}\n",
    "\n",
    "class Something : MyInterface {\n",
    "}\n",
    "\n",
    "val s = Something()\n",
    "println(s.number2)\n",
    "println(s.str2)"
   ],
   "outputs": [
    {
     "name": "stdout",
     "output_type": "stream",
     "text": [
      "45\n",
      "defualt\n"
     ]
    }
   ],
   "execution_count": 7
  },
  {
   "metadata": {},
   "cell_type": "markdown",
   "source": [
    "## 4. 백킹 필드에 대한 제한 상황\n",
    "- 인터페이스의 프로퍼티는 백킹 필드를 가지지 않음\n",
    "- 인터페이스 내의 custom getter나 setter에서는 field 식별자를 사용할 수 없음"
   ]
  },
  {
   "metadata": {
    "ExecuteTime": {
     "end_time": "2025-09-05T13:46:43.052588Z",
     "start_time": "2025-09-05T13:46:42.986122Z"
    }
   },
   "cell_type": "code",
   "source": [
    "interface MyInterface {\n",
    "    val number: Int        // 추상 프로퍼티: 구현 클래스가 값을 줘야 함\n",
    "\n",
    "    val number2: Int       // 구현된 프로퍼티 (concrete), 단 값 저장은 안 함\n",
    "        get() = number * 100  // 가능! number는 추상 프로퍼티니까\n",
    "}\n",
    "\n",
    "\n",
    "class Something : MyInterface {\n",
    "    override val number: Int = 25\n",
    "}\n",
    "\n",
    "val s = Something()\n",
    "println(s.number2)"
   ],
   "outputs": [
    {
     "name": "stdout",
     "output_type": "stream",
     "text": [
      "2500\n"
     ]
    }
   ],
   "execution_count": 13
  },
  {
   "metadata": {},
   "cell_type": "markdown",
   "source": "### setter도 사용 가능하나 인터페이스에 내부 저장은 안됨."
  },
  {
   "metadata": {
    "ExecuteTime": {
     "end_time": "2025-09-05T13:57:31.990745Z",
     "start_time": "2025-09-05T13:57:31.916295Z"
    }
   },
   "cell_type": "code",
   "source": [
    "// 1. 인터페이스 정의\n",
    "interface Storable {\n",
    "    var data: Int\n",
    "        get() = 3\n",
    "        set(value) {\n",
    "            println(\"Setting data in interface: ${value * data}\")\n",
    "            // 값을 저장할 수는 없음 (backing field 없음)\n",
    "        }\n",
    "}\n",
    "\n",
    "// 2. 실제 값을 저장하는 구현 클래스\n",
    "class MyStorage : Storable {\n",
    "    var _data: Int = 10  // 실제 값을 저장할 변수\n",
    "}\n",
    "\n",
    "val s = MyStorage()\n",
    "println(s.data)\n",
    "s.data = 11\n",
    "println(s.data)\n",
    "println(s._data)"
   ],
   "outputs": [
    {
     "name": "stdout",
     "output_type": "stream",
     "text": [
      "3\n",
      "Setting data in interface: 33\n",
      "3\n",
      "10\n"
     ]
    }
   ],
   "execution_count": 25
  }
 ],
 "metadata": {
  "kernelspec": {
   "display_name": "Kotlin",
   "language": "kotlin",
   "name": "kotlin"
  },
  "language_info": {
   "name": "kotlin",
   "version": "2.2.20-dev-4982",
   "mimetype": "text/x-kotlin",
   "file_extension": ".kt",
   "pygments_lexer": "kotlin",
   "codemirror_mode": "text/x-kotlin",
   "nbconvert_exporter": ""
  }
 },
 "nbformat": 4,
 "nbformat_minor": 0
}
