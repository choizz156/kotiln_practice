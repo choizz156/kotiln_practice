{
 "cells": [
  {
   "metadata": {},
   "cell_type": "markdown",
   "source": [
    "## Kotlin의 Null 안전성 정리\n",
    "\n",
    "### 1. Kotlin의 Null 처리 철학\n",
    "- Kotlin은 Java에서 흔히 발생하는 NullPointerException (NPE) 를 컴파일 단계에서 원천적으로 방지하고자 설계됨.\n",
    "- Kotlin에서 모든 변수는 기본적으로 null이 될 수 없음.\n",
    "- null을 허용하려면 명시적으로 타입에 ?를 붙여야 함."
   ]
  },
  {
   "metadata": {},
   "cell_type": "code",
   "outputs": [],
   "execution_count": null,
   "source": [
    "val str: String = null // 컴파일에러\n",
    "val str: String? = null //가능"
   ]
  },
  {
   "metadata": {},
   "cell_type": "markdown",
   "source": [
    "### 2. Nullable 타입과 사용 제한\n",
    "- String?은 null을 허용하지만, 사용 시 제약이 생김\n",
    "- Nullable 변수에서는 일반적인 메서드나 프로퍼티 사용이 제한됨"
   ]
  },
  {
   "metadata": {},
   "cell_type": "code",
   "outputs": [],
   "execution_count": null,
   "source": [
    "val str: String? = \"Hello\"\n",
    "val upper = str.uppercase() //null일 수 있음"
   ]
  },
  {
   "metadata": {},
   "cell_type": "markdown",
   "source": [
    "### 3. Null-Safe 접근: Safe call operator(?.)\n",
    "- ?.는 객체가 null이 아닐 때만 메서드나 프로퍼티에 접근함\n",
    "- 객체가 null이면 전체 표현식은 null로 평가됨"
   ]
  },
  {
   "metadata": {
    "ExecuteTime": {
     "end_time": "2025-08-29T15:57:53.413684Z",
     "start_time": "2025-08-29T15:57:53.193831Z"
    }
   },
   "cell_type": "code",
   "source": [
    "val str: String? = \"hello\"\n",
    "println(str?.uppercase())\n",
    "\n",
    "val str2: String? = null\n",
    "println(str2?.uppercase())"
   ],
   "outputs": [
    {
     "name": "stdout",
     "output_type": "stream",
     "text": [
      "HELLO\n",
      "null\n"
     ]
    }
   ],
   "execution_count": 1
  },
  {
   "metadata": {},
   "cell_type": "markdown",
   "source": "### 4. Elvis Operator(?:)"
  },
  {
   "metadata": {
    "ExecuteTime": {
     "end_time": "2025-08-29T15:59:24.637081Z",
     "start_time": "2025-08-29T15:59:24.573157Z"
    }
   },
   "cell_type": "code",
   "source": [
    "val str: String? = null\n",
    "val result: String = str ?: \"기본값\"\n",
    "println(result)"
   ],
   "outputs": [
    {
     "name": "stdout",
     "output_type": "stream",
     "text": [
      "기본값\n"
     ]
    }
   ],
   "execution_count": 2
  },
  {
   "metadata": {},
   "cell_type": "markdown",
   "source": [
    "### 5. Safe Call + Elvis Operator 조합\n",
    "- 여러 nullable 객체를 연결할 때 중간에 하나라도 null이면 전체가 null로 평가됨\n",
    "- 마지막에 Elvis 연산자를 써서 기본값을 줄 수 있음'"
   ]
  },
  {
   "metadata": {},
   "cell_type": "code",
   "outputs": [],
   "execution_count": null,
   "source": "val countryCode: String = bankBranch?.address?.country?.countryCode ?: \"US\""
  },
  {
   "metadata": {},
   "cell_type": "markdown",
   "source": [
    "### 6. Safe Cast (as?)\n",
    "- 타입 캐스팅 시 실패해도 예외가 발생하지 않고 null을 반환"
   ]
  },
  {
   "metadata": {
    "ExecuteTime": {
     "end_time": "2025-08-29T16:04:19.706622Z",
     "start_time": "2025-08-29T16:04:19.632562Z"
    }
   },
   "cell_type": "code",
   "source": [
    "val some: Any = arrayOf(1, 2, 3)\n",
    "val str: String? = some as? String\n",
    "println(str)\n",
    "println(str?.uppercase())"
   ],
   "outputs": [
    {
     "name": "stdout",
     "output_type": "stream",
     "text": [
      "null\n",
      "null\n"
     ]
    }
   ],
   "execution_count": 4
  },
  {
   "metadata": {},
   "cell_type": "markdown",
   "source": [
    "### 7. Smart Cast와 컴파일러 추론\n",
    "- if (str != null)로 null 체크 후에는 컴파일러가 non-null로 간주하고 일반 메서드 사용 가능"
   ]
  },
  {
   "metadata": {
    "ExecuteTime": {
     "end_time": "2025-08-29T16:07:03.507683Z",
     "start_time": "2025-08-29T16:07:03.380728Z"
    }
   },
   "cell_type": "code",
   "source": [
    "val str: String? = \"heel\"\n",
    "if (str != null) {\n",
    "    println(str.uppercase()) // 안전하게 호출됨\n",
    "}\n",
    "\n",
    "println(str?.uppercase())"
   ],
   "outputs": [
    {
     "name": "stdout",
     "output_type": "stream",
     "text": [
      "HEEL\n",
      "HEEL\n"
     ]
    }
   ],
   "execution_count": 6
  },
  {
   "metadata": {},
   "cell_type": "markdown",
   "source": [
    "## Kotlin의 Null 처리: 고급 개념과 실용적 고려사항\n",
    "\n",
    "### 1. Not-null assertion (!!)\n",
    "- 절대 null이 아닐 것이라 \"확신\"할 때\n",
    "- null일 경우 즉시 예외 발생 (KotlinNullPointerException)\n",
    "- null이 아니라면 non-null 타입처럼 사용 가능\n",
    "- **null이 아니라고 100% 확신할 때만 사용**해야 하며, 실제론 그 확신이 종종 틀립니다."
   ]
  },
  {
   "metadata": {
    "ExecuteTime": {
     "end_time": "2025-08-29T16:18:23.424245Z",
     "start_time": "2025-08-29T16:18:23.359898Z"
    }
   },
   "cell_type": "code",
   "source": [
    "val str: String? = \"hello\"\n",
    "\n",
    "val upper = str!!.uppercase()\n",
    "val str2: String = str!!\n",
    "println(str2)\n",
    "\n",
    "val str3: String? = null\n",
    "val str4: String = str3!!  // 런타임에 KotlinNullPointerException 발생"
   ],
   "outputs": [
    {
     "name": "stdout",
     "output_type": "stream",
     "text": [
      "hello\n"
     ]
    },
    {
     "ename": "java.lang.NullPointerException",
     "evalue": "",
     "output_type": "error",
     "traceback": [
      "java.lang.NullPointerException",
      "\tat Line_18_jupyter.<init>(Line_18.jupyter.kts:8) at Cell In[9], line 8",
      "\tat java.base/jdk.internal.reflect.NativeConstructorAccessorImpl.newInstance0(Native Method)",
      "\tat java.base/jdk.internal.reflect.NativeConstructorAccessorImpl.newInstance(NativeConstructorAccessorImpl.java:77)",
      "\tat java.base/jdk.internal.reflect.DelegatingConstructorAccessorImpl.newInstance(DelegatingConstructorAccessorImpl.java:45)",
      "\tat java.base/java.lang.reflect.Constructor.newInstanceWithCaller(Constructor.java:499)",
      "\tat java.base/java.lang.reflect.Constructor.newInstance(Constructor.java:480)",
      "\tat kotlin.script.experimental.jvm.BasicJvmScriptEvaluator.evalWithConfigAndOtherScriptsResults(BasicJvmScriptEvaluator.kt:122)",
      "\tat kotlin.script.experimental.jvm.BasicJvmScriptEvaluator.invoke$suspendImpl(BasicJvmScriptEvaluator.kt:48)",
      "\tat kotlin.script.experimental.jvm.BasicJvmScriptEvaluator.invoke(BasicJvmScriptEvaluator.kt)",
      "\tat kotlin.script.experimental.jvm.BasicJvmReplEvaluator.eval(BasicJvmReplEvaluator.kt:49)",
      "\tat org.jetbrains.kotlinx.jupyter.repl.impl.InternalEvaluatorImpl$eval$resultWithDiagnostics$1.invokeSuspend(InternalEvaluatorImpl.kt:138)",
      "\tat kotlin.coroutines.jvm.internal.BaseContinuationImpl.resumeWith(ContinuationImpl.kt:34)",
      "\tat kotlinx.coroutines.DispatchedTask.run(DispatchedTask.kt:100)",
      "\tat kotlinx.coroutines.EventLoopImplBase.processNextEvent(EventLoop.common.kt:263)",
      "\tat kotlinx.coroutines.BlockingCoroutine.joinBlocking(Builders.kt:95)",
      "\tat kotlinx.coroutines.BuildersKt__BuildersKt.runBlocking(Builders.kt:69)",
      "\tat kotlinx.coroutines.BuildersKt.runBlocking(Unknown Source)",
      "\tat kotlinx.coroutines.BuildersKt__BuildersKt.runBlocking$default(Builders.kt:47)",
      "\tat kotlinx.coroutines.BuildersKt.runBlocking$default(Unknown Source)",
      "\tat org.jetbrains.kotlinx.jupyter.repl.impl.InternalEvaluatorImpl.eval(InternalEvaluatorImpl.kt:138)",
      "\tat org.jetbrains.kotlinx.jupyter.repl.impl.CellExecutorImpl.execute_L4Nmkdk$lambda$9$lambda$1(CellExecutorImpl.kt:80)",
      "\tat org.jetbrains.kotlinx.jupyter.repl.impl.ReplForJupyterImpl.withHost(ReplForJupyterImpl.kt:794)",
      "\tat org.jetbrains.kotlinx.jupyter.repl.impl.CellExecutorImpl.execute-L4Nmkdk(CellExecutorImpl.kt:78)",
      "\tat org.jetbrains.kotlinx.jupyter.repl.execution.CellExecutor.execute-L4Nmkdk$default(CellExecutor.kt:14)",
      "\tat org.jetbrains.kotlinx.jupyter.repl.impl.ReplForJupyterImpl.evaluateUserCode-wNURfNM(ReplForJupyterImpl.kt:616)",
      "\tat org.jetbrains.kotlinx.jupyter.repl.impl.ReplForJupyterImpl.evalExImpl(ReplForJupyterImpl.kt:474)",
      "\tat org.jetbrains.kotlinx.jupyter.repl.impl.ReplForJupyterImpl.evalEx$lambda$20(ReplForJupyterImpl.kt:467)",
      "\tat org.jetbrains.kotlinx.jupyter.repl.impl.ReplForJupyterImpl.withEvalContext(ReplForJupyterImpl.kt:447)",
      "\tat org.jetbrains.kotlinx.jupyter.repl.impl.ReplForJupyterImpl.evalEx(ReplForJupyterImpl.kt:466)",
      "\tat org.jetbrains.kotlinx.jupyter.messaging.IdeCompatibleMessageRequestProcessor.processExecuteRequest$lambda$7$lambda$6$lambda$5(IdeCompatibleMessageRequestProcessor.kt:160)",
      "\tat org.jetbrains.kotlinx.jupyter.streams.BlockingSubstitutionEngine.withDataSubstitution(SubstitutionEngine.kt:70)",
      "\tat org.jetbrains.kotlinx.jupyter.streams.StreamSubstitutionManager.withSubstitutedStreams(StreamSubstitutionManager.kt:118)",
      "\tat org.jetbrains.kotlinx.jupyter.messaging.IdeCompatibleMessageRequestProcessor.withForkedIn(IdeCompatibleMessageRequestProcessor.kt:354)",
      "\tat org.jetbrains.kotlinx.jupyter.messaging.IdeCompatibleMessageRequestProcessor.evalWithIO$lambda$16$lambda$15(IdeCompatibleMessageRequestProcessor.kt:368)",
      "\tat org.jetbrains.kotlinx.jupyter.streams.BlockingSubstitutionEngine.withDataSubstitution(SubstitutionEngine.kt:70)",
      "\tat org.jetbrains.kotlinx.jupyter.streams.StreamSubstitutionManager.withSubstitutedStreams(StreamSubstitutionManager.kt:118)",
      "\tat org.jetbrains.kotlinx.jupyter.messaging.IdeCompatibleMessageRequestProcessor.withForkedErr(IdeCompatibleMessageRequestProcessor.kt:343)",
      "\tat org.jetbrains.kotlinx.jupyter.messaging.IdeCompatibleMessageRequestProcessor.evalWithIO$lambda$16(IdeCompatibleMessageRequestProcessor.kt:367)",
      "\tat org.jetbrains.kotlinx.jupyter.streams.BlockingSubstitutionEngine.withDataSubstitution(SubstitutionEngine.kt:70)",
      "\tat org.jetbrains.kotlinx.jupyter.streams.StreamSubstitutionManager.withSubstitutedStreams(StreamSubstitutionManager.kt:118)",
      "\tat org.jetbrains.kotlinx.jupyter.messaging.IdeCompatibleMessageRequestProcessor.withForkedOut(IdeCompatibleMessageRequestProcessor.kt:335)",
      "\tat org.jetbrains.kotlinx.jupyter.messaging.IdeCompatibleMessageRequestProcessor.evalWithIO(IdeCompatibleMessageRequestProcessor.kt:366)",
      "\tat org.jetbrains.kotlinx.jupyter.messaging.IdeCompatibleMessageRequestProcessor.processExecuteRequest$lambda$7$lambda$6(IdeCompatibleMessageRequestProcessor.kt:159)",
      "\tat org.jetbrains.kotlinx.jupyter.execution.JupyterExecutorImpl$Task.execute(JupyterExecutorImpl.kt:41)",
      "\tat org.jetbrains.kotlinx.jupyter.execution.JupyterExecutorImpl.executorThread$lambda$0(JupyterExecutorImpl.kt:83)",
      "\tat kotlin.concurrent.ThreadsKt$thread$thread$1.run(Thread.kt:30)",
      "",
      "java.lang.NullPointerException: null",
      "at Cell In[9], line 8"
     ]
    }
   ],
   "execution_count": 9
  },
  {
   "metadata": {},
   "cell_type": "markdown",
   "source": [
    "### 2. !! 사용의 치명적인 단점\n",
    "- 예외가 어디서 발생했는지 알기 어려움\n",
    "  - 여러 !!를 체인처럼 연결할 경우 어느 부분이 null이었는지 디버깅 어려움\n",
    "- 스택 트레이스에 정보 없음\n",
    "  - 예외 메시지는 단순히 \"null이었습니다\"일 뿐, 어떤 표현식이 문제인지 알려주지 않음."
   ]
  },
  {
   "metadata": {},
   "cell_type": "code",
   "outputs": [],
   "execution_count": null,
   "source": "val countryCode = bankBranch!!.address!!.country!!.countryCode"
  },
  {
   "metadata": {},
   "cell_type": "markdown",
   "source": "### 3. Nullable 타입을 Non-null 타입에 넘겨야 할 때"
  },
  {
   "metadata": {
    "ExecuteTime": {
     "end_time": "2025-08-29T16:23:21.361529Z",
     "start_time": "2025-08-29T16:23:21.214269Z"
    }
   },
   "cell_type": "code",
   "source": [
    "fun printText(text: String) {\n",
    "    println(text)\n",
    "}\n",
    "\n",
    "val str: String? = \"Hello\"\n",
    "printText(str) //오류: String? → String 불가"
   ],
   "outputs": [
    {
     "name": "stdout",
     "output_type": "stream",
     "text": [
      "Hello\n",
      "Hello\n"
     ]
    }
   ],
   "execution_count": 10
  },
  {
   "metadata": {},
   "cell_type": "markdown",
   "source": "#### !! 사용"
  },
  {
   "metadata": {},
   "cell_type": "code",
   "outputs": [],
   "execution_count": null,
   "source": [
    "val str: String? = \"Hello\"\n",
    "printText(str!!) // 위험하지만 강제로 nullable → non-null"
   ]
  },
  {
   "metadata": {},
   "cell_type": "markdown",
   "source": [
    "#### let함수 + safe call\n",
    "- let 함수는 null이 아닐 경우에만 블록 실행\n",
    "- null이면 아무 일도 안 함\n",
    "- it은 블록 내에서 실제 non-null 값\n",
    "\n",
    "**let 체이닝**\n",
    "- 불필요한 중첩 if를 제거\n",
    "- null-safe한 방식으로 처리\n",
    "- 가독성 유지\n",
    "- 중간에 하나라도 null이면 안전하게 종료"
   ]
  },
  {
   "metadata": {
    "ExecuteTime": {
     "end_time": "2025-08-29T16:41:49.547085Z",
     "start_time": "2025-08-29T16:41:49.443096Z"
    }
   },
   "cell_type": "code",
   "source": [
    "str4?.let { printText(it) }// 안전하게 처리됨\n",
    "\n",
    "data class City(val name: String)\n",
    "data class Address(val city: City)\n",
    "data class User(val address: Address?)\n",
    "\n",
    "fun printCityName(user: User?) {\n",
    "    user?.address\n",
    "        ?.let { it.city }\n",
    "        ?.let { it.name }\n",
    "        ?.let { println(\"City: $it\") }\n",
    "\n",
    "    user?.address?.city?.name?.run {\n",
    "        println(\"City: $this\") //바로앞에 name값을 의미\n",
    "    }\n",
    "}"
   ],
   "outputs": [
    {
     "ename": "org.jetbrains.kotlinx.jupyter.exceptions.ReplCompilerException",
     "evalue": "at Cell In[15], line 1, column 5: Unnecessary safe call on a non-null receiver of type String\nLine_26.jupyter.kts (17:36 - 19:6) Type mismatch: inferred type is String.(Any?) -> Unit but TypeVariable(T).() -> TypeVariable(R) was expected\nat Cell In[15], line 17, column 38: Cannot infer a type for this parameter. Please specify it explicitly.\nat Cell In[15], line 17, column 38: Expected no parameters ",
     "output_type": "error",
     "traceback": [
      "org.jetbrains.kotlinx.jupyter.exceptions.ReplCompilerException: at Cell In[15], line 1, column 5: Unnecessary safe call on a non-null receiver of type String",
      "Line_26.jupyter.kts (17:36 - 19:6) Type mismatch: inferred type is String.(Any?) -> Unit but TypeVariable(T).() -> TypeVariable(R) was expected",
      "at Cell In[15], line 17, column 38: Cannot infer a type for this parameter. Please specify it explicitly.",
      "at Cell In[15], line 17, column 38: Expected no parameters ",
      "\tat org.jetbrains.kotlinx.jupyter.repl.impl.JupyterCompilerImpl.compileSync(JupyterCompilerImpl.kt:152)",
      "\tat org.jetbrains.kotlinx.jupyter.repl.impl.InternalEvaluatorImpl.eval(InternalEvaluatorImpl.kt:127)",
      "\tat org.jetbrains.kotlinx.jupyter.repl.impl.CellExecutorImpl.execute_L4Nmkdk$lambda$9$lambda$1(CellExecutorImpl.kt:80)",
      "\tat org.jetbrains.kotlinx.jupyter.repl.impl.ReplForJupyterImpl.withHost(ReplForJupyterImpl.kt:794)",
      "\tat org.jetbrains.kotlinx.jupyter.repl.impl.CellExecutorImpl.execute-L4Nmkdk(CellExecutorImpl.kt:78)",
      "\tat org.jetbrains.kotlinx.jupyter.repl.execution.CellExecutor.execute-L4Nmkdk$default(CellExecutor.kt:14)",
      "\tat org.jetbrains.kotlinx.jupyter.repl.impl.ReplForJupyterImpl.evaluateUserCode-wNURfNM(ReplForJupyterImpl.kt:616)",
      "\tat org.jetbrains.kotlinx.jupyter.repl.impl.ReplForJupyterImpl.evalExImpl(ReplForJupyterImpl.kt:474)",
      "\tat org.jetbrains.kotlinx.jupyter.repl.impl.ReplForJupyterImpl.evalEx$lambda$20(ReplForJupyterImpl.kt:467)",
      "\tat org.jetbrains.kotlinx.jupyter.repl.impl.ReplForJupyterImpl.withEvalContext(ReplForJupyterImpl.kt:447)",
      "\tat org.jetbrains.kotlinx.jupyter.repl.impl.ReplForJupyterImpl.evalEx(ReplForJupyterImpl.kt:466)",
      "\tat org.jetbrains.kotlinx.jupyter.messaging.IdeCompatibleMessageRequestProcessor.processExecuteRequest$lambda$7$lambda$6$lambda$5(IdeCompatibleMessageRequestProcessor.kt:160)",
      "\tat org.jetbrains.kotlinx.jupyter.streams.BlockingSubstitutionEngine.withDataSubstitution(SubstitutionEngine.kt:70)",
      "\tat org.jetbrains.kotlinx.jupyter.streams.StreamSubstitutionManager.withSubstitutedStreams(StreamSubstitutionManager.kt:118)",
      "\tat org.jetbrains.kotlinx.jupyter.messaging.IdeCompatibleMessageRequestProcessor.withForkedIn(IdeCompatibleMessageRequestProcessor.kt:354)",
      "\tat org.jetbrains.kotlinx.jupyter.messaging.IdeCompatibleMessageRequestProcessor.evalWithIO$lambda$16$lambda$15(IdeCompatibleMessageRequestProcessor.kt:368)",
      "\tat org.jetbrains.kotlinx.jupyter.streams.BlockingSubstitutionEngine.withDataSubstitution(SubstitutionEngine.kt:70)",
      "\tat org.jetbrains.kotlinx.jupyter.streams.StreamSubstitutionManager.withSubstitutedStreams(StreamSubstitutionManager.kt:118)",
      "\tat org.jetbrains.kotlinx.jupyter.messaging.IdeCompatibleMessageRequestProcessor.withForkedErr(IdeCompatibleMessageRequestProcessor.kt:343)",
      "\tat org.jetbrains.kotlinx.jupyter.messaging.IdeCompatibleMessageRequestProcessor.evalWithIO$lambda$16(IdeCompatibleMessageRequestProcessor.kt:367)",
      "\tat org.jetbrains.kotlinx.jupyter.streams.BlockingSubstitutionEngine.withDataSubstitution(SubstitutionEngine.kt:70)",
      "\tat org.jetbrains.kotlinx.jupyter.streams.StreamSubstitutionManager.withSubstitutedStreams(StreamSubstitutionManager.kt:118)",
      "\tat org.jetbrains.kotlinx.jupyter.messaging.IdeCompatibleMessageRequestProcessor.withForkedOut(IdeCompatibleMessageRequestProcessor.kt:335)",
      "\tat org.jetbrains.kotlinx.jupyter.messaging.IdeCompatibleMessageRequestProcessor.evalWithIO(IdeCompatibleMessageRequestProcessor.kt:366)",
      "\tat org.jetbrains.kotlinx.jupyter.messaging.IdeCompatibleMessageRequestProcessor.processExecuteRequest$lambda$7$lambda$6(IdeCompatibleMessageRequestProcessor.kt:159)",
      "\tat org.jetbrains.kotlinx.jupyter.execution.JupyterExecutorImpl$Task.execute(JupyterExecutorImpl.kt:41)",
      "\tat org.jetbrains.kotlinx.jupyter.execution.JupyterExecutorImpl.executorThread$lambda$0(JupyterExecutorImpl.kt:83)",
      "\tat kotlin.concurrent.ThreadsKt$thread$thread$1.run(Thread.kt:30)",
      ""
     ]
    }
   ],
   "execution_count": 15
  },
  {
   "metadata": {},
   "cell_type": "markdown",
   "source": [
    "### 4. equals 비교는 null-safe\n",
    "- Kotlin에서 ==는 .equals() 호출을 의미하지만\n",
    "- null 체크는 내부에서 자동으로 수행\n",
    "- NullPointerException 발생 안 함"
   ]
  },
  {
   "metadata": {},
   "cell_type": "code",
   "outputs": [],
   "execution_count": null,
   "source": [
    "val str1: String? = null\n",
    "val str2: String = \"Kotlin\"\n",
    "\n",
    "println(str1 == str2)  // ✅ null-safe 비교"
   ]
  },
  {
   "metadata": {},
   "cell_type": "markdown",
   "source": [
    "### 5. Null을 명시적으로 체크해야 하는 경우\n",
    "- Safe call 연산자(?.)로는 모든 값이 null이 아님을 동시에 체크할 수 없음."
   ]
  },
  {
   "metadata": {},
   "cell_type": "code",
   "outputs": [],
   "execution_count": null,
   "source": [
    "if (a != null && b != null && c != null) {\n",
    "    // do something\n",
    "}"
   ]
  }
 ],
 "metadata": {
  "kernelspec": {
   "display_name": "Kotlin",
   "language": "kotlin",
   "name": "kotlin"
  },
  "language_info": {
   "name": "kotlin",
   "version": "2.2.20-dev-4982",
   "mimetype": "text/x-kotlin",
   "file_extension": ".kt",
   "pygments_lexer": "kotlin",
   "codemirror_mode": "text/x-kotlin",
   "nbconvert_exporter": ""
  }
 },
 "nbformat": 4,
 "nbformat_minor": 0
}
