{
 "cells": [
  {
   "metadata": {},
   "cell_type": "raw",
   "source": [
    "###%% md\n",
    "# 코틀린 확장 함수\n",
    "기존 클래스의 소스 코드를 수정하지 않고, 마치 메서드를 추가한 것처럼 하수 하나를 확장할 수 있는 기능\n",
    "- 실제로 있는 메서드는 아니지만, 마치 내장 메서드처럼 사용 가능"
   ]
  },
  {
   "metadata": {
    "ExecuteTime": {
     "end_time": "2025-09-03T17:06:11.465909Z",
     "start_time": "2025-09-03T17:06:11.181609Z"
    }
   },
   "cell_type": "code",
   "source": [
    "// 확장 함수 정의\n",
    "fun String.upperFirstAndLast(): String {\n",
    "    if (this.isEmpty()) return this // 함수 호출에 사용된 문자열 자체\n",
    "\n",
    "    val upperFirst = this.substring(0, 1).uppercase() + this.substring(1)\n",
    "\n",
    "    return if (this.length == 1) {\n",
    "        upperFirst\n",
    "    } else {\n",
    "        val prefix = upperFirst.substring(0, upperFirst.length - 1)\n",
    "        val last = upperFirst.last().uppercase()\n",
    "        prefix + last\n",
    "    }\n",
    "}\n",
    "\n",
    "val s = \"hello\"\n",
    "println(s.upperFirstAndLast())"
   ],
   "outputs": [
    {
     "name": "stdout",
     "output_type": "stream",
     "text": [
      "HellO\n"
     ]
    }
   ],
   "execution_count": 1
  },
  {
   "metadata": {},
   "cell_type": "markdown",
   "source": [
    "### 내부 동작 - 진짜 확장한 것은 아님\n",
    "- 실제로 해당 클래스 내부에 함수가 추가되는 것이 아님\n",
    "- 컴파일 시, 함수가 변화하는 것과 비슷\n",
    "  -  \"StringExtentionsKt.upperFirstAndLast(s)\" 이런 식으로\n",
    "  - 문법적으로만 그렇게 보일뿐, 내부적으론 그냥 정적함수 호출하는 것"
   ]
  },
  {
   "metadata": {},
   "cell_type": "markdown",
   "source": [
    "### this 생략\n",
    "- 명시적으로 사용해도 되나 생략 가능"
   ]
  },
  {
   "metadata": {
    "ExecuteTime": {
     "end_time": "2025-09-03T17:11:13.828430Z",
     "start_time": "2025-09-03T17:11:13.759002Z"
    }
   },
   "cell_type": "code",
   "source": [
    "fun String.printLength1() {\n",
    "    println(\"문자열 길이: ${this.length}\")\n",
    "}\n",
    "fun String.printLength2() {\n",
    "    println(\"문자열 길이: $length\")  // this 생략\n",
    "}\n",
    "\n",
    "s.printLength1()\n",
    "s.printLength2()\n"
   ],
   "outputs": [
    {
     "name": "stdout",
     "output_type": "stream",
     "text": [
      "문자열 길이: 5\n",
      "문자열 길이: 5\n"
     ]
    }
   ],
   "execution_count": 4
  },
  {
   "metadata": {},
   "cell_type": "markdown",
   "source": [
    "### 확장함수의 한계\n",
    "- private, protected 멤버에는 접근할 수 없음\n",
    "- 실제로 클래스의 메서드를 오버라이딩하는 것은 불가\n",
    "- 확장 함수는 정적 디스패치로 작동함.\n",
    "\n",
    "#### 정적 디스패치\n",
    "- 컴파일 시점에 호출할 함수가 결정되는 방식\n",
    "| 개념      | 설명                                            |\n",
    "| ------- | --------------------------------------------- |\n",
    "| 정적 디스패치 | `컴파일` 시점에 함수 결정, 변수 **선언 타입** 기준, 주로 확장 함수/오버로딩 |\n",
    "| 동적 디스패치 | `런타임` 시점에 함수 결정, 객체의 **실제 타입** 기준, 주로 오버라이딩에 사용 |\n",
    "| 확장 함수는? | 항상 **정적 디스패치**를 사용함 — 오버라이딩 못 함               |\n"
   ]
  },
  {
   "metadata": {
    "ExecuteTime": {
     "end_time": "2025-09-03T17:15:57.108693Z",
     "start_time": "2025-09-03T17:15:57.021466Z"
    }
   },
   "cell_type": "code",
   "source": [
    "open class Animal {\n",
    "    open fun speak() = println(\"Animal speaks\")\n",
    "}\n",
    "\n",
    "class Dog : Animal() {\n",
    "    override fun speak() = println(\"동적 디스패치: Dog barks\")\n",
    "}\n",
    "\n",
    "val b: Animal = Dog()\n",
    "b.speak() //동적 디스패리\n",
    "\n",
    "fun Animal.sayHello() = println(\"정적 디스패치: Hello from Animal\")\n",
    "fun Dog.sayHello() = println(\"Hello from Dog\")\n",
    "\n",
    "val a: Animal = Dog()\n",
    "a.sayHello() //오버라이딩 x"
   ],
   "outputs": [
    {
     "name": "stdout",
     "output_type": "stream",
     "text": [
      "동적 디스패치: Dog barks\n",
      "정적 디스패치: Hello from Animal\n"
     ]
    }
   ],
   "execution_count": 8
  },
  {
   "metadata": {
    "ExecuteTime": {
     "end_time": "2025-09-03T17:18:38.222025Z",
     "start_time": "2025-09-03T17:18:38.155749Z"
    }
   },
   "cell_type": "code",
   "source": [
    "class Car(val color: String){\n",
    "}\n",
    "\n",
    "fun Car.printColor(){\n",
    "    println(color)\n",
    "}\n",
    "\n",
    "val c = Car(\"red\")\n",
    "c.printColor()"
   ],
   "outputs": [
    {
     "name": "stdout",
     "output_type": "stream",
     "text": [
      "red\n"
     ]
    }
   ],
   "execution_count": 9
  }
 ],
 "metadata": {
  "kernelspec": {
   "display_name": "Kotlin",
   "language": "kotlin",
   "name": "kotlin"
  },
  "language_info": {
   "name": "kotlin",
   "version": "2.2.20-dev-4982",
   "mimetype": "text/x-kotlin",
   "file_extension": ".kt",
   "pygments_lexer": "kotlin",
   "codemirror_mode": "text/x-kotlin",
   "nbconvert_exporter": ""
  }
 },
 "nbformat": 4,
 "nbformat_minor": 0
}
