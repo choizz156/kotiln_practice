{
 "cells": [
  {
   "metadata": {},
   "cell_type": "markdown",
   "source": [
    "# 코틀린 상수와 데이터 클래스 정리\n",
    "## 1. Top level 상수 정의\n",
    "- 클래스 밖(top-level)에 상수를 정의할 수 있음\n",
    "- val로 선언해야 됨.\n",
    "- 대문자 사용\n",
    "- 문자열 템플릿 안에서도 사용 가능"
   ]
  },
  {
   "metadata": {
    "ExecuteTime": {
     "end_time": "2025-09-03T16:26:00.262076Z",
     "start_time": "2025-09-03T16:26:00.199549Z"
    }
   },
   "cell_type": "code",
   "source": [
    "val COUNT = 100\n",
    "\n",
    "println(COUNT)\n",
    "println(\"count is $COUNT\")"
   ],
   "outputs": [
    {
     "name": "stdout",
     "output_type": "stream",
     "text": [
      "100\n",
      "count is 100\n"
     ]
    }
   ],
   "execution_count": 9
  },
  {
   "metadata": {},
   "cell_type": "markdown",
   "source": [
    "## 2. 데이터 클래스(data class)\n",
    "- 상태를 저장하는 용도의 클래스에 적합\n",
    "- 단순히 데이터를 보관하는 클래스\n",
    "- `data` 키워드를 사용해야 함\n",
    "- 생성자 매개변수는 val, var로 선언해야 함\n",
    "\n",
    "| 기능              | 설명          |\n",
    "|-----------------|-------------|\n",
    "| `toString()`    | 깔끔한 출력 지원   |\n",
    "| `equals()`      | 구조적 비교 지원   |\n",
    "| `hashCode()`    | 해시 코드 자동 생성 |\n",
    "| `copy()`        | 객체 복사 기능    |\n",
    "| `getter/setter` | 접근 메서드      |\n",
    "\n",
    "| 제한               | 설명                                            |\n",
    "| ---------------- | --------------------------------------------- |\n",
    "| 생성자 필수           | 주 생성자에 **최소 하나의 파라미터** 필요                     |\n",
    "| `val` / `var` 필수 | 주 생성자 매개변수는 반드시 `val` 또는 `var` 이어야 함          |\n",
    "| 사용할 수 없는 키워드     | `abstract`, `sealed`, `inner` 클래스에는 사용할 수 없음  |\n",
    "| 생성자 외 속성         | 생성자 외에서 정의한 속성은 `equals`, `hashCode`에 포함되지 않음 |\n",
    "\n"
   ]
  }
 ],
 "metadata": {
  "kernelspec": {
   "display_name": "Kotlin",
   "language": "kotlin",
   "name": "kotlin"
  },
  "language_info": {
   "name": "kotlin",
   "version": "2.2.20-dev-4982",
   "mimetype": "text/x-kotlin",
   "file_extension": ".kt",
   "pygments_lexer": "kotlin",
   "codemirror_mode": "text/x-kotlin",
   "nbconvert_exporter": ""
  }
 },
 "nbformat": 4,
 "nbformat_minor": 0
}
