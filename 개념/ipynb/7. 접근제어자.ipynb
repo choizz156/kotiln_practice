{
 "cells": [
  {
   "metadata": {},
   "cell_type": "markdown",
   "source": [
    "## 코틀린 접근제어자\n",
    "\n",
    "### 1. public\n",
    "- 어디서나 접근 가"
   ]
  },
  {
   "metadata": {},
   "cell_type": "markdown",
   "source": "#### Top Level\n"
  },
  {
   "metadata": {
    "ExecuteTime": {
     "end_time": "2025-08-30T07:27:03.177243Z",
     "start_time": "2025-08-30T07:27:03.037632Z"
    }
   },
   "cell_type": "code",
   "source": [
    "public class Person(val name: String) //public 생략가능\n",
    "\n",
    "val person = Person(\"acle\")\n",
    "println(person.name)"
   ],
   "outputs": [
    {
     "name": "stdout",
     "output_type": "stream",
     "text": [
      "acle\n"
     ]
    }
   ],
   "execution_count": 1
  },
  {
   "metadata": {},
   "cell_type": "markdown",
   "source": "#### 클래스 멤버"
  },
  {
   "metadata": {
    "ExecuteTime": {
     "end_time": "2025-08-30T07:28:26.274759Z",
     "start_time": "2025-08-30T07:28:26.201291Z"
    }
   },
   "cell_type": "code",
   "source": [
    "class Car{\n",
    "    public val model = \"kia\" //생략 가능'\n",
    "\n",
    "}\n",
    "\n",
    "val car = Car()\n",
    "println(car.model)"
   ],
   "outputs": [
    {
     "name": "stdout",
     "output_type": "stream",
     "text": [
      "kia\n"
     ]
    }
   ],
   "execution_count": 2
  },
  {
   "metadata": {},
   "cell_type": "markdown",
   "source": [
    "### 2. private\n",
    "- 접근 범위가 파일 내 또는 클래스 내부로 제한\n",
    "\n",
    "#### Top level"
   ]
  },
  {
   "metadata": {},
   "cell_type": "code",
   "outputs": [],
   "execution_count": null,
   "source": [
    "//파일 내에서 (Main.kt)\n",
    "private class Secret\n",
    "\n",
    "fun main(){\n",
    "    val s = Secret()\n",
    "}"
   ]
  },
  {
   "metadata": {},
   "cell_type": "code",
   "outputs": [],
   "execution_count": null,
   "source": [
    "//Test.kt\n",
    "fun test(){\n",
    "    // val s = Secret() 컴파일 에러가 나옴\n",
    "}"
   ]
  },
  {
   "metadata": {},
   "cell_type": "markdown",
   "source": "#### 클래스 멤버"
  },
  {
   "metadata": {
    "ExecuteTime": {
     "end_time": "2025-08-30T07:39:49.474386Z",
     "start_time": "2025-08-30T07:39:49.410663Z"
    }
   },
   "cell_type": "code",
   "source": [
    "class BankAccount{\n",
    "    private val balance = 1000\n",
    "\n",
    "    fun showBalance() {\n",
    "        println(balance) // 클래스 내부에서 접근 가능\n",
    "    }\n",
    "}\n",
    "\n",
    "fun test(){\n",
    "    val account = BankAccount()\n",
    "    // println(account.balance) private 멤버라 접근 불가\n",
    "    account.showBalance()\n",
    "}\n",
    "\n",
    "test()"
   ],
   "outputs": [
    {
     "name": "stdout",
     "output_type": "stream",
     "text": [
      "1000\n"
     ]
    }
   ],
   "execution_count": 11
  },
  {
   "metadata": {},
   "cell_type": "markdown",
   "source": [
    "### 3. protected\n",
    "- 상속 관계에서는 접근 가능(java와 동일)\n",
    "\n",
    "#### Top Level에서는 사용 불가"
   ]
  },
  {
   "metadata": {},
   "cell_type": "code",
   "outputs": [],
   "execution_count": null,
   "source": "// protected class Animal 컴파일 에러"
  },
  {
   "metadata": {},
   "cell_type": "markdown",
   "source": [
    "\n",
    "#### 클래스 멤버"
   ]
  },
  {
   "metadata": {
    "ExecuteTime": {
     "end_time": "2025-08-30T07:41:17.262577Z",
     "start_time": "2025-08-30T07:41:17.217108Z"
    }
   },
   "cell_type": "code",
   "source": [
    "open class Animal {\n",
    "    protected val type = \"Mammal\"\n",
    "}\n",
    "\n",
    "class Dog : Animal() {\n",
    "    fun printType() {\n",
    "        println(type) // 하위 클래스에서 접근 가능\n",
    "    }\n",
    "}\n",
    "\n",
    "\n",
    "val dog = Dog()\n",
    "dog.printType()\n",
    "\n",
    "\n",
    "fun test(){\n",
    "    val dog = Dog()\n",
    "    // println(dog.type) 외부에서는 접근 불가\n",
    "}\n",
    "\n",
    "test()"
   ],
   "outputs": [
    {
     "ename": "org.jetbrains.kotlinx.jupyter.exceptions.ReplCompilerException",
     "evalue": "at Cell In[15], line 18, column 17: Cannot access 'type': it is protected in 'Dog'",
     "output_type": "error",
     "traceback": [
      "org.jetbrains.kotlinx.jupyter.exceptions.ReplCompilerException: at Cell In[15], line 18, column 17: Cannot access 'type': it is protected in 'Dog'",
      "\tat org.jetbrains.kotlinx.jupyter.repl.impl.JupyterCompilerImpl.compileSync(JupyterCompilerImpl.kt:152)",
      "\tat org.jetbrains.kotlinx.jupyter.repl.impl.InternalEvaluatorImpl.eval(InternalEvaluatorImpl.kt:127)",
      "\tat org.jetbrains.kotlinx.jupyter.repl.impl.CellExecutorImpl.execute_L4Nmkdk$lambda$9$lambda$1(CellExecutorImpl.kt:80)",
      "\tat org.jetbrains.kotlinx.jupyter.repl.impl.ReplForJupyterImpl.withHost(ReplForJupyterImpl.kt:794)",
      "\tat org.jetbrains.kotlinx.jupyter.repl.impl.CellExecutorImpl.execute-L4Nmkdk(CellExecutorImpl.kt:78)",
      "\tat org.jetbrains.kotlinx.jupyter.repl.execution.CellExecutor.execute-L4Nmkdk$default(CellExecutor.kt:14)",
      "\tat org.jetbrains.kotlinx.jupyter.repl.impl.ReplForJupyterImpl.evaluateUserCode-wNURfNM(ReplForJupyterImpl.kt:616)",
      "\tat org.jetbrains.kotlinx.jupyter.repl.impl.ReplForJupyterImpl.evalExImpl(ReplForJupyterImpl.kt:474)",
      "\tat org.jetbrains.kotlinx.jupyter.repl.impl.ReplForJupyterImpl.evalEx$lambda$20(ReplForJupyterImpl.kt:467)",
      "\tat org.jetbrains.kotlinx.jupyter.repl.impl.ReplForJupyterImpl.withEvalContext(ReplForJupyterImpl.kt:447)",
      "\tat org.jetbrains.kotlinx.jupyter.repl.impl.ReplForJupyterImpl.evalEx(ReplForJupyterImpl.kt:466)",
      "\tat org.jetbrains.kotlinx.jupyter.messaging.IdeCompatibleMessageRequestProcessor.processExecuteRequest$lambda$7$lambda$6$lambda$5(IdeCompatibleMessageRequestProcessor.kt:160)",
      "\tat org.jetbrains.kotlinx.jupyter.streams.BlockingSubstitutionEngine.withDataSubstitution(SubstitutionEngine.kt:70)",
      "\tat org.jetbrains.kotlinx.jupyter.streams.StreamSubstitutionManager.withSubstitutedStreams(StreamSubstitutionManager.kt:118)",
      "\tat org.jetbrains.kotlinx.jupyter.messaging.IdeCompatibleMessageRequestProcessor.withForkedIn(IdeCompatibleMessageRequestProcessor.kt:354)",
      "\tat org.jetbrains.kotlinx.jupyter.messaging.IdeCompatibleMessageRequestProcessor.evalWithIO$lambda$16$lambda$15(IdeCompatibleMessageRequestProcessor.kt:368)",
      "\tat org.jetbrains.kotlinx.jupyter.streams.BlockingSubstitutionEngine.withDataSubstitution(SubstitutionEngine.kt:70)",
      "\tat org.jetbrains.kotlinx.jupyter.streams.StreamSubstitutionManager.withSubstitutedStreams(StreamSubstitutionManager.kt:118)",
      "\tat org.jetbrains.kotlinx.jupyter.messaging.IdeCompatibleMessageRequestProcessor.withForkedErr(IdeCompatibleMessageRequestProcessor.kt:343)",
      "\tat org.jetbrains.kotlinx.jupyter.messaging.IdeCompatibleMessageRequestProcessor.evalWithIO$lambda$16(IdeCompatibleMessageRequestProcessor.kt:367)",
      "\tat org.jetbrains.kotlinx.jupyter.streams.BlockingSubstitutionEngine.withDataSubstitution(SubstitutionEngine.kt:70)",
      "\tat org.jetbrains.kotlinx.jupyter.streams.StreamSubstitutionManager.withSubstitutedStreams(StreamSubstitutionManager.kt:118)",
      "\tat org.jetbrains.kotlinx.jupyter.messaging.IdeCompatibleMessageRequestProcessor.withForkedOut(IdeCompatibleMessageRequestProcessor.kt:335)",
      "\tat org.jetbrains.kotlinx.jupyter.messaging.IdeCompatibleMessageRequestProcessor.evalWithIO(IdeCompatibleMessageRequestProcessor.kt:366)",
      "\tat org.jetbrains.kotlinx.jupyter.messaging.IdeCompatibleMessageRequestProcessor.processExecuteRequest$lambda$7$lambda$6(IdeCompatibleMessageRequestProcessor.kt:159)",
      "\tat org.jetbrains.kotlinx.jupyter.execution.JupyterExecutorImpl$Task.execute(JupyterExecutorImpl.kt:41)",
      "\tat org.jetbrains.kotlinx.jupyter.execution.JupyterExecutorImpl.executorThread$lambda$0(JupyterExecutorImpl.kt:83)",
      "\tat kotlin.concurrent.ThreadsKt$thread$thread$1.run(Thread.kt:30)",
      ""
     ]
    }
   ],
   "execution_count": 15
  },
  {
   "metadata": {},
   "cell_type": "markdown",
   "source": [
    "### 4. internal\n",
    "- 같은 모듈 내에서 접근 가능\n",
    "- 코틀린 전용 키워드\n",
    "\n",
    "#### Top level"
   ]
  },
  {
   "metadata": {
    "ExecuteTime": {
     "end_time": "2025-08-30T07:44:51.479343Z",
     "start_time": "2025-08-30T07:44:51.429511Z"
    }
   },
   "cell_type": "code",
   "source": [
    "//같은 모듈 내에서\n",
    "internal class Developer(val name: String)\n",
    "\n",
    "fun test() {\n",
    "    val dev = Developer(\"choi\")\n",
    "    println(dev.name)\n",
    "}\n",
    "\n",
    "test()\n",
    "\n",
    "//다른 모듈 일 시\n",
    "\n",
    "// val dev = Developer(\"john\") // 컴파일 에러 : internal 클래스 접근 불가"
   ],
   "outputs": [
    {
     "name": "stdout",
     "output_type": "stream",
     "text": [
      "choi\n"
     ]
    }
   ],
   "execution_count": 18
  },
  {
   "metadata": {},
   "cell_type": "markdown",
   "source": "#### 클래스 멤벛"
  },
  {
   "metadata": {
    "ExecuteTime": {
     "end_time": "2025-08-30T07:48:52.323981Z",
     "start_time": "2025-08-30T07:48:52.286237Z"
    }
   },
   "cell_type": "code",
   "source": [
    "class Project {\n",
    "    internal val codeName = \"beta\"\n",
    "}\n",
    "\n",
    "fun test() {\n",
    "    val p = Project()\n",
    "    println(p.codeName) // 같은 모듈내 접근 가능\n",
    "}\n",
    "\n",
    "test()"
   ],
   "outputs": [
    {
     "name": "stdout",
     "output_type": "stream",
     "text": [
      "beta\n"
     ]
    }
   ],
   "execution_count": 21
  },
  {
   "metadata": {
    "ExecuteTime": {
     "end_time": "2025-08-30T07:49:41.136481Z",
     "start_time": "2025-08-30T07:49:41.107604Z"
    }
   },
   "cell_type": "code",
   "source": [
    "// 다른 모듈\n",
    "val a = Project()\n",
    "// a.codeName 접근 불"
   ],
   "outputs": [],
   "execution_count": 34
  }
 ],
 "metadata": {
  "kernelspec": {
   "display_name": "Kotlin",
   "language": "kotlin",
   "name": "kotlin"
  },
  "language_info": {
   "name": "kotlin",
   "version": "2.2.20-dev-4982",
   "mimetype": "text/x-kotlin",
   "file_extension": ".kt",
   "pygments_lexer": "kotlin",
   "codemirror_mode": "text/x-kotlin",
   "nbconvert_exporter": ""
  }
 },
 "nbformat": 4,
 "nbformat_minor": 0
}
