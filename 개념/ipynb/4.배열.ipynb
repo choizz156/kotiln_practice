{
 "cells": [
  {
   "metadata": {},
   "cell_type": "markdown",
   "source": [
    "## Kotlin에서의 배열(Array)\n",
    "### 1. Kotlin에는 특별한 배열 타입이 없음\n",
    "- Kotlin에서 배열은 Array라는 클래스일 뿐이며, 이는 컬렉션(Collection) 클래스 중 하나이다.\n",
    "\n",
    "### 2. 배열 생성 방법\n",
    "#### 2.1. arrayOf 함수 사용 (초기 값이 있는 경우)\n",
    "- 타입을 명시하지 않아도 컴파일러가 알아서 추론함.\n",
    "- 배열 인덱싱 가능함\n"
   ]
  },
  {
   "metadata": {
    "ExecuteTime": {
     "end_time": "2025-08-29T12:26:35.023834Z",
     "start_time": "2025-08-29T12:26:34.869480Z"
    }
   },
   "cell_type": "code",
   "source": [
    "val names = arrayOf(\"a\",\"b\",\"c\")\n",
    "\n",
    "val longs = arrayOf(1L,2L)\n",
    "val longs2 = arrayOf<Long>(1,2,3)\n",
    "\n",
    "print(longs2[2])"
   ],
   "outputs": [
    {
     "name": "stdout",
     "output_type": "stream",
     "text": [
      "3"
     ]
    }
   ],
   "execution_count": 10
  },
  {
   "metadata": {},
   "cell_type": "markdown",
   "source": "#### 2.2. Array 생성자 + 람다식 사용 초기화"
  },
  {
   "metadata": {
    "ExecuteTime": {
     "end_time": "2025-08-29T12:08:51.827722Z",
     "start_time": "2025-08-29T12:08:51.752891Z"
    }
   },
   "cell_type": "code",
   "source": [
    "val even = Array(16){i -> i * 2}\n",
    "for( num in even) print(\"${num} \")"
   ],
   "outputs": [
    {
     "name": "stdout",
     "output_type": "stream",
     "text": [
      "0 2 4 6 8 10 12 14 16 18 20 22 24 26 28 30 "
     ]
    }
   ],
   "execution_count": 4
  },
  {
   "metadata": {},
   "cell_type": "markdown",
   "source": [
    "#### 2.3. 크기만 정하고 값은 나중에 초기화하는 방법\n",
    "- 타입을 명시해야 함 (Array<Int>)\n",
    "- 추후 `Array(6) { (it + 1) * 10 }`처럼 람다식으로 재할당 가능"
   ]
  },
  {
   "metadata": {
    "ExecuteTime": {
     "end_time": "2025-08-29T12:26:46.703839Z",
     "start_time": "2025-08-29T12:26:46.636707Z"
    }
   },
   "cell_type": "code",
   "source": [
    "var someArray: Array<Int>\n",
    "someArray = arrayOf(1,2,3)\n",
    "for(elm in someArray) println(elm)"
   ],
   "outputs": [
    {
     "name": "stdout",
     "output_type": "stream",
     "text": [
      "1\n",
      "2\n",
      "3\n"
     ]
    }
   ],
   "execution_count": 11
  },
  {
   "metadata": {},
   "cell_type": "markdown",
   "source": [
    "#### 2.4. 다양한 타입이 섞인 배열 (혼합 배열)\n",
    "- 타입은 Array<Any>로 추론됨\n",
    "- 어떤 타입이든 섞을 수 있음"
   ]
  },
  {
   "metadata": {
    "ExecuteTime": {
     "end_time": "2025-08-29T12:26:49.459761Z",
     "start_time": "2025-08-29T12:26:49.394921Z"
    }
   },
   "cell_type": "code",
   "source": [
    "import java.math.BigDecimal\n",
    "\n",
    "val mixedArray = arrayOf(\"hello\", 22, BigDecimal(\"10.5\"), 'A')\n",
    "for(elm in mixedArray) println(elm)"
   ],
   "outputs": [
    {
     "name": "stdout",
     "output_type": "stream",
     "text": [
      "hello\n",
      "22\n",
      "10.5\n",
      "A\n"
     ]
    }
   ],
   "execution_count": 12
  },
  {
   "metadata": {},
   "cell_type": "markdown",
   "source": [
    "### 3. Kotlin → Java: 원시 타입 배열을 넘기는 경우\n",
    "\n",
    "#### Java의 메서드가 int[]와 같은 원시 타입 배열을 원할 때는 arrayOf로 생성한 배열을 직접 넘길 수 없음."
   ]
  },
  {
   "metadata": {
    "ExecuteTime": {
     "end_time": "2025-08-29T12:29:15.159887Z",
     "start_time": "2025-08-29T12:29:15.150347Z"
    }
   },
   "cell_type": "code",
   "source": [
    "public void printNumbers(int[] numbers) {\n",
    "    for (int num : numbers) System.out.println(num);\n",
    "}\n",
    "\n",
    "val myIntArray = arrayOf(1, 2, 3, 4)\n",
    "DummyClass.printNumbers(myIntArray) //오류 발생"
   ],
   "outputs": [
    {
     "ename": "org.jetbrains.kotlinx.jupyter.exceptions.ReplCompilerException",
     "evalue": "at Cell In[17], line 1, column 30: Expecting an index element\nat Cell In[17], line 1, column 39: Expecting an element\nat Cell In[17], line 2, column 14: Expecting 'in'\nat Cell In[17], line 2, column 17: Expecting ')'\nat Cell In[17], line 2, column 18: Expecting an expression\nat Cell In[17], line 2, column 18: Unexpected tokens (use ';' to separate expressions on the same line)\nat Cell In[17], line 2, column 52: Expecting an element",
     "output_type": "error",
     "traceback": [
      "org.jetbrains.kotlinx.jupyter.exceptions.ReplCompilerException: at Cell In[17], line 1, column 30: Expecting an index element",
      "at Cell In[17], line 1, column 39: Expecting an element",
      "at Cell In[17], line 2, column 14: Expecting 'in'",
      "at Cell In[17], line 2, column 17: Expecting ')'",
      "at Cell In[17], line 2, column 18: Expecting an expression",
      "at Cell In[17], line 2, column 18: Unexpected tokens (use ';' to separate expressions on the same line)",
      "at Cell In[17], line 2, column 52: Expecting an element",
      "\tat org.jetbrains.kotlinx.jupyter.repl.impl.JupyterCompilerImpl.compileSync(JupyterCompilerImpl.kt:152)",
      "\tat org.jetbrains.kotlinx.jupyter.repl.impl.InternalEvaluatorImpl.eval(InternalEvaluatorImpl.kt:127)",
      "\tat org.jetbrains.kotlinx.jupyter.repl.impl.CellExecutorImpl.execute_L4Nmkdk$lambda$9$lambda$1(CellExecutorImpl.kt:80)",
      "\tat org.jetbrains.kotlinx.jupyter.repl.impl.ReplForJupyterImpl.withHost(ReplForJupyterImpl.kt:794)",
      "\tat org.jetbrains.kotlinx.jupyter.repl.impl.CellExecutorImpl.execute-L4Nmkdk(CellExecutorImpl.kt:78)",
      "\tat org.jetbrains.kotlinx.jupyter.repl.execution.CellExecutor.execute-L4Nmkdk$default(CellExecutor.kt:14)",
      "\tat org.jetbrains.kotlinx.jupyter.repl.impl.ReplForJupyterImpl.evaluateUserCode-wNURfNM(ReplForJupyterImpl.kt:616)",
      "\tat org.jetbrains.kotlinx.jupyter.repl.impl.ReplForJupyterImpl.evalExImpl(ReplForJupyterImpl.kt:474)",
      "\tat org.jetbrains.kotlinx.jupyter.repl.impl.ReplForJupyterImpl.evalEx$lambda$20(ReplForJupyterImpl.kt:467)",
      "\tat org.jetbrains.kotlinx.jupyter.repl.impl.ReplForJupyterImpl.withEvalContext(ReplForJupyterImpl.kt:447)",
      "\tat org.jetbrains.kotlinx.jupyter.repl.impl.ReplForJupyterImpl.evalEx(ReplForJupyterImpl.kt:466)",
      "\tat org.jetbrains.kotlinx.jupyter.messaging.IdeCompatibleMessageRequestProcessor.processExecuteRequest$lambda$7$lambda$6$lambda$5(IdeCompatibleMessageRequestProcessor.kt:160)",
      "\tat org.jetbrains.kotlinx.jupyter.streams.BlockingSubstitutionEngine.withDataSubstitution(SubstitutionEngine.kt:70)",
      "\tat org.jetbrains.kotlinx.jupyter.streams.StreamSubstitutionManager.withSubstitutedStreams(StreamSubstitutionManager.kt:118)",
      "\tat org.jetbrains.kotlinx.jupyter.messaging.IdeCompatibleMessageRequestProcessor.withForkedIn(IdeCompatibleMessageRequestProcessor.kt:354)",
      "\tat org.jetbrains.kotlinx.jupyter.messaging.IdeCompatibleMessageRequestProcessor.evalWithIO$lambda$16$lambda$15(IdeCompatibleMessageRequestProcessor.kt:368)",
      "\tat org.jetbrains.kotlinx.jupyter.streams.BlockingSubstitutionEngine.withDataSubstitution(SubstitutionEngine.kt:70)",
      "\tat org.jetbrains.kotlinx.jupyter.streams.StreamSubstitutionManager.withSubstitutedStreams(StreamSubstitutionManager.kt:118)",
      "\tat org.jetbrains.kotlinx.jupyter.messaging.IdeCompatibleMessageRequestProcessor.withForkedErr(IdeCompatibleMessageRequestProcessor.kt:343)",
      "\tat org.jetbrains.kotlinx.jupyter.messaging.IdeCompatibleMessageRequestProcessor.evalWithIO$lambda$16(IdeCompatibleMessageRequestProcessor.kt:367)",
      "\tat org.jetbrains.kotlinx.jupyter.streams.BlockingSubstitutionEngine.withDataSubstitution(SubstitutionEngine.kt:70)",
      "\tat org.jetbrains.kotlinx.jupyter.streams.StreamSubstitutionManager.withSubstitutedStreams(StreamSubstitutionManager.kt:118)",
      "\tat org.jetbrains.kotlinx.jupyter.messaging.IdeCompatibleMessageRequestProcessor.withForkedOut(IdeCompatibleMessageRequestProcessor.kt:335)",
      "\tat org.jetbrains.kotlinx.jupyter.messaging.IdeCompatibleMessageRequestProcessor.evalWithIO(IdeCompatibleMessageRequestProcessor.kt:366)",
      "\tat org.jetbrains.kotlinx.jupyter.messaging.IdeCompatibleMessageRequestProcessor.processExecuteRequest$lambda$7$lambda$6(IdeCompatibleMessageRequestProcessor.kt:159)",
      "\tat org.jetbrains.kotlinx.jupyter.execution.JupyterExecutorImpl$Task.execute(JupyterExecutorImpl.kt:41)",
      "\tat org.jetbrains.kotlinx.jupyter.execution.JupyterExecutorImpl.executorThread$lambda$0(JupyterExecutorImpl.kt:83)",
      "\tat kotlin.concurrent.ThreadsKt$thread$thread$1.run(Thread.kt:30)",
      ""
     ]
    }
   ],
   "execution_count": 17
  },
  {
   "metadata": {},
   "cell_type": "markdown",
   "source": [
    "#### 해결 방법: Kotlin의 원시 타입 배열 클래스 사용\n",
    "- IntArray, ByteArray 등은 Java의 원시 타입 배열에 직접 대응하므로 성능도 향상됨."
   ]
  },
  {
   "metadata": {
    "ExecuteTime": {
     "end_time": "2025-08-29T12:29:19.013122Z",
     "start_time": "2025-08-29T12:29:18.993824Z"
    }
   },
   "cell_type": "code",
   "source": [
    "val myIntArray = intArrayOf(1, 2, 3, 4) // ✅ IntArray\n",
    "DummyClass.printNumbers(myIntArray) // 정상 작동"
   ],
   "outputs": [
    {
     "ename": "org.jetbrains.kotlinx.jupyter.exceptions.ReplCompilerException",
     "evalue": "at Cell In[18], line 2, column 1: Unresolved reference: DummyClass",
     "output_type": "error",
     "traceback": [
      "org.jetbrains.kotlinx.jupyter.exceptions.ReplCompilerException: at Cell In[18], line 2, column 1: Unresolved reference: DummyClass",
      "\tat org.jetbrains.kotlinx.jupyter.repl.impl.JupyterCompilerImpl.compileSync(JupyterCompilerImpl.kt:152)",
      "\tat org.jetbrains.kotlinx.jupyter.repl.impl.InternalEvaluatorImpl.eval(InternalEvaluatorImpl.kt:127)",
      "\tat org.jetbrains.kotlinx.jupyter.repl.impl.CellExecutorImpl.execute_L4Nmkdk$lambda$9$lambda$1(CellExecutorImpl.kt:80)",
      "\tat org.jetbrains.kotlinx.jupyter.repl.impl.ReplForJupyterImpl.withHost(ReplForJupyterImpl.kt:794)",
      "\tat org.jetbrains.kotlinx.jupyter.repl.impl.CellExecutorImpl.execute-L4Nmkdk(CellExecutorImpl.kt:78)",
      "\tat org.jetbrains.kotlinx.jupyter.repl.execution.CellExecutor.execute-L4Nmkdk$default(CellExecutor.kt:14)",
      "\tat org.jetbrains.kotlinx.jupyter.repl.impl.ReplForJupyterImpl.evaluateUserCode-wNURfNM(ReplForJupyterImpl.kt:616)",
      "\tat org.jetbrains.kotlinx.jupyter.repl.impl.ReplForJupyterImpl.evalExImpl(ReplForJupyterImpl.kt:474)",
      "\tat org.jetbrains.kotlinx.jupyter.repl.impl.ReplForJupyterImpl.evalEx$lambda$20(ReplForJupyterImpl.kt:467)",
      "\tat org.jetbrains.kotlinx.jupyter.repl.impl.ReplForJupyterImpl.withEvalContext(ReplForJupyterImpl.kt:447)",
      "\tat org.jetbrains.kotlinx.jupyter.repl.impl.ReplForJupyterImpl.evalEx(ReplForJupyterImpl.kt:466)",
      "\tat org.jetbrains.kotlinx.jupyter.messaging.IdeCompatibleMessageRequestProcessor.processExecuteRequest$lambda$7$lambda$6$lambda$5(IdeCompatibleMessageRequestProcessor.kt:160)",
      "\tat org.jetbrains.kotlinx.jupyter.streams.BlockingSubstitutionEngine.withDataSubstitution(SubstitutionEngine.kt:70)",
      "\tat org.jetbrains.kotlinx.jupyter.streams.StreamSubstitutionManager.withSubstitutedStreams(StreamSubstitutionManager.kt:118)",
      "\tat org.jetbrains.kotlinx.jupyter.messaging.IdeCompatibleMessageRequestProcessor.withForkedIn(IdeCompatibleMessageRequestProcessor.kt:354)",
      "\tat org.jetbrains.kotlinx.jupyter.messaging.IdeCompatibleMessageRequestProcessor.evalWithIO$lambda$16$lambda$15(IdeCompatibleMessageRequestProcessor.kt:368)",
      "\tat org.jetbrains.kotlinx.jupyter.streams.BlockingSubstitutionEngine.withDataSubstitution(SubstitutionEngine.kt:70)",
      "\tat org.jetbrains.kotlinx.jupyter.streams.StreamSubstitutionManager.withSubstitutedStreams(StreamSubstitutionManager.kt:118)",
      "\tat org.jetbrains.kotlinx.jupyter.messaging.IdeCompatibleMessageRequestProcessor.withForkedErr(IdeCompatibleMessageRequestProcessor.kt:343)",
      "\tat org.jetbrains.kotlinx.jupyter.messaging.IdeCompatibleMessageRequestProcessor.evalWithIO$lambda$16(IdeCompatibleMessageRequestProcessor.kt:367)",
      "\tat org.jetbrains.kotlinx.jupyter.streams.BlockingSubstitutionEngine.withDataSubstitution(SubstitutionEngine.kt:70)",
      "\tat org.jetbrains.kotlinx.jupyter.streams.StreamSubstitutionManager.withSubstitutedStreams(StreamSubstitutionManager.kt:118)",
      "\tat org.jetbrains.kotlinx.jupyter.messaging.IdeCompatibleMessageRequestProcessor.withForkedOut(IdeCompatibleMessageRequestProcessor.kt:335)",
      "\tat org.jetbrains.kotlinx.jupyter.messaging.IdeCompatibleMessageRequestProcessor.evalWithIO(IdeCompatibleMessageRequestProcessor.kt:366)",
      "\tat org.jetbrains.kotlinx.jupyter.messaging.IdeCompatibleMessageRequestProcessor.processExecuteRequest$lambda$7$lambda$6(IdeCompatibleMessageRequestProcessor.kt:159)",
      "\tat org.jetbrains.kotlinx.jupyter.execution.JupyterExecutorImpl$Task.execute(JupyterExecutorImpl.kt:41)",
      "\tat org.jetbrains.kotlinx.jupyter.execution.JupyterExecutorImpl.executorThread$lambda$0(JupyterExecutorImpl.kt:83)",
      "\tat kotlin.concurrent.ThreadsKt$thread$thread$1.run(Thread.kt:30)",
      ""
     ]
    }
   ],
   "execution_count": 18
  },
  {
   "metadata": {},
   "cell_type": "markdown",
   "source": "### 4. 기본값으로 초기화된 원시 배열"
  },
  {
   "metadata": {
    "ExecuteTime": {
     "end_time": "2025-08-29T12:27:35.344306Z",
     "start_time": "2025-08-29T12:27:35.295057Z"
    }
   },
   "cell_type": "code",
   "source": [
    "val otherArray = IntArray(5) //0으로 초기화된 요소 5개\n",
    "for(elm in otherArray) println(elm)\n",
    "val invalidArray = Array<Int>(5) //오류 -> 초기값이 필요함."
   ],
   "outputs": [
    {
     "name": "stdout",
     "output_type": "stream",
     "text": [
      "0\n",
      "0\n",
      "0\n",
      "0\n",
      "0\n"
     ]
    }
   ],
   "execution_count": 15
  },
  {
   "metadata": {},
   "cell_type": "markdown",
   "source": "### 5. 배열 변환"
  },
  {
   "metadata": {
    "ExecuteTime": {
     "end_time": "2025-08-29T12:29:11.147424Z",
     "start_time": "2025-08-29T12:29:11.062620Z"
    }
   },
   "cell_type": "code",
   "source": [
    "//일반 -> 원시\n",
    "val generalArray1 = arrayOf(1, 2, 3)\n",
    "val intArray = generalArray1.toIntArray()\n",
    "\n",
    "//원시 -> 일반\n",
    "val intArray2 = intArrayOf(1, 2, 3)\n",
    "val generalArray = intArray2.toTypedArray()"
   ],
   "outputs": [],
   "execution_count": 16
  },
  {
   "metadata": {},
   "cell_type": "markdown",
   "source": [
    "### 6. 빈 배열\n",
    "- `emptyArray<T>()`\n",
    "#### 값을 모를 때 초기화하고 싶다면\n",
    "- val arr = `ArrayOfNulls<String>(5)`"
   ]
  }
 ],
 "metadata": {
  "kernelspec": {
   "display_name": "Kotlin",
   "language": "kotlin",
   "name": "kotlin"
  },
  "language_info": {
   "name": "kotlin",
   "version": "2.2.20-dev-4982",
   "mimetype": "text/x-kotlin",
   "file_extension": ".kt",
   "pygments_lexer": "kotlin",
   "codemirror_mode": "text/x-kotlin",
   "nbconvert_exporter": ""
  }
 },
 "nbformat": 4,
 "nbformat_minor": 0
}
