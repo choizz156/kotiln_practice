{
 "cells": [
  {
   "metadata": {},
   "cell_type": "markdown",
   "source": [
    "# companion object\n",
    "- kotlin에는 static이 없기 때문에, 클래스 내부의 함수나 변수를 클래스 이름만으로 호출할 수 없음.\n",
    "- 항상 인스턴스를 생성해야 합니다.\n",
    "- companion object를 사용하면 비슷하게 사용 가능\n",
    "  - 정적 멤버 대체\n",
    "  - 팩터리 메서드 패턴 구현"
   ]
  },
  {
   "metadata": {
    "ExecuteTime": {
     "end_time": "2025-09-05T14:58:23.443909Z",
     "start_time": "2025-09-05T14:58:23.281210Z"
    }
   },
   "cell_type": "code",
   "source": [
    "class SomeClass {\n",
    "    companion object {\n",
    "        private var privateVar = 6\n",
    "\n",
    "        fun accessPrivateVar() {\n",
    "            println(\"Accessing privateVar: $privateVar\")\n",
    "        }\n",
    "    }\n",
    "}\n",
    "\n",
    "SomeClass.accessPrivateVar()"
   ],
   "outputs": [
    {
     "name": "stdout",
     "output_type": "stream",
     "text": [
      "Accessing privateVar: 6\n"
     ]
    }
   ],
   "execution_count": 1
  },
  {
   "metadata": {},
   "cell_type": "markdown",
   "source": [
    "- `companion object` 안에 정의된 함수나 변수는 클래스명으로 직접 접근 가능\n",
    "-  `companion object`안에 이름을 붙일 수도 있지만 코틀린이 자동으로 인식\n",
    "  - companion object MyCompanion { ... }"
   ]
  },
  {
   "metadata": {},
   "cell_type": "markdown",
   "source": [
    "## 팩토리 패턴\n",
    "- 생성자를 private으로 선언하여 외부에서 객체생성 막음\n",
    "- 객체 생성시 메서드를 사용하도록 유도"
   ]
  },
  {
   "metadata": {
    "ExecuteTime": {
     "end_time": "2025-09-05T15:00:40.572989Z",
     "start_time": "2025-09-05T15:00:40.410717Z"
    }
   },
   "cell_type": "code",
   "source": [
    "class SomeClass private constructor(val someString: String) {\n",
    "    companion object {\n",
    "        fun justAssign(str: String): SomeClass {\n",
    "            return SomeClass(str)\n",
    "        }\n",
    "\n",
    "        fun upperOrLower(str: String, lowerCase: Boolean): SomeClass {\n",
    "            return if (lowerCase)\n",
    "                SomeClass(str.lowercase())\n",
    "            else\n",
    "                SomeClass(str.uppercase())\n",
    "        }\n",
    "    }\n",
    "}"
   ],
   "outputs": [],
   "execution_count": 2
  },
  {
   "metadata": {
    "ExecuteTime": {
     "end_time": "2025-09-05T15:01:17.498610Z",
     "start_time": "2025-09-05T15:01:17.419753Z"
    }
   },
   "cell_type": "code",
   "source": [
    "val instance1 = SomeClass.justAssign(\"Hello Kotlin\")\n",
    "val instance2 = SomeClass.upperOrLower(\"Hello Kotlin\", false)\n",
    "\n",
    "println(instance1.someString)\n",
    "println(instance2.someString)"
   ],
   "outputs": [
    {
     "name": "stdout",
     "output_type": "stream",
     "text": [
      "Hello Kotlin\n",
      "HELLO KOTLIN\n"
     ]
    }
   ],
   "execution_count": 3
  }
 ],
 "metadata": {
  "kernelspec": {
   "display_name": "Kotlin",
   "language": "kotlin",
   "name": "kotlin"
  },
  "language_info": {
   "name": "kotlin",
   "version": "2.2.20-dev-4982",
   "mimetype": "text/x-kotlin",
   "file_extension": ".kt",
   "pygments_lexer": "kotlin",
   "codemirror_mode": "text/x-kotlin",
   "nbconvert_exporter": ""
  }
 },
 "nbformat": 4,
 "nbformat_minor": 0
}
