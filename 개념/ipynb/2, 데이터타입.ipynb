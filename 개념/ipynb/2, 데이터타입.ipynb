{
 "cells": [
  {
   "metadata": {},
   "cell_type": "markdown",
   "source": [
    "## Kotlin의 데이터 타입 개요 및 특징\n",
    "### 1. Kotlin에서는 모든 것이 클래스이다\n",
    "- Java와 달리 Kotlin에는 소문자 primitive 타입이 없다.\n",
    "- Kotlin의 기본 데이터 타입들은 모두 클래스 형태이다.\n",
    "- Kotlin의 데이터 타입은 JVM을 대상으로 하므로, Java와 동일한 내장 데이터 타입을 가진다.\n",
    "\n",
    "### 2. 숫자형 타입(정수형)\n",
    "- 기본 정수 타입 `Int`\n",
    "- `Byte`, `Short`, `Long` 타입도 있다.\n",
    "  - Long 타입의 경우 숫자뒤에 L을 붙임\n",
    "\n",
    "#### Kotlin은 자동 형 변환(자동 widening)을 하지 않는다.\n",
    "- Java는 int를 long에 자동으로 넣어줄 수 있지만, Kotlin은 불가능하다.\n",
    "- Kotlin에서는 명시적으로 변환 함수를 호출해야 한다.\n",
    "- 숫자 리터럴은 자동으로 넓혀질 수 있지만, 변수 간의 할당은 명시적 변환이 필요하다."
   ]
  },
  {
   "metadata": {
    "ExecuteTime": {
     "end_time": "2025-08-29T11:10:07.705206Z",
     "start_time": "2025-08-29T11:10:07.621660Z"
    }
   },
   "cell_type": "code",
   "source": [
    "val myInt = 10\n",
    "val myLong = 11L\n",
    "\n",
    "val yourInt = 11\n",
    "val yourLong1: Long = 11 //숫자는 자동으로 가능\n",
    "// val yourLong: Long = myInt ->  Type mismatch: inferred type is Int but Long was expected\n",
    "val yourLong2: Long = yourInt.toLong() // 변수는 명시적으로 변환해야함.\n"
   ],
   "outputs": [],
   "execution_count": 3
  },
  {
   "metadata": {},
   "cell_type": "markdown",
   "source": [
    "### 실수형 타입\n",
    "- 기본 실수 타입은 Double (Java와 같다).\n",
    "- Float 타입은 숫자 뒤에 F를 붙여 표시한다.\n",
    "- 실수형도 마찬가지로 변수는 자동 형 변환을 하지 않는다. Float → Double 변환 시 명시적으로 변환함수를 써야 한다."
   ]
  },
  {
   "metadata": {
    "ExecuteTime": {
     "end_time": "2025-08-29T11:18:39.643003Z",
     "start_time": "2025-08-29T11:18:39.570797Z"
    }
   },
   "cell_type": "code",
   "source": [
    "val myDouble = 1.1\n",
    "val myFloat = 1.2F\n",
    "\n",
    "val yourDouble1 :Double = 1.2 //이건 됨\n",
    "val yourDouble2 :Double = myFloat.toDouble()"
   ],
   "outputs": [],
   "execution_count": 4
  },
  {
   "metadata": {},
   "cell_type": "markdown",
   "source": [
    "### 4. Char 타입 (문자)\n",
    "- Kotlin은 문자를 숫자로 바로 할당할 수 없다.\n",
    "- 숫자 코드값을 문자로 변환하려면 toChar() 함수를 사용해야 한다.\n",
    "\n",
    "### 5. Boolean 타입\n",
    "- Boolean 타입은 true 또는 false 값만 가진다.\n",
    "- 선언 시 타입을 명시하지 않아도 된다.\n",
    "\n",
    "### 6. Java와의 상호 운용성\n",
    "\n",
    "- Kotlin에서 Java 클래스를 문제없이 사용할 수 있다.\n",
    "- Java 메소드가 primitive 타입을 매개변수로 요구해도, Kotlin에서는 특별한 처리가 필요 없다.\n",
    "- Kotlin의 기본 데이터 타입(Int, Boolean, Double 등)만 컴파일 시 Java의 primitive 타입(int, boolean, double 등) 으로 변환된다.\n",
    "- Java의 boxing/unboxing도 Kotlin과 잘 호환된다.\n",
    "\n",
    "### 7. Kotlin에서 자주 보는 특별 클래스: Any, Unit, Nothing\n",
    "\n",
    "- Any: Kotlin의 모든 클래스 최상위 슈퍼클래스 (Java의 Object와 유사).\n",
    "  - equals(), hashCode(), toString() 함수가 정의되어 있다.\n",
    "\n",
    "- Unit: Java의 void와 같은 역할.\n",
    "  - 함수가 값을 반환하지 않을 때 사용하는 타입.\n",
    "  - Kotlin에서는 실제로 하나의 singleton 객체를 반환한다.\n",
    "\n",
    "- Nothing: Java에는 없는 타입.\n",
    "\n",
    "  - 모든 클래스의 서브클래스.\n",
    "  - 주로 함수가 절대 정상적으로 반환하지 않을 때 사용(예: 무한 루프, 예외 던짐)."
   ]
  },
  {
   "metadata": {},
   "cell_type": "markdown",
   "source": ""
  }
 ],
 "metadata": {
  "kernelspec": {
   "display_name": "Kotlin",
   "language": "kotlin",
   "name": "kotlin"
  },
  "language_info": {
   "name": "kotlin",
   "version": "2.2.20-dev-4982",
   "mimetype": "text/x-kotlin",
   "file_extension": ".kt",
   "pygments_lexer": "kotlin",
   "codemirror_mode": "text/x-kotlin",
   "nbconvert_exporter": ""
  }
 },
 "nbformat": 4,
 "nbformat_minor": 0
}
