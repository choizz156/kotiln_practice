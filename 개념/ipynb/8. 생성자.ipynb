{
 "cells": [
  {
   "metadata": {},
   "cell_type": "markdown",
   "source": "## 코틀린 생성자"
  },
  {
   "metadata": {},
   "cell_type": "markdown",
   "source": "## 1. 기본 생성자"
  },
  {
   "metadata": {},
   "cell_type": "code",
   "outputs": [],
   "execution_count": null,
   "source": [
    "// 자바에서 만드는 방식\n",
    "public class Employee {\n",
    "    private final String firstName;\n",
    "\n",
    "    public Employee(String firstName) {\n",
    "        this.firstName = firstName;\n",
    "    }\n",
    "}"
   ]
  },
  {
   "metadata": {},
   "cell_type": "markdown",
   "source": [
    "### 클래스 가장 긴 버전\n",
    "- constructor는 생성자를 의미하고\n",
    "- init은 생성자가 호출되었을 때 실행되는 블록이에요."
   ]
  },
  {
   "metadata": {},
   "cell_type": "code",
   "outputs": [],
   "execution_count": null,
   "source": [
    "class Employee constructor(firstName: String){\n",
    "    val firstName: String\n",
    "\n",
    "    init {\n",
    "        this.firstName = firstName;\n",
    "    }\n",
    "}"
   ]
  },
  {
   "metadata": {},
   "cell_type": "markdown",
   "source": "### 한 줄로 끝내기"
  },
  {
   "metadata": {},
   "cell_type": "code",
   "outputs": [],
   "execution_count": null,
   "source": "class Employee(val firstName: String)"
  },
  {
   "metadata": {},
   "cell_type": "markdown",
   "source": "- `val firstName` : firstName이라는 변수(속성)를 만들고, 생성자에서 이 값도 자동으로 넣어줌"
  },
  {
   "metadata": {},
   "cell_type": "markdown",
   "source": [
    "## 2. 생성자에 기본값 주기\n",
    "- java는 아래 코드처럼 줄 수 있음(생성자 오버로딩)"
   ]
  },
  {
   "metadata": {},
   "cell_type": "code",
   "outputs": [],
   "execution_count": null,
   "source": [
    "public Employee(String firstName) {\n",
    "    this(firstName, true); // 기본값 사용\n",
    "}\n",
    "\n",
    "public Employee(String firstName, boolean fullTime) {\n",
    "    this.firstName = firstName;\n",
    "    this.fullTime = fullTime;\n",
    "}"
   ]
  },
  {
   "metadata": {},
   "cell_type": "markdown",
   "source": "### 코틀린 생성자 기본값"
  },
  {
   "metadata": {},
   "cell_type": "code",
   "outputs": [],
   "execution_count": null,
   "source": "class Employee(val firstName: String, val fullTime: Boolean = true)"
  },
  {
   "metadata": {},
   "cell_type": "markdown",
   "source": "- Employee(\"name\")만 써도 fullTime이 true로 변경됨."
  },
  {
   "metadata": {},
   "cell_type": "markdown",
   "source": [
    "### 코틀린 보조 생성자\n",
    "- 거의 사용할 일 없음 -> 기본값 설정을 사용하면됨"
   ]
  },
  {
   "metadata": {},
   "cell_type": "code",
   "outputs": [],
   "execution_count": null,
   "source": [
    "class Employee(val firstName: String){\n",
    "    var fullTime: Boolean = true\n",
    "\n",
    "    constructor(firstName: String, fullTime: Boolean) : this(firstName){\n",
    "        this.fullTime = fullTime\n",
    "    }\n",
    "}"
   ]
  },
  {
   "metadata": {},
   "cell_type": "markdown",
   "source": "- this(firstName) 으로 기본생성자 먼저 생성 후 fullTime을 설정"
  },
  {
   "metadata": {},
   "cell_type": "markdown",
   "source": [
    "## 3. 클래스에 생성자 아예 안넣고 만들기\n",
    "- 클래스 이름 뒤에 괄호`()`를 안 붙이면 기본 생성자 없음\n",
    "- 보조 생성자만 사용 할 수 있음."
   ]
  },
  {
   "metadata": {},
   "cell_type": "code",
   "outputs": [],
   "execution_count": null,
   "source": [
    "class Demo {\n",
    "    val dummy: String\n",
    "\n",
    "    constructor() {\n",
    "        dummy = \"Hello\"\n",
    "    }\n",
    "}"
   ]
  }
 ],
 "metadata": {
  "kernelspec": {
   "display_name": "Kotlin",
   "language": "kotlin",
   "name": "kotlin"
  },
  "language_info": {
   "name": "kotlin",
   "version": "2.2.20-dev-4982",
   "mimetype": "text/x-kotlin",
   "file_extension": ".kt",
   "pygments_lexer": "kotlin",
   "codemirror_mode": "text/x-kotlin",
   "nbconvert_exporter": ""
  }
 },
 "nbformat": 4,
 "nbformat_minor": 0
}
