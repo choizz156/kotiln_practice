{
 "cells": [
  {
   "metadata": {},
   "cell_type": "markdown",
   "source": [
    "# 코틀린에서 함수\n",
    "- 클래스 안에 선언된 함수는 **메서드**, **멤버 함수**라고 부름\n",
    "- 함수 문법은 클래스 안/밖에서 동일함\n",
    "\n",
    "### 1. 기본 구조\n",
    "- `fun`으로 시작\n",
    "- 파라미터 작성\n",
    "- 반환타입은 `:`뒤에 위치\n",
    "- void = `Unit`(생략가능)"
   ]
  },
  {
   "metadata": {
    "ExecuteTime": {
     "end_time": "2025-09-03T16:37:51.943528Z",
     "start_time": "2025-09-03T16:37:51.822971Z"
    }
   },
   "cell_type": "code",
   "source": [
    "fun multiply(operand1: Int, operand2: Int, label: String): String{\n",
    "    return \"$label ${operand1 * operand2}\"\n",
    "}\n",
    "\n",
    "println(multiply(2,2,\"answer\"))"
   ],
   "outputs": [
    {
     "name": "stdout",
     "output_type": "stream",
     "text": [
      "answer 4\n"
     ]
    }
   ],
   "execution_count": 1
  },
  {
   "metadata": {},
   "cell_type": "markdown",
   "source": [
    "### 2. 표현식 함수\n",
    "- 반환할 값이 명확한 경우 `=`으로 간단히 표현 가능\n",
    "- 컴파일러가 반환타입 추론 가능\n",
    "- return, {} 생략 가능"
   ]
  },
  {
   "metadata": {
    "ExecuteTime": {
     "end_time": "2025-09-03T16:39:45.445510Z",
     "start_time": "2025-09-03T16:39:45.373641Z"
    }
   },
   "cell_type": "code",
   "source": [
    "fun square(x: Int) = x * x\n",
    "\n",
    "println(square(2))"
   ],
   "outputs": [
    {
     "name": "stdout",
     "output_type": "stream",
     "text": [
      "4\n"
     ]
    }
   ],
   "execution_count": 2
  },
  {
   "metadata": {},
   "cell_type": "markdown",
   "source": [
    "### 3. 기본 파라미터 값\n",
    "- 기본값있어도 파라미터 타입은 생략 불가"
   ]
  },
  {
   "metadata": {
    "ExecuteTime": {
     "end_time": "2025-09-03T16:41:26.024191Z",
     "start_time": "2025-09-03T16:41:25.914253Z"
    }
   },
   "cell_type": "code",
   "source": [
    "fun multiply(operand1: Int, operand2: Int, label: String = \"The answer is\") =\n",
    "    \"$label ${operand1 * operand2}\"\n",
    "\n",
    "println(multiply(2,2))"
   ],
   "outputs": [
    {
     "name": "stdout",
     "output_type": "stream",
     "text": [
      "The answer is 4\n"
     ]
    }
   ],
   "execution_count": 3
  },
  {
   "metadata": {},
   "cell_type": "markdown",
   "source": [
    "### 4. 이름있는 인자 (named Argument)\n",
    "- 파라미터 순서를 바꿀 수 있음\n",
    "- 한 개라도 이름 붙이면, 모든 파라미터에 붙여야 함\n",
    "- 가독성 향상, 코드 자체가 문서 역할 가능"
   ]
  },
  {
   "metadata": {
    "ExecuteTime": {
     "end_time": "2025-09-03T16:43:10.768710Z",
     "start_time": "2025-09-03T16:43:10.703538Z"
    }
   },
   "cell_type": "code",
   "source": [
    "fun multiply(operand1: Int, operand2: Int, label: String = \"The answer is\") =\n",
    "    \"$label ${operand1 * operand2}\"\n",
    "\n",
    "println(multiply(label = \"result\", operand1 = 2, operand2 = 2))"
   ],
   "outputs": [
    {
     "name": "stdout",
     "output_type": "stream",
     "text": [
      "result 4\n"
     ]
    }
   ],
   "execution_count": 4
  },
  {
   "metadata": {},
   "cell_type": "markdown",
   "source": [
    "### 5. 가변인자(Vararg)\n",
    "- `vararg` : 임의 개수의 인자를 받을 수 있음\n",
    "  - printColors(car1,car2,car3) 이런 식으로 여러 개 전달 가능\n",
    "- `vararg`는 함수에 한번만 가능\n",
    "- `vararg`가 마지막 파라미터가 아닐 경우, 함수 호출 시 이름 있는 인자 필술"
   ]
  },
  {
   "metadata": {
    "ExecuteTime": {
     "end_time": "2025-09-03T16:52:22.926252Z",
     "start_time": "2025-09-03T16:52:22.838630Z"
    }
   },
   "cell_type": "code",
   "source": [
    "data class Car(val color: String)\n",
    "\n",
    "val car1 = Car(\"red\")\n",
    "val car2 = Car(\"blue\")\n",
    "val car3 = Car(\"red\")\n",
    "val car4 = Car(\"blue\")\n",
    "\n",
    "fun printColors1(vararg cars: Car) {\n",
    "    for (car in cars) {\n",
    "        println(car.color)\n",
    "    }\n",
    "}\n",
    "\n",
    "printColors1(car1, car2)\n",
    "\n",
    "fun printColors2(vararg cars: Car, label: String) {\n",
    "    for (car in cars) {\n",
    "        println(car.color + \" \"+ label)\n",
    "    }\n",
    "}\n",
    "\n",
    "printColors2(car1, car2, label = \"my cars\")"
   ],
   "outputs": [
    {
     "name": "stdout",
     "output_type": "stream",
     "text": [
      "red\n",
      "blue\n",
      "red my cars\n",
      "blue my cars\n"
     ]
    }
   ],
   "execution_count": 11
  },
  {
   "metadata": {},
   "cell_type": "markdown",
   "source": [
    "### 6. 스프레드 연산자(*)\n",
    "- 배열을 vararg 함수에 인자로 전달가능\n",
    "- 코틀린에서 반드시 `*` 필요"
   ]
  },
  {
   "metadata": {
    "ExecuteTime": {
     "end_time": "2025-09-03T16:50:53.118059Z",
     "start_time": "2025-09-03T16:50:53.057754Z"
    }
   },
   "cell_type": "code",
   "source": [
    "val carArray = arrayOf(car1, car2)\n",
    "printColors1(*carArray)"
   ],
   "outputs": [
    {
     "name": "stdout",
     "output_type": "stream",
     "text": [
      "red\n",
      "blue\n"
     ]
    }
   ],
   "execution_count": 9
  },
  {
   "metadata": {},
   "cell_type": "markdown",
   "source": [
    "### 7. 스프레드 연산자 배열 병합\n",
    "- 두 배열을 하나로 합치고 싶을 때도 `*` 사용\n",
    "- *cars1 → cars1의 각 요소가 풀려서 들어감.\n",
    "- allCars는 car1 ~ car5를 모두 포함하는 배열."
   ]
  },
  {
   "metadata": {},
   "cell_type": "code",
   "outputs": [],
   "execution_count": null,
   "source": [
    "val cars1 = arrayOf(car1, car2)\n",
    "val cars2 = arrayOf(car3, car4)\n",
    "\n",
    "val car5 = Car(\"green\")\n",
    "val allCars = arrayOf(*cars1, *cars2, car5)\n",
    "\n",
    "println(allCars.toList())"
   ]
  },
  {
   "metadata": {},
   "cell_type": "markdown",
   "source": [
    "### 8. 클래스 내 함수 정의\n",
    "- 표현식으로 간결하게 표현 가능"
   ]
  },
  {
   "metadata": {
    "ExecuteTime": {
     "end_time": "2025-09-03T16:54:57.039256Z",
     "start_time": "2025-09-03T16:54:56.982675Z"
    }
   },
   "cell_type": "code",
   "source": [
    "class Employee(val firstName: String){\n",
    "    fun upper() = firstName.uppercase()\n",
    "}\n",
    "\n",
    "val e1 = Employee(\"json\")\n",
    "println(e1.upper())"
   ],
   "outputs": [
    {
     "name": "stdout",
     "output_type": "stream",
     "text": [
      "JSON\n"
     ]
    }
   ],
   "execution_count": 20
  }
 ],
 "metadata": {
  "kernelspec": {
   "display_name": "Kotlin",
   "language": "kotlin",
   "name": "kotlin"
  },
  "language_info": {
   "name": "kotlin",
   "version": "2.2.20-dev-4982",
   "mimetype": "text/x-kotlin",
   "file_extension": ".kt",
   "pygments_lexer": "kotlin",
   "codemirror_mode": "text/x-kotlin",
   "nbconvert_exporter": ""
  }
 },
 "nbformat": 4,
 "nbformat_minor": 0
}
