{
 "cells": [
  {
   "metadata": {},
   "cell_type": "markdown",
   "source": [
    "### 1. 비트 연산자(Bit Operators)\n",
    "\n",
    "#### 자바\n",
    "\n",
    "```java\n",
    "int x = 0x05;\n",
    "int y = 0x3D;\n",
    "int result = x | y; // OR\n",
    "```\n",
    "\n",
    "####  코틀린\n",
    "\n",
    "* 기호(`|`, `&`, `^`) 사용 x\n",
    "* **함수 형태로 사용**해야 함:\n",
    "\n",
    "```kotlin\n",
    "val x = 0x05\n",
    "val y = 0x3D\n",
    "val resultOr = x or y\n",
    "val resultAnd = x and y\n",
    "```\n",
    "\n",
    "> ➤ `x or y`, `x and y`, `x xor y` 와 같이 **단어 형태**로 사용해야 함\n",
    "\n",
    "---\n",
    "\n",
    "###  2. 타입 검사 & 캐스팅\n",
    "\n",
    "####  자바\n",
    "\n",
    "```java\n",
    "if (obj instanceof Employee) {\n",
    "    Employee e = (Employee) obj;\n",
    "    System.out.println(e.getName());\n",
    "}\n",
    "```\n",
    "\n",
    "#### 📌 코틀린\n",
    "\n",
    "* `is` 사용 (`instanceof` 대신)\n",
    "* `obj as Type` 사용 (`(Type)` 캐스팅 대신, )\n",
    "\n",
    "```kotlin\n",
    "val something: Any = employee\n",
    "if (something is Employee) {\n",
    "    println(something.name) //  스마트 캐스팅\n",
    "}\n",
    "```\n",
    "\n",
    "---\n",
    "\n",
    "###  스마트 캐스팅(Smart Casting)\n",
    "\n",
    "* `is`로 타입 체크 후, **자동으로 타입이 추론됨**\n",
    "* 따로 `as`로 캐스팅하지 않아도 사용 가능\n",
    "* 예시:\n",
    "\n",
    "```kotlin\n",
    "if (something is Employee) {\n",
    "    println(something.name) // 자동으로 Employee로 인식됨\n",
    "}\n",
    "```\n",
    "\n",
    "####  주의점\n",
    "\n",
    "* **값이 변경되면 스마트 캐스팅은 무효**\n",
    "\n",
    "```kotlin\n",
    "var something: Any = employee\n",
    "if (something is Employee) {\n",
    "    something = \"Now I'm a String\" // 값이 변경됨\n",
    "    println(something.name) // x 오류 발생: 더 이상 Employee가 아님\n",
    "}\n",
    "```"
   ]
  },
  {
   "cell_type": "code",
   "metadata": {
    "collapsed": true,
    "ExecuteTime": {
     "end_time": "2025-08-29T08:56:39.068067Z",
     "start_time": "2025-08-29T08:56:38.985836Z"
    }
   },
   "source": [
    "val text: Any = \"the Any Type is the root of the Kotlin class hierarchy\"\n",
    "if(text is String){\n",
    "    println(text.uppercase())\n",
    "}\n",
    "\n",
    "if(text is String){\n",
    "    println(text.lowercase() as String)\n",
    "}\n",
    "\n",
    "\n",
    "var text2: Any = \"test\"\n",
    "if(text2 is String){\n",
    "    text2 = 123\n",
    "    println(text2 is String) //false\n",
    "}"
   ],
   "outputs": [
    {
     "name": "stdout",
     "output_type": "stream",
     "text": [
      "THE ANY TYPE IS THE ROOT OF THE KOTLIN CLASS HIERARCHY\n",
      "the any type is the root of the kotlin class hierarchy\n",
      "false\n"
     ]
    }
   ],
   "execution_count": 12
  }
 ],
 "metadata": {
  "kernelspec": {
   "display_name": "Kotlin",
   "language": "kotlin",
   "name": "kotlin"
  },
  "language_info": {
   "name": "kotlin",
   "version": "2.2.20-dev-4982",
   "mimetype": "text/x-kotlin",
   "file_extension": ".kt",
   "pygments_lexer": "kotlin",
   "codemirror_mode": "text/x-kotlin",
   "nbconvert_exporter": ""
  }
 },
 "nbformat": 4,
 "nbformat_minor": 0
}
