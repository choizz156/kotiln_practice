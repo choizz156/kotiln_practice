{
 "cells": [
  {
   "metadata": {},
   "cell_type": "markdown",
   "source": [
    "# apply, with\n",
    "with나 apply 같은 함수형 스코프 함수를 사용할 때, 람다 블록 안에서는 이미 수신자 객체(receiver object)가 정해져 있기 때문에 this 생략\n",
    "## with 함수\n",
    "- 리시버가 있는 람다의 대표적인 예\n",
    "- 람다의 마지막 줄의 결과를 반환\n",
    "- with 함수는 전달된 인스턴스를 람다의 리시버로 변환\n",
    "  - 람다 내부에서는 해당 인스턴스의 멤버 함수나 프로퍼티를 호출할 때 인스턴스 이름을 반복해서 쓸 필요가 없음"
   ]
  },
  {
   "metadata": {
    "ExecuteTime": {
     "end_time": "2025-09-10T11:39:48.389329Z",
     "start_time": "2025-09-10T11:39:48.065018Z"
    }
   },
   "cell_type": "code",
   "source": [
    "fun countTo100WithWith(): String {\n",
    "    // 1. StringBuilder 인스턴스를 생성하고 with의 인스턴스로 전달\n",
    "    return with(StringBuilder()) {\n",
    "        // 바로 'append' 함수를 호출할 수 있음.\n",
    "        for (i in 1..99) {\n",
    "            append(i)\n",
    "            append(\", \")\n",
    "        }\n",
    "        // 마지막 숫자 100을 추가\n",
    "        append(100)\n",
    "\n",
    "        // with 함수는 람다의 마지막 줄의 결과를 반환한다.\n",
    "        // 여기서는 StringBuilder의 'toString()' 결과를 반환\n",
    "        toString()\n",
    "    }\n",
    "}\n",
    "\n",
    "println(countTo100WithWith())"
   ],
   "outputs": [
    {
     "name": "stdout",
     "output_type": "stream",
     "text": [
      "1, 2, 3, 4, 5, 6, 7, 8, 9, 10, 11, 12, 13, 14, 15, 16, 17, 18, 19, 20, 21, 22, 23, 24, 25, 26, 27, 28, 29, 30, 31, 32, 33, 34, 35, 36, 37, 38, 39, 40, 41, 42, 43, 44, 45, 46, 47, 48, 49, 50, 51, 52, 53, 54, 55, 56, 57, 58, 59, 60, 61, 62, 63, 64, 65, 66, 67, 68, 69, 70, 71, 72, 73, 74, 75, 76, 77, 78, 79, 80, 81, 82, 83, 84, 85, 86, 87, 88, 89, 90, 91, 92, 93, 94, 95, 96, 97, 98, 99, 100\n"
     ]
    }
   ],
   "execution_count": 1
  },
  {
   "metadata": {},
   "cell_type": "markdown",
   "source": [
    "## apply 함수\n",
    "- 리시버 객체를 사용\n",
    "- instance.apply { ... } 와 같이 확장 함수처럼 호출\n",
    "- 항상 수신자 객체 자체를 반환합니다.\n",
    "- 객체를 생성한 후 즉시 여러 프로퍼티를 설정하거나 멤버 함수를 호출하는 데 유용."
   ]
  },
  {
   "metadata": {
    "ExecuteTime": {
     "end_time": "2025-09-10T11:42:16.018974Z",
     "start_time": "2025-09-10T11:42:15.905146Z"
    }
   },
   "cell_type": "code",
   "source": [
    "fun countTo100WithApply(): String {\n",
    "    // 1. StringBuilder 인스턴스를 생성하고 apply를 호출\n",
    "    val numbers = StringBuilder().apply {\n",
    "        // 람다 내부에서 StringBuilder의 인스턴스 이름 생략 가능\n",
    "        for (i in 1..99) {\n",
    "            append(i)\n",
    "            append(\", \")\n",
    "        }\n",
    "        // 마지막 숫자 100 추가\n",
    "        append(100)\n",
    "    }\n",
    "    // 2. apply는 StringBuilder 인스턴스 자체를 반환하므로,\n",
    "    //    그 결과에 다시 toString()을 호출해야 함.\n",
    "    return numbers.toString()\n",
    "}\n",
    "println(countTo100WithApply())"
   ],
   "outputs": [
    {
     "name": "stdout",
     "output_type": "stream",
     "text": [
      "1, 2, 3, 4, 5, 6, 7, 8, 9, 10, 11, 12, 13, 14, 15, 16, 17, 18, 19, 20, 21, 22, 23, 24, 25, 26, 27, 28, 29, 30, 31, 32, 33, 34, 35, 36, 37, 38, 39, 40, 41, 42, 43, 44, 45, 46, 47, 48, 49, 50, 51, 52, 53, 54, 55, 56, 57, 58, 59, 60, 61, 62, 63, 64, 65, 66, 67, 68, 69, 70, 71, 72, 73, 74, 75, 76, 77, 78, 79, 80, 81, 82, 83, 84, 85, 86, 87, 88, 89, 90, 91, 92, 93, 94, 95, 96, 97, 98, 99, 100\n"
     ]
    }
   ],
   "execution_count": 3
  },
  {
   "metadata": {},
   "cell_type": "markdown",
   "source": [
    "## 람다 내 return 문\n",
    "- 비지역 반환(non-local return) : 기본적으로 `return`은 람다가 속해 있는 함수 전체를 종료\n",
    "- 지역 반환(local return) : 람다 내에서 `return`이 람다 자체만을 종료시키고, 바깥 함수의 실행을 계속하게 하려면 `label`을 사용해야함."
   ]
  },
  {
   "metadata": {
    "ExecuteTime": {
     "end_time": "2025-09-10T11:46:17.738565Z",
     "start_time": "2025-09-10T11:46:17.650847Z"
    }
   },
   "cell_type": "code",
   "source": [
    "data class Employee(val lastName: String, val startYear: Int)\n",
    "\n",
    "fun findByLastName(employees: List<Employee>, lastName: String) {\n",
    "    // 람다에 'returnBlock' 이라는 라벨을 붙임\n",
    "    employees.forEach returnBlock@{ employee ->\n",
    "        if (employee.lastName == lastName) {\n",
    "            println(\"Yes, there's an employee with the last name $lastName\")\n",
    "            // 'return@returnBlock'은 람다만 종료하고, 함수는 계속 실행\n",
    "            return@returnBlock\n",
    "        }\n",
    "    }\n",
    "    println(\"Nope, there is no employee with the last name $lastName\")\n",
    "}\n",
    "\n",
    "val employees = listOf(\n",
    "    Employee(\"jhon\", 29),\n",
    "    Employee(\"junn\", 23),\n",
    "    Employee(\"jakn\", 20)\n",
    ")\n",
    "\n",
    "findByLastName(employees, \"jhon\")"
   ],
   "outputs": [
    {
     "name": "stdout",
     "output_type": "stream",
     "text": [
      "Yes, there's an employee with the last name jhon\n",
      "Nope, there is no employee with the last name jhon\n"
     ]
    }
   ],
   "execution_count": 8
  },
  {
   "metadata": {},
   "cell_type": "markdown",
   "source": [
    "### 중첩된 with, apply에서 라벨 사용\n",
    "- 중첩된 람다에서 바깥쪽 람다의 리시버 객체에 접근하려면 라벨을 사용해야함.\n",
    "- `this` 키워드는 가장 가까운 람다의 수신자를 가리킴"
   ]
  },
  {
   "metadata": {
    "ExecuteTime": {
     "end_time": "2025-09-10T11:54:51.737353Z",
     "start_time": "2025-09-10T11:54:51.638291Z"
    }
   },
   "cell_type": "code",
   "source": [
    "\n",
    "val outerString = \"Outer String\"\n",
    "\n",
    "// 1. 바깥쪽 apply 블록에 'outerLabel' 라벨을 붙입니다.\n",
    "outerString.apply outerLabel@{\n",
    "    println(\"바깥쪽 람다: this는 '$this' 입니다.\")\n",
    "\n",
    "    val innerString = \"Inner String\"\n",
    "\n",
    "    // 2. 안쪽 apply 블록은 라벨이 없습니다.\n",
    "    innerString.apply {\n",
    "        println(\"안쪽 람다: this는 '$this' 입니다.\")\n",
    "\n",
    "        // 3. 'toLowerCase()'는 'this'를 사용하며,\n",
    "        //    가장 가까운 수신자인 innerString에 적용됩니다.\n",
    "        println(\"안쪽 람다에서 'toLowerCase()': '${lowercase()}'\")\n",
    "\n",
    "        // 4. 'this@outerLabel'을 사용해 바깥쪽 람다의 수신자(outerString)에 접근합니다.\n",
    "        println(\"안쪽 람다에서 바깥쪽 'this@outerLabel': '${this@outerLabel}'\")\n",
    "        println(\"바깥쪽 this를 이용한 'toUpperCase()': '${this@outerLabel.uppercase()}'\")\n",
    "    }\n",
    "}"
   ],
   "outputs": [
    {
     "name": "stdout",
     "output_type": "stream",
     "text": [
      "바깥쪽 람다: this는 'Outer String' 입니다.\n",
      "안쪽 람다: this는 'Inner String' 입니다.\n",
      "안쪽 람다에서 'toLowerCase()': 'inner string'\n",
      "안쪽 람다에서 바깥쪽 'this@outerLabel': 'Outer String'\n",
      "바깥쪽 this를 이용한 'toUpperCase()': 'OUTER STRING'\n"
     ]
    },
    {
     "data": {
      "text/plain": [
       "Outer String"
      ]
     },
     "execution_count": 11,
     "metadata": {},
     "output_type": "execute_result"
    }
   ],
   "execution_count": 11
  }
 ],
 "metadata": {
  "kernelspec": {
   "display_name": "Kotlin",
   "language": "kotlin",
   "name": "kotlin"
  },
  "language_info": {
   "name": "kotlin",
   "version": "2.2.20-dev-4982",
   "mimetype": "text/x-kotlin",
   "file_extension": ".kt",
   "pygments_lexer": "kotlin",
   "codemirror_mode": "text/x-kotlin",
   "nbconvert_exporter": ""
  }
 },
 "nbformat": 4,
 "nbformat_minor": 0
}
