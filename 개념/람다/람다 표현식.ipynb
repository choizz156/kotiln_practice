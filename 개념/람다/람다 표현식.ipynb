{
 "cells": [
  {
   "cell_type": "markdown",
   "id": "c67a7439",
   "metadata": {},
   "source": [
    "# 1. 람다 표현식\n",
    "\n",
    "## 람다 표현식 기본\n",
    "- `{}`안에 작성, 변수에 저장할수도 있음\n",
    "- `run` 함수를 사용하면 람다를 직접 실행 가능"
   ]
  },
  {
   "cell_type": "code",
   "execution_count": null,
   "id": "be0e1b19",
   "metadata": {
    "vscode": {
     "languageId": "plaintext"
    }
   },
   "outputs": [],
   "source": [
    "run{\n",
    "    println(\"실행\")\n",
    "}"
   ]
  },
  {
   "cell_type": "markdown",
   "id": "a5d70394",
   "metadata": {},
   "source": [
    "## 2. 컬렌션과 람다\n",
    "- 컬렉션과 자주 사용"
   ]
  },
  {
   "cell_type": "code",
   "execution_count": null,
   "id": "39b26d41",
   "metadata": {
    "vscode": {
     "languageId": "plaintext"
    }
   },
   "outputs": [],
   "source": [
    "data class Employee(val firstName: String, val age: Int)\n",
    "\n",
    "val employees = listOf(\n",
    "    Employee(\"jhon\", 29),\n",
    "    Employee(\"junn\", 23),\n",
    "      Employee(\"jakn\", 20)\n",
    ")\n",
    "\n",
    "val ret = employees.minBy{ it.age }\n",
    "println(ret)\n",
    "\n",
    "//후행람다\n",
    "fun repeatAction(times: Int, action: () -> Unit) {\n",
    "    for (i in 1..times) {\n",
    "        action()\n",
    "    }\n",
    "}\n",
    "\n",
    "repeatAction(3) { println(\"Hello, Kotlin!\") }\n",
    "\n",
    "//() 생략\n",
    "fun runAction(action: () -> Unit) {\n",
    "    action()\n",
    "}\n",
    "\n",
    "runAction { println(\"This is a single parameter lambda.\") }"
   ]
  },
  {
   "cell_type": "markdown",
   "id": "9d7755d7",
   "metadata": {},
   "source": [
    "- minBy 함수는 람다를 파라미터로 받아 컬렉션의 최소값 기준을 계산.\n",
    "- it 키워드를 사용하여 더 간결하게 표현 가능.\n",
    "- 후행 람다: 람다가 함수 파라미터의 마지막에 위치한다면, () 밖에서 작성 가능\n",
    "    - 아니라면 () 안에 작성해야함.\n",
    "- 람다가 유일한 파라미터일 경우 괄호 생략 가능\n",
    "\n",
    "\n",
    "## 3. 스코프(scope)와 람다\n",
    "- 람다는 자신이 선언되기 이전에 정의된 지역 변수에 접근 가능.\n",
    "- 함수 파라미터도 접근 가능하지만, val로 선언되므로 값 변경은 불가."
   ]
  },
  {
   "cell_type": "code",
   "execution_count": null,
   "id": "a1a87341",
   "metadata": {
    "vscode": {
     "languageId": "plaintext"
    }
   },
   "outputs": [],
   "source": [
    "var num = 10\n",
    "run {\n",
    "    num += 15\n",
    "    println(num) // 25\n",
    "}\n",
    "\n",
    "fun useParameter(employees: List<Employee>, num: Int) {\n",
    "    employees.forEach {\n",
    "        println(it.firstName)\n",
    "        println(num) // 읽기 가능\n",
    "    }\n",
    "}"
   ]
  },
  {
   "cell_type": "markdown",
   "id": "99e94ecb",
   "metadata": {},
   "source": [
    "## 3. 멤버 참조(::)\n",
    "- 람다가 단순히 속성 접근 또는 인자가 없는 최상위 함수만 호출할 때, 멤버 참조 사용 가능\n",
    "- `클래스명::속성명` 또는 `::함수명`"
   ]
  },
  {
   "cell_type": "code",
   "execution_count": null,
   "id": "87884ba8",
   "metadata": {
    "vscode": {
     "languageId": "plaintext"
    }
   },
   "outputs": [],
   "source": [
    "val ret = employees.minBy(Employee::age)\n",
    "\n",
    "//최상위 함수일 경우\n",
    "fun topLevel() = println(\"함수 안에서 실행\")\n",
    "run(::topLevel)"
   ]
  }
 ],
 "metadata": {
  "language_info": {
   "name": "python"
  }
 },
 "nbformat": 4,
 "nbformat_minor": 5
}
