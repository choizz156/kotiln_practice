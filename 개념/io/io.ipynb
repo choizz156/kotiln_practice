{
 "cells": [
  {
   "cell_type": "code",
   "execution_count": null,
   "metadata": {
    "collapsed": true
   },
   "outputs": [],
   "source": [
    ""
   ]
  },
  {
   "metadata": {},
   "cell_type": "markdown",
   "source": [
    "# 코틀린 io\n",
    "- java의 기존 io 클래스를 기반으로 확장 함수를 제공하여 파일 입출력 처리(실제 클래스가 확장된 것은 아님)\n",
    "- io를 다룰때는 항상 jdk의 io 클래슬르 활용\n",
    "\n",
    "## 1. File 클래스와 확장 함수\n",
    "- 파일 읽기 (reader, bufferedReader, readLines, readText)\n",
    "- 파일 쓰기\n",
    "- 파일 트리 탐색\n",
    "- 재귀적 복사 등 기타 유틸 기능\n",
    "\n",
    "### readLines()\n",
    "- 파일 전체를 한 번에 읽거 List<String>으로 반환\n",
    "- 각 원소는 파일의 한줄에 해당\n",
    "- 작은 파일에 적합\n",
    "- 내부적으로 스트림을 닫아줌\n",
    "- 대용량 파일에서 비효율적(메모리 전체를 적제)"
   ]
  },
  {
   "metadata": {},
   "cell_type": "code",
   "outputs": [],
   "execution_count": null,
   "source": [
    "import java.io.File\n",
    "\n",
    "val lines = File(\"test.txt\").readLines()\n",
    "lines.forEach { println(it)}"
   ]
  },
  {
   "metadata": {},
   "cell_type": "markdown",
   "source": [
    "### readText()\n",
    "- 파일 전체 내용을 하나의 문자열로 읽는다\n",
    "- 자동으로 스트림을 닫아줌\n",
    "- 파일 크기 제한(2G)가 존쟆"
   ]
  },
  {
   "metadata": {},
   "cell_type": "code",
   "outputs": [],
   "execution_count": null,
   "source": [
    "val text = File(\"test.txt\").readText()\n",
    "println(text)"
   ]
  },
  {
   "metadata": {},
   "cell_type": "markdown",
   "source": [
    "### reader().readText()\n",
    "- File 객체에서 Reader를 얻어 직접 읽음\n",
    "- 개발자가 직접 닫아야함.\n",
    "- 파일 크기 제한이 없어 대용량 파일도 처리 가능\n",
    "\n",
    "#### use\n",
    "- {}이 끝나면 리소스를 자동으로 닫아줌\n",
    "- try with resource와 같음"
   ]
  },
  {
   "metadata": {},
   "cell_type": "code",
   "outputs": [],
   "execution_count": null,
   "source": [
    "val reader = File(\"test.txt\").reader()\n",
    "val text = reader.readText()\n",
    "println(text)\n",
    "reader.close()\n",
    "\n",
    "val text2 = File(\"test.txt\").reader().use { it.readText() }\n",
    "println(text2)"
   ]
  },
  {
   "metadata": {},
   "cell_type": "markdown",
   "source": [
    "### forEachLine()\n",
    "- 파일을 한 줄씩 읽으면서 바로 처리\n",
    "- 내부적으로 `useLines`를 사용하므로 자동으로 닫힘\n",
    "- 대용량 파일에 적합"
   ]
  },
  {
   "metadata": {
    "ExecuteTime": {
     "end_time": "2025-09-18T13:10:13.265781Z",
     "start_time": "2025-09-18T13:10:13.171933Z"
    }
   },
   "cell_type": "code",
   "source": "File(\"test.txt\").forEachLine { println(it) }",
   "outputs": [
    {
     "name": "stdout",
     "output_type": "stream",
     "text": [
      "ㄴㅇㄹㄴㅇㄹㄴㅇㄹㄴ\n",
      "sdfsdfsdfsd\n",
      "12351\n"
     ]
    }
   ],
   "execution_count": 8
  },
  {
   "metadata": {},
   "cell_type": "markdown",
   "source": [
    "### userLines()\n",
    "- Sequence<String>으로 제공\n",
    "- 스트림을 자동으로 닫아 줌"
   ]
  },
  {
   "metadata": {
    "ExecuteTime": {
     "end_time": "2025-09-18T13:11:37.979610Z",
     "start_time": "2025-09-18T13:11:37.860259Z"
    }
   },
   "cell_type": "code",
   "source": [
    "File(\"test.txt\").useLines {\n",
    "    seq -> seq.forEach{println(it)}\n",
    " }"
   ],
   "outputs": [
    {
     "name": "stdout",
     "output_type": "stream",
     "text": [
      "ㄴㅇㄹㄴㅇㄹㄴㅇㄹㄴ\n",
      "sdfsdfsdfsd\n",
      "12351\n"
     ]
    }
   ],
   "execution_count": 9
  },
  {
   "metadata": {},
   "cell_type": "markdown",
   "source": [
    "## 2. 리소스 관리\n",
    "- 함수 이름에 `use`가 포함되어 있으면 리소스를 닫아줌\n",
    "- 그렇지 않은 경우, 선언부를 확인해야함\n",
    "- `forEachLine`, `useLines`, `File.readText()` 같은 함수들은 내부적으로 닫아준다.\n",
    "\n",
    "## 3. 사용 시 주의점\n",
    "- 작은 파일 → readLines() 또는 readText().\n",
    "- 대용량 파일 → forEachLine() 또는 useLines().\n",
    "- 명시적 자원 해제 필요 → reader() 계열 함수 사용 시 close()"
   ]
  },
  {
   "metadata": {},
   "cell_type": "code",
   "outputs": [],
   "execution_count": null,
   "source": ""
  }
 ],
 "metadata": {
  "kernelspec": {
   "display_name": "Kotlin",
   "language": "kotlin",
   "name": "kotlin"
  },
  "language_info": {
   "name": "kotlin",
   "version": "2.2.20-dev-4982",
   "mimetype": "text/x-kotlin",
   "file_extension": ".kt",
   "pygments_lexer": "kotlin",
   "codemirror_mode": "text/x-kotlin",
   "nbconvert_exporter": ""
  }
 },
 "nbformat": 4,
 "nbformat_minor": 0
}
