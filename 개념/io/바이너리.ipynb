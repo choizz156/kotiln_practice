{
 "cells": [
  {
   "cell_type": "code",
   "execution_count": null,
   "metadata": {
    "collapsed": true
   },
   "outputs": [],
   "source": [
    ""
   ]
  },
  {
   "metadata": {},
   "cell_type": "markdown",
   "source": [
    "# 바이너리 파일 처리\n",
    "- 코틀린에서 대부분의 경우는 java 것을 사용하지만, 확장함수가 제한적이라 java 것을 직접 사용\n",
    "\n",
    "## 1. 바이너리 파일 읽기\n",
    "### readBytes()\n",
    "- File 클래스의 확장 함수\n",
    "- 파일 전체를 ByteArray로 읽음\n",
    "- 2g 파일 제한\n",
    "- 파일 전체를 메모리에 적재하기 때문에 대용량에는 적합하지 않음"
   ]
  },
  {
   "metadata": {
    "ExecuteTime": {
     "end_time": "2025-09-18T13:21:20.885218Z",
     "start_time": "2025-09-18T13:21:20.819044Z"
    }
   },
   "cell_type": "code",
   "source": [
    "import java.io.File\n",
    "\n",
    "val bytes = File(\"test.bin\").readBytes()\n",
    "println(bytes)"
   ],
   "outputs": [
    {
     "name": "stdout",
     "output_type": "stream",
     "text": [
      "[B@4e2eaffa\n"
     ]
    }
   ],
   "execution_count": 2
  },
  {
   "metadata": {},
   "cell_type": "markdown",
   "source": [
    "### Java io 사용\n",
    "- `readUTF()` 메서드는 문자열 길이 정보(2 바이트)와 문자열 데이터를 함께 읽음\n",
    "- EOF 예외 발생 시 파일 끝에 도달했음을 알 수 있음"
   ]
  },
  {
   "metadata": {
    "ExecuteTime": {
     "end_time": "2025-09-18T13:22:14.387113Z",
     "start_time": "2025-09-18T13:22:14.206989Z"
    }
   },
   "cell_type": "code",
   "source": [
    "import java.io.DataInputStream\n",
    "import java.io.EOFException\n",
    "import java.io.FileInputStream\n",
    "\n",
    "val di = DataInputStream(FileInputStream(\"test.bin\"))\n",
    "var data: String? = null\n",
    "try {\n",
    "    while (true) {\n",
    "        data = di.readUTF()\n",
    "        println(data)\n",
    "    }\n",
    "} catch (e: EOFException) {\n",
    "}"
   ],
   "outputs": [],
   "execution_count": 3
  }
 ],
 "metadata": {
  "kernelspec": {
   "display_name": "Kotlin",
   "language": "kotlin",
   "name": "kotlin"
  },
  "language_info": {
   "name": "kotlin",
   "version": "2.2.20-dev-4982",
   "mimetype": "text/x-kotlin",
   "file_extension": ".kt",
   "pygments_lexer": "kotlin",
   "codemirror_mode": "text/x-kotlin",
   "nbconvert_exporter": ""
  }
 },
 "nbformat": 4,
 "nbformat_minor": 0
}
