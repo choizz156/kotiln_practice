{
 "cells": [
  {
   "cell_type": "code",
   "execution_count": null,
   "metadata": {
    "collapsed": true
   },
   "outputs": [],
   "source": [
    ""
   ]
  },
  {
   "metadata": {},
   "cell_type": "markdown",
   "source": [
    "# 파일 트리 순회 함수\n",
    "### walk()\n",
    "- `File.walk()`는 파일 트리를 순회할 때 사용되는 확장 함수.\n",
    "- 인자로 순회 방향(FileWalkDirection)을 줄 수 있음.\n",
    "  - `TOP_DOWN`: 상위 디렉토리 → 하위 디렉토리 (디렉토리를 먼저 방문 후 파일)\n",
    "    -  `walkTopDown()`: 디렉토리 → 파일 순서\n",
    "  - `BOTTOM_UP`: 하위 파일/디렉토리 → 상위 디렉토리 (파일 먼저 방문 후 디렉토리)\n",
    "    - `walkBottomUp()`: 파일 → 디렉토리 순서"
   ]
  },
  {
   "metadata": {
    "ExecuteTime": {
     "end_time": "2025-09-18T13:35:04.185571Z",
     "start_time": "2025-09-18T13:35:04.086685Z"
    }
   },
   "cell_type": "code",
   "source": [
    "import java.io.File\n",
    "\n",
    "    val root = File(\".\") // 현재 프로젝트 디렉토리\n",
    "    root.walkTopDown().forEach { file ->\n",
    "        println(file)\n",
    "    }\n",
    "\n",
    "    println(\"walkBottomUp\")\n",
    "    val root1 = File(\".\") // 현재 프로젝트 디렉토리\n",
    "    root1.walkBottomUp().forEach { file ->\n",
    "        println(file)\n",
    "    }\n"
   ],
   "outputs": [
    {
     "name": "stdout",
     "output_type": "stream",
     "text": [
      ".\n",
      "./바이너리.ipynb\n",
      "./파일 트리 순회.ipynb\n",
      "./io.ipynb\n",
      "./test.bin\n",
      "./test.txt\n",
      "walkBottomUp\n",
      "./바이너리.ipynb\n",
      "./파일 트리 순회.ipynb\n",
      "./io.ipynb\n",
      "./test.bin\n",
      "./test.txt\n",
      ".\n"
     ]
    }
   ],
   "execution_count": 11
  },
  {
   "metadata": {},
   "cell_type": "markdown",
   "source": "### 특정 확장자만 필터링(`.kt` 파일만 출력)\n"
  },
  {
   "metadata": {
    "ExecuteTime": {
     "end_time": "2025-09-18T13:30:38.430544Z",
     "start_time": "2025-09-18T13:30:38.345298Z"
    }
   },
   "cell_type": "code",
   "source": [
    "val root = File(\".\")\n",
    "root.walkTopDown()\n",
    "    .filter { it.isFile && it.extension == \"txt\" }\n",
    "    .forEach { println(it) }"
   ],
   "outputs": [
    {
     "name": "stdout",
     "output_type": "stream",
     "text": [
      "./test.txt\n"
     ]
    }
   ],
   "execution_count": 8
  },
  {
   "metadata": {},
   "cell_type": "markdown",
   "source": [
    "### 디렉토리 진입 제어\n",
    "- `onEnter {}` : 디렉토리 진입 전 실행 (false 반환 시 해당 디렉토리 무시)\n",
    "- `onLeave {}` : 디렉토리 탐색 후 실행"
   ]
  },
  {
   "metadata": {
    "ExecuteTime": {
     "end_time": "2025-09-18T13:31:40.053614Z",
     "start_time": "2025-09-18T13:31:39.915898Z"
    }
   },
   "cell_type": "code",
   "source": [
    "File(\".\").walkTopDown()\n",
    "    .onEnter { dir ->\n",
    "        println(\"Entering: ${dir.name}\")\n",
    "        true // false 반환하면 이 디렉토리는 탐색 안 함\n",
    "    }\n",
    "    .onLeave { dir ->\n",
    "        println(\"Leaving: ${dir.name}\")\n",
    "    }\n",
    "    .forEach { println(\"File: $it\") }"
   ],
   "outputs": [
    {
     "name": "stdout",
     "output_type": "stream",
     "text": [
      "Entering: .\n",
      "File: .\n",
      "File: ./바이너리.ipynb\n",
      "File: ./파일 트리 순회.ipynb\n",
      "File: ./io.ipynb\n",
      "File: ./test.bin\n",
      "File: ./test.txt\n",
      "Leaving: .\n"
     ]
    }
   ],
   "execution_count": 9
  }
 ],
 "metadata": {
  "kernelspec": {
   "display_name": "Kotlin",
   "language": "kotlin",
   "name": "kotlin"
  },
  "language_info": {
   "name": "kotlin",
   "version": "2.2.20-dev-4982",
   "mimetype": "text/x-kotlin",
   "file_extension": ".kt",
   "pygments_lexer": "kotlin",
   "codemirror_mode": "text/x-kotlin",
   "nbconvert_exporter": ""
  }
 },
 "nbformat": 4,
 "nbformat_minor": 0
}
